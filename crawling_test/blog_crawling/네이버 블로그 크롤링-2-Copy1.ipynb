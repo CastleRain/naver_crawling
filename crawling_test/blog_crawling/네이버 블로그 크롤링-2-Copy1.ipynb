{
 "cells": [
  {
   "cell_type": "code",
   "execution_count": 1,
   "id": "e21dbf22",
   "metadata": {
    "ExecuteTime": {
     "end_time": "2022-04-18T04:40:51.765178Z",
     "start_time": "2022-04-18T04:40:49.107113Z"
    }
   },
   "outputs": [],
   "source": [
    "# 시스템\n",
    "import os\n",
    "import sys\n",
    "import re\n",
    "# 크롤링\n",
    "import urllib.request\n",
    "import requests\n",
    "import json\n",
    "from scrapy.http import TextResponse\n",
    "from bs4 import BeautifulSoup\n",
    "from selenium import webdriver\n",
    "from tqdm import tqdm\n",
    "\n",
    "import pandas as pd"
   ]
  },
  {
   "cell_type": "code",
   "execution_count": 2,
   "id": "a6c43762",
   "metadata": {
    "ExecuteTime": {
     "end_time": "2022-04-18T04:40:51.780750Z",
     "start_time": "2022-04-18T04:40:51.768184Z"
    }
   },
   "outputs": [],
   "source": [
    "# 태그 데이터를 삭제하는 코드\n",
    "def tag_remove(word):\n",
    "\n",
    "    word = re.sub('(<([^>]+)>)', '', word)\n",
    "\n",
    "    return word\n",
    "\n",
    "# 한글만 남기는 코드\n",
    "def preprocess_sentence_kr(w):\n",
    "    w = w.strip()\n",
    "    w = re.sub(r\"[^0-9가-힣?.!,¿]+\", \" \", w) # \\n도 공백으로 대체해줌\n",
    "    w = w.strip()\n",
    "    return w"
   ]
  },
  {
   "cell_type": "code",
   "execution_count": 3,
   "id": "c14ea791",
   "metadata": {
    "ExecuteTime": {
     "end_time": "2022-04-18T04:40:51.795749Z",
     "start_time": "2022-04-18T04:40:51.782765Z"
    }
   },
   "outputs": [],
   "source": [
    "def blog_content_parsing(url):\n",
    "    blog_req = requests.get(url)\n",
    "    blog_bs = BeautifulSoup(blog_req.text, \"html.parser\")\n",
    "    \n",
    "    result = []\n",
    "    \n",
    "    for i in blog_bs.select(\".se-text\"):\n",
    "        for j in i.select(\".se-module-text > p\"):\n",
    "            txt = j.text\n",
    "            if txt != \"\\u200b\":\n",
    "                result.append(preprocess_sentence_kr(txt))  \n",
    "                \n",
    "    return \" \".join(result)"
   ]
  },
  {
   "cell_type": "code",
   "execution_count": 4,
   "id": "d71d78cc",
   "metadata": {
    "ExecuteTime": {
     "end_time": "2022-04-18T04:40:51.810496Z",
     "start_time": "2022-04-18T04:40:51.798750Z"
    }
   },
   "outputs": [],
   "source": [
    "# blog가 네이버 블로그인지 아닌지 판별하는 코드\n",
    "\n",
    "def naver_blog_check(code):\n",
    "    \n",
    "    if code[0].isdigit():\n",
    "        return False\n",
    "    else:\n",
    "        return True\n",
    "    "
   ]
  },
  {
   "cell_type": "code",
   "execution_count": 5,
   "id": "8c3c9fde",
   "metadata": {
    "ExecuteTime": {
     "end_time": "2022-04-18T04:40:51.825406Z",
     "start_time": "2022-04-18T04:40:51.812407Z"
    }
   },
   "outputs": [],
   "source": [
    "# 글자 수 중 반 이상이 title에 들어가있다면 패스 아니면 해당 내용은 다른 내용이라고 판단한다.\n",
    "\n",
    "def naver_title_check(search_word, title):\n",
    "    total_cnt = len(title.split())\n",
    "    cnt = 0\n",
    "    \n",
    "    for word in search_word.split():\n",
    "        \n",
    "        if word in title:\n",
    "            cnt += 1\n",
    "            \n",
    "    if total_cnt// 2 <= cnt:\n",
    "        return False\n",
    "    else:\n",
    "        return True \n",
    "        \n",
    "        "
   ]
  },
  {
   "cell_type": "code",
   "execution_count": 13,
   "id": "a8a32f12",
   "metadata": {
    "ExecuteTime": {
     "end_time": "2022-04-18T04:45:48.229623Z",
     "start_time": "2022-04-18T04:45:48.218711Z"
    }
   },
   "outputs": [],
   "source": [
    "# 검색 결과가 title에 들어가있다면 해당 내용을 없앤다.\n",
    "# 아니면 해당 내용은 다른 내용이라고 판단한다.\n",
    "\n",
    "# 띄어쓰기를 안하고 -로 나눈경우\n",
    "# \n",
    "\n",
    "def naver_title_check(search_word, title):\n",
    "    # -로 제품이 안나뉜 경우 -> 소문자로만 판단\n",
    "     \n",
    "    total_cnt = len(search_word.split())\n",
    "    cnt = 0\n",
    "    \n",
    "    for word in search_word.split():\n",
    "        word = word.lower()\n",
    "        if word in title.lower(): # 대소문자 구분 x\n",
    "            cnt += 1\n",
    "    if total_cnt == cnt:\n",
    "        return False\n",
    "    else:\n",
    "        return True "
   ]
  },
  {
   "cell_type": "code",
   "execution_count": 27,
   "id": "dc350242",
   "metadata": {
    "ExecuteTime": {
     "end_time": "2022-04-18T05:11:18.230327Z",
     "start_time": "2022-04-18T05:11:18.217103Z"
    }
   },
   "outputs": [
    {
     "data": {
      "text/plain": [
       "20"
      ]
     },
     "execution_count": 27,
     "metadata": {},
     "output_type": "execute_result"
    }
   ],
   "source": [
    "len(\"sdf asdfs sdfefv dfs\")"
   ]
  },
  {
   "cell_type": "code",
   "execution_count": 30,
   "id": "70576c6a",
   "metadata": {
    "ExecuteTime": {
     "end_time": "2022-04-18T05:13:15.226406Z",
     "start_time": "2022-04-18T05:13:15.213857Z"
    }
   },
   "outputs": [],
   "source": [
    "asdf = \"MLKFMKALSF\""
   ]
  },
  {
   "cell_type": "code",
   "execution_count": 31,
   "id": "9a38edd7",
   "metadata": {
    "ExecuteTime": {
     "end_time": "2022-04-18T05:13:15.241711Z",
     "start_time": "2022-04-18T05:13:15.229408Z"
    }
   },
   "outputs": [
    {
     "data": {
      "text/plain": [
       "'mlkfmkalsf'"
      ]
     },
     "execution_count": 31,
     "metadata": {},
     "output_type": "execute_result"
    }
   ],
   "source": [
    "asdf.lower()"
   ]
  },
  {
   "cell_type": "code",
   "execution_count": 37,
   "id": "dc0d2864",
   "metadata": {
    "ExecuteTime": {
     "end_time": "2022-04-18T05:14:54.111906Z",
     "start_time": "2022-04-18T05:14:54.100259Z"
    }
   },
   "outputs": [],
   "source": [
    "# 모든 단어를 하나씩 나누어서 확인하자.\n",
    "# \n",
    "\n",
    "def naver_title_check(search_word, title):\n",
    "     \n",
    "    search_word = preprocess_sentence_kr(search_word)\n",
    "    \n",
    "    for words in search_word.split():\n",
    "        for word in words:\n",
    "            if word.lower() not in title.lower():\n",
    "                return True\n",
    "            \n"
   ]
  },
  {
   "cell_type": "code",
   "execution_count": 24,
   "id": "22aae7c5",
   "metadata": {
    "ExecuteTime": {
     "end_time": "2022-04-18T05:03:14.121659Z",
     "start_time": "2022-04-18T05:03:14.108667Z"
    }
   },
   "outputs": [
    {
     "data": {
      "text/plain": [
       "'wf-wfs'"
      ]
     },
     "execution_count": 24,
     "metadata": {},
     "output_type": "execute_result"
    }
   ],
   "source": [
    "\"wf-wfs\".split()[0].lower()"
   ]
  },
  {
   "cell_type": "code",
   "execution_count": 25,
   "id": "27cd7411",
   "metadata": {
    "ExecuteTime": {
     "end_time": "2022-04-18T05:03:30.223682Z",
     "start_time": "2022-04-18T05:03:30.210690Z"
    }
   },
   "outputs": [
    {
     "data": {
      "text/plain": [
       "'wf-wefs'"
      ]
     },
     "execution_count": 25,
     "metadata": {},
     "output_type": "execute_result"
    }
   ],
   "source": [
    "if \"WF-WEFS\".lower()"
   ]
  },
  {
   "cell_type": "code",
   "execution_count": 21,
   "id": "db070dfc",
   "metadata": {
    "ExecuteTime": {
     "end_time": "2022-04-18T05:01:39.118398Z",
     "start_time": "2022-04-18T05:01:39.105390Z"
    }
   },
   "outputs": [
    {
     "data": {
      "text/plain": [
       "1"
      ]
     },
     "execution_count": 21,
     "metadata": {},
     "output_type": "execute_result"
    }
   ],
   "source": [
    "len(\"wf-wfs\".split())"
   ]
  },
  {
   "cell_type": "code",
   "execution_count": 19,
   "id": "688241a1",
   "metadata": {
    "ExecuteTime": {
     "end_time": "2022-04-18T04:58:34.110818Z",
     "start_time": "2022-04-18T04:58:34.097754Z"
    }
   },
   "outputs": [
    {
     "name": "stdout",
     "output_type": "stream",
     "text": [
      "yes\n"
     ]
    }
   ],
   "source": [
    "if naver_title_check(\"wf-wfs\", \"WF-WEFS\"):\n",
    "    print(\"yes\")\n",
    "else:\n",
    "    print(\"no\")"
   ]
  },
  {
   "cell_type": "code",
   "execution_count": 20,
   "id": "2a1cb6f1",
   "metadata": {
    "ExecuteTime": {
     "end_time": "2022-04-18T02:06:14.142704Z",
     "start_time": "2022-04-18T02:06:14.117759Z"
    }
   },
   "outputs": [],
   "source": [
    "# 이름이 들어오면 해당 내용을 이용하여 블로그를 파싱한다.\n",
    "\n",
    "# search_word : 어떤 제품을 검색하는지\n",
    "# repeat_num : 해당 제품이 제목에서 몇번 안나올때까지 검색을 진행할 지\n",
    "def item_parsing(search_word, start, display, repeat_num):\n",
    "\n",
    "    \n",
    "    blog_search = naver_api(search_word, start, display)\n",
    "    print(\"start ++++++++++++++++++++\")\n",
    "    \n",
    "    # result : url\n",
    "    # writer : 작성자 이름\n",
    "    # code : 블로그 코드\n",
    "    # title : 블로그 제목\n",
    "    # description : 블로그 요약 설명\n",
    "    blog_result = []\n",
    "    blog_writer = []\n",
    "    blog_code = []\n",
    "    blog_title = []\n",
    "    blog_description = []\n",
    "    \n",
    "    repeat = True\n",
    "    cnt = 0\n",
    "    # 제목에서 해당 제품의 이름이 5번 연속 안나온다면 패스\n",
    "    while repeat:\n",
    "        \n",
    "        if cnt == 3:\n",
    "            break\n",
    "        \n",
    "        for blog in blog_search[\"items\"]:\n",
    "            \n",
    "             # 블로그 코드\n",
    "            code = blog[\"link\"][blog[\"link\"].find(\"logNo=\") + 6:]\n",
    "            if naver_blog_check(code): # 네이버 블로그가 아닌경우 다음으로 넘기기\n",
    "                continue\n",
    "            \n",
    "            \n",
    "            # 블로그 코드 추가\n",
    "            blog_code.append(code)\n",
    "            \n",
    "            # 이름 추가\n",
    "            \n",
    "#             print(f\"cnt = {cnt}\")\n",
    "            cnt += 1\n",
    "            # 이름\n",
    "            writer = blog[\"bloggerlink\"][23:]\n",
    "            blog_writer.append(writer)\n",
    "\n",
    "\n",
    "            # 제목\n",
    "            title = tag_remove(blog[\"title\"])\n",
    "            blog_title.append(title)\n",
    "            \n",
    "#             if search_word not in title:\n",
    "#                 cnt += 1\n",
    "#             else:\n",
    "#                 cnt = 0\n",
    "                \n",
    "#             if cnt == repeat_num:\n",
    "#                 repeat = False\n",
    "\n",
    "            # 블로그 요약\n",
    "            description = tag_remove(blog[\"description\"])\n",
    "            blog_description.append(description)\n",
    "            \n",
    "            blog_result.append(f\"https://blog.naver.com/PostView.naver?blogId={writer}&logNo={code}\")\n",
    "        \n",
    "        if start + display <= blog_search[\"total\"]:\n",
    "            start += display\n",
    "            blog_search = naver_api(search_word, start, display)\n",
    "            print(f\"start = {start}\")\n",
    "            print(\"repeat start ++++++++++++++++++++\")\n",
    "        else:\n",
    "            print(\"repeat End\")\n",
    "            repeat = False\n",
    "            \n",
    "        cnt += 1\n",
    "        \n",
    "    return blog_result, blog_writer, blog_code, blog_title, blog_description\n",
    "        \n",
    "    "
   ]
  },
  {
   "cell_type": "code",
   "execution_count": 33,
   "id": "d1dd3041",
   "metadata": {
    "ExecuteTime": {
     "end_time": "2022-04-18T05:13:45.220582Z",
     "start_time": "2022-04-18T05:13:45.207580Z"
    }
   },
   "outputs": [],
   "source": [
    "# 이름이 들어오면 해당 내용을 이용하여 블로그를 파싱한다.\n",
    "\n",
    "# search_word : 어떤 제품을 검색하는지\n",
    "# repeat_num : 해당 제품이 제목에서 몇번 안나올때까지 검색을 진행할 지\n",
    "def item_parsing(search_word, start, display, repeat_num):\n",
    "\n",
    "    \n",
    "    blog_search = naver_api(search_word, start, display)\n",
    "    print(\"start ++++++++++++++++++++\")\n",
    "    \n",
    "    # result : url\n",
    "    # writer : 작성자 이름\n",
    "    # code : 블로그 코드\n",
    "    # title : 블로그 제목\n",
    "    # description : 블로그 요약 설명\n",
    "    blog_result = []\n",
    "    blog_writer = []\n",
    "    blog_code = []\n",
    "    blog_title = []\n",
    "    blog_description = []\n",
    "    \n",
    "    repeat = True\n",
    "    cnt = 0\n",
    "    # 제목에서 해당 제품의 이름이 5번 연속 안나온다면 패스\n",
    "    while repeat:\n",
    "        \n",
    "#         if cnt == 3:\n",
    "#             break\n",
    "        \n",
    "        for blog in blog_search[\"items\"]:\n",
    "            \n",
    "             # 블로그 코드\n",
    "            code = blog[\"link\"][blog[\"link\"].find(\"logNo=\") + 6:]\n",
    "            if naver_blog_check(code): # 네이버 블로그가 아닌경우 다음으로 넘기기\n",
    "                continue\n",
    "                \n",
    "            \n",
    "            \n",
    "            \n",
    "            \n",
    "\n",
    "            \n",
    "            # 이름\n",
    "            writer = blog[\"bloggerlink\"][23:]\n",
    "            \n",
    "\n",
    "            # 제목\n",
    "            title = tag_remove(blog[\"title\"])\n",
    "            \n",
    "            if naver_title_check(search_word, title):\n",
    "                continue\n",
    "            \n",
    "            \n",
    "#             if search_word not in title:\n",
    "#                 cnt += 1\n",
    "#             else:\n",
    "#                 cnt = 0\n",
    "                \n",
    "#             if cnt == repeat_num:\n",
    "#                 repeat = False\n",
    "\n",
    "            # 블로그 요약\n",
    "            description = tag_remove(blog[\"description\"])\n",
    "            \n",
    "            \n",
    "            ## 데이터 추가하는 곳\n",
    "            \n",
    "            # 블로그 코드 추가\n",
    "            blog_code.append(code)\n",
    "            \n",
    "            # 이름 추가\n",
    "            blog_writer.append(writer)\n",
    "            \n",
    "            # 제목 추가\n",
    "            blog_title.append(title)\n",
    "            \n",
    "            # 블로그 요약 추가\n",
    "            blog_description.append(description)\n",
    "            \n",
    "            # 본문 크롤링을 위한 URL주소 추가\n",
    "            blog_result.append(f\"https://blog.naver.com/PostView.naver?blogId={writer}&logNo={code}\")            \n",
    "            \n",
    "        \n",
    "        if start + display <= blog_search[\"total\"]:\n",
    "            start += display\n",
    "            blog_search = naver_api(search_word, start, display)\n",
    "            print(f\"start = {start}\")\n",
    "            print(\"repeat start ++++++++++++++++++++\")\n",
    "        else:\n",
    "            print(\"repeat End\")\n",
    "            repeat = False\n",
    "            \n",
    "        \n",
    "        \n",
    "    return blog_result, blog_writer, blog_code, blog_title, blog_description\n",
    "        \n",
    "    "
   ]
  },
  {
   "cell_type": "code",
   "execution_count": 8,
   "id": "3e6f67ea",
   "metadata": {
    "ExecuteTime": {
     "end_time": "2022-04-18T04:40:57.244540Z",
     "start_time": "2022-04-18T04:40:57.233421Z"
    }
   },
   "outputs": [],
   "source": [
    "def naver_api(search_word, start, display):\n",
    "    client_id = \"GvNa2sBgFDA6v7ujnaz0\"\n",
    "    client_secret = \"Yo0jOskXlZ\"\n",
    "    \n",
    "    encText = urllib.parse.quote(search_word)\n",
    "    \n",
    "    url = \"https://openapi.naver.com/v1/search/blog?query=\" + encText # json 결과\n",
    "    url += f\"&start={start}\"\n",
    "    url += f\"&display={display}\"\n",
    "\n",
    "    request = urllib.request.Request(url)\n",
    "    request.add_header(\"X-Naver-Client-Id\",client_id)\n",
    "    request.add_header(\"X-Naver-Client-Secret\",client_secret)\n",
    "    response = urllib.request.urlopen(request)\n",
    "    rescode = response.getcode()\n",
    "    if(rescode==200):\n",
    "        response_body = response.read()\n",
    "    else:\n",
    "        print(\"Error Code:\" + rescode)\n",
    "    return json.loads(response_body.decode('utf-8'))"
   ]
  },
  {
   "cell_type": "code",
   "execution_count": 12,
   "id": "a4001a03",
   "metadata": {
    "ExecuteTime": {
     "end_time": "2022-04-18T04:44:03.566430Z",
     "start_time": "2022-04-18T04:44:03.217664Z"
    }
   },
   "outputs": [
    {
     "data": {
      "text/plain": [
       "{'lastBuildDate': 'Mon, 18 Apr 2022 13:44:00 +0900',\n",
       " 'total': 354,\n",
       " 'start': 1,\n",
       " 'display': 30,\n",
       " 'items': [{'title': '무선 이어폰 종결 끝판왕 소니 <b>WF-1000XM4</b> 샀습니다',\n",
       "   'link': 'https://blog.naver.com/khjkhj2804?Redirect=Log&logNo=222645074782',\n",
       "   'description': '<b>WF-1000XM4</b> 가 현재 끝판왕인 이유 일단, 가격 깡패 &amp; 음질 깡패 최고임 이제 한 달 넘게 사용하고 쓰는 <b>후기</b> 무엇보다 고성능 라인업들 가격대비 가격 앞 자리 단위 자체가 내려가 있습니다. 가격 자체가 깡패인데... ',\n",
       "   'bloggername': '겜잘알 갓플머',\n",
       "   'bloggerlink': 'https://blog.naver.com/khjkhj2804',\n",
       "   'postdate': '20220211'},\n",
       "  {'title': '소니 <b>WF-1000XM4</b> 노이즈 캔슬링 이어폰 개봉 <b>후기</b>... ',\n",
       "   'link': 'https://blog.naver.com/rladnjsxo64?Redirect=Log&logNo=222571874963',\n",
       "   'description': '지난 몇 주간 소니 <b>WF-1000XM4</b>에 대한 사용 <b>후기</b>를 남겼는데 개봉기를 빼놓을 수 없죠! 오늘은 조금(?) 늦은 개봉기를 작성해보겠습니다. <b>WF-1000XM4</b> 이어폰은 블랙과 실버 2가지 색상으로 출시를 했으며, 제가... ',\n",
       "   'bloggername': '무라키의 데이 에세이',\n",
       "   'bloggerlink': 'https://blog.naver.com/rladnjsxo64',\n",
       "   'postdate': '20211118'},\n",
       "  {'title': '무선 노이즈 캔슬링 이어폰 소니 <b>WF-1000XM4</b> 간단 <b>후기</b>',\n",
       "   'link': 'https://blog.naver.com/feena74?Redirect=Log&logNo=222423856964',\n",
       "   'description': '소니 <b>WF-1000XM4</b>가 발매가 되었습니다. 전작인 <b>WF-</b>1000XM3 발매가 2년이 지났으니 나올 때가 되었는데라고... 이번에는 제품의 대여 기간이 길지 않아 간단 <b>후기</b>를 남기게 되었지만 기회가 된다면 조금 더 자세히... ',\n",
       "   'bloggername': '경아신랑님인거죠~',\n",
       "   'bloggerlink': 'https://blog.naver.com/feena74',\n",
       "   'postdate': '20210707'},\n",
       "  {'title': '준하는 노이즈캔슬링 소니 <b>WF-1000XM4</b> 무선이어폰 <b>후기</b>',\n",
       "   'link': 'https://blog.naver.com/supapa13?Redirect=Log&logNo=222498158979',\n",
       "   'description': '기다리고 기다렸던 소니 <b>WF-1000XM4</b> 노이즈캔슬링 이어폰입니다. 이제는 노이즈캔슬링 이어폰이나 헤드폰이 아니면 뭔가 2% 부족한 느낌이 들기도 합니다. 그만큼 참 많은 노이즈캔슬링 블루투스... ',\n",
       "   'bloggername': '세수하면이병헌 IT, 육아',\n",
       "   'bloggerlink': 'https://blog.naver.com/supapa13',\n",
       "   'postdate': '20210908'},\n",
       "  {'title': '급 노이즈캔슬링과 고음질 블루투스 이어폰 소니 <b>WF-1000XM4</b>',\n",
       "   'link': 'https://blog.naver.com/todshrck?Redirect=Log&logNo=222498884735',\n",
       "   'description': '지금까지 무선 노이즈캔슬링 이어폰 소니 <b>WF-1000XM4</b>의 <b>후기</b>를 전해드렸는데요. 직접 사용해보니 깔끔한 디자인과 뛰어난 휴대성, 헤드폰급의 노이즈 캔슬링, 프리미엄급 사운드를 확인할 수 있었습니다. 이... ',\n",
       "   'bloggername': 'mangsangk.com',\n",
       "   'bloggerlink': 'https://blog.naver.com/todshrck',\n",
       "   'postdate': '20210908'},\n",
       "  {'title': '소니 무선 노이즈캔슬링 이어폰 <b>WF-1000XM4</b> 내돈내산 리뷰 <b>후기</b>',\n",
       "   'link': 'https://blog.naver.com/lifesdh?Redirect=Log&logNo=222414669555',\n",
       "   'description': '소니에서 이번에 새로 정식 출시한 <b>WF-1000XM4</b>는 전작 <b>WF-</b>1000XM3에서 확연하게 달라진 디자인과 성능으로 출시 되자마자 공식 홈페이지 뿐만 아니라 각종 판매처에서 품절되어서 구하기 힘든 엄청난 인기를... ',\n",
       "   'bloggername': '화니의 블로그',\n",
       "   'bloggerlink': 'https://blog.naver.com/lifesdh',\n",
       "   'postdate': '20210629'},\n",
       "  {'title': '[내돈내산 <b>후기</b>] 음질, 노캔 최강 소니 <b>WF-1000XM4</b>',\n",
       "   'link': 'https://blog.naver.com/xerotype2?Redirect=Log&logNo=222415306975',\n",
       "   'description': 'WF-1000XM4 이렇게 총 다섯 개의 제품들이죠. 이 다섯 개의 제품들을 총 일곱 가지 기준을 바탕으로 제... 밝은불꽃의 소니 <b>WF-1000XM4 후기</b>였습니다. 정말 허접한 후기였지만 읽어주신 분께 감사의 말씀 드리고... ',\n",
       "   'bloggername': '밝은불꽃의 블로그',\n",
       "   'bloggerlink': 'https://blog.naver.com/xerotype2',\n",
       "   'postdate': '20210630'},\n",
       "  {'title': '이어폰에 노이즈캔슬링과 음질을 더한 소니 <b>WF-1000XM4</b> 추천',\n",
       "   'link': 'https://blog.naver.com/moimoi1357?Redirect=Log&logNo=222431751127',\n",
       "   'description': '지금까지 소니 <b>WF-1000XM4</b>의 사용 <b>후기</b>를 전해드렸습니다. 더 작아진 크기에 성능은 더 업그레이드가 되면서 헤드폰과도 비교할 수 있을 정도가 되었습니다. 시끄러운 환경에서 주변의 소음을 효과적으로... ',\n",
       "   'bloggername': '모이모이의 IT 이야기',\n",
       "   'bloggerlink': 'https://blog.naver.com/moimoi1357',\n",
       "   'postdate': '20210714'},\n",
       "  {'title': '소니 이폰 <b>WF-1000XM4</b> 개봉기와 3개월 사용<b>후기</b>! 유일한... ',\n",
       "   'link': 'https://blog.naver.com/dongchimi212?Redirect=Log&logNo=222652612911',\n",
       "   'description': '그럼 이제 3개월동안 사용한 <b>후기</b>를 말씀드릴게요~ <b>WF-1000XM4</b> 3개월 사용<b>후기</b>(노이즈캔슬링/음질/연동성/착용감) 일단 가장 보편적인 에어팟 프로와 노이즈캔슬링 음질을 비교를 해볼게요 유닛 자체는... ',\n",
       "   'bloggername': '공대생 블로그',\n",
       "   'bloggerlink': 'https://blog.naver.com/dongchimi212',\n",
       "   'postdate': '20220220'},\n",
       "  {'title': '소니 무선 이어폰 (SONY <b>WF-1000XM4</b>) <b>후기</b>',\n",
       "   'link': 'https://blog.naver.com/apricot_4?Redirect=Log&logNo=222658424853',\n",
       "   'description': '저는 최근까지 유선 이어폰을 썼었는데요 요즘 들어 괜찮아보이는 유선 이어폰도 없고 쓰다보니 자주 고장이 나서 처음으로 무선 이어폰을 구매해보기로 했어요 제가 구매한 제품은 소니의 <b>WF-1000XM4</b> ! 여러... ',\n",
       "   'bloggername': 'Clam chowder',\n",
       "   'bloggerlink': 'https://blog.naver.com/apricot_4',\n",
       "   'postdate': '20220226'},\n",
       "  {'title': 'SONY/소니 이어폰) <b>WF-1000XM4</b> BME 사용<b>후기</b>',\n",
       "   'link': 'https://blog.naver.com/skan5422?Redirect=Log&logNo=222583222026',\n",
       "   'description': '오늘은 #소니이어폰 #<b>WF</b><b>1000XM4</b> 사용<b>후기</b> 함께해요. Galaxy Buds Pro/갤럭시 버즈 프로를 사용중이던 꿈남편은 <b>WF-1000XM4</b>을 알게 된 후 제게 영업?을 하기 시작했습니다. ㅋㅋ 꿈남편은 용돈으로 사는 것도 제게... ',\n",
       "   'bloggername': '꿈꾸는 모래시계',\n",
       "   'bloggerlink': 'https://blog.naver.com/skan5422',\n",
       "   'postdate': '20211130'},\n",
       "  {'title': '헤드폰 급 노이즈캔슬링 블루투스 이어폰 소니 <b>WF-1000XM4</b>... ',\n",
       "   'link': 'https://blog.naver.com/lucky_box7?Redirect=Log&logNo=222485277582',\n",
       "   'description': '오늘은 현존하는 노이즈캔슬링 블루투스 이어폰 중에서 끝판왕이라고 할 수 있는 소니 <b>WF-1000XM4</b> 모델 <b>후기</b>를 정리해보려고 합니다. 패키지부터 볼까요?? 하나씩 뜯어봤는데 정형화된 상자 구성과는 소재가... ',\n",
       "   'bloggername': \"Cwon's Life\",\n",
       "   'bloggerlink': 'https://blog.naver.com/lucky_box7',\n",
       "   'postdate': '20210827'},\n",
       "  {'title': 'SONY <b>WF-1000XM4 후기</b>',\n",
       "   'link': 'https://blog.naver.com/semin1020?Redirect=Log&logNo=222661865508',\n",
       "   'description': 'SONY <b>WF-1000XM4</b> 소니 블루투스 이어폰 가격은 299,000원 저렴한 가격은 아니지만 에어팟 프로보다 저렴해서 샀다 ㅎㅎ 주 장점은 1. 좋은 음질 2. 노이즈캔슬링 가능 3.유명 브랜드라 수리가 비교적 쉬운점(내생각)... ',\n",
       "   'bloggername': 'MINILOG',\n",
       "   'bloggerlink': 'https://blog.naver.com/semin1020',\n",
       "   'postdate': '20220302'},\n",
       "  {'title': '헤드폰 급 퍼포먼스 소니 <b>WF-1000XM4</b> 노이즈 캔슬링 블루투스... ',\n",
       "   'link': 'https://blog.naver.com/nightd?Redirect=Log&logNo=222522389769',\n",
       "   'description': '현재 제품을 선택하는데 혹은 구입하는 데 고민을 하고 있는 분들에게 필자의 직접 사용 <b>후기</b>가 유익한 정보가 되었으면 한다. 소니 <b>WF-1000XM4</b> 블루투스 이어폰의 패키지 구성을 살펴보자. 패키지에서 기존과... ',\n",
       "   'bloggername': '스마트 라이프 연결고리',\n",
       "   'bloggerlink': 'https://blog.naver.com/nightd',\n",
       "   'postdate': '20210930'},\n",
       "  {'title': '등 야외에서 사용해본 <b>WF-1000XM4</b> 노이즈 캔슬링 이어폰 <b>후기</b>',\n",
       "   'link': 'https://blog.naver.com/rladnjsxo64?Redirect=Log&logNo=222565484664',\n",
       "   'description': '소니 <b>WF-1000XM4</b> 노이즈 캔슬링 이어폰을 약 2주째 사용하고 있습니다. 기존에 사용하던 <b>WF-</b>1000XM3 이어폰은 2년간 열일하신 후, 잠깐 쉬고 계시네요 ㅎㅎ 가지고 다니면서 제일 크게 느껴지는 점은 휴대성에서... ',\n",
       "   'bloggername': '무라키의 데이 에세이',\n",
       "   'bloggerlink': 'https://blog.naver.com/rladnjsxo64',\n",
       "   'postdate': '20211111'},\n",
       "  {'title': '소니 <b>WF-1000XM4</b> 무선이어폰 운동용으로 사용해본 <b>후기</b>',\n",
       "   'link': 'https://blog.naver.com/ddihw?Redirect=Log&logNo=222452134060',\n",
       "   'description': '소니 <b>WF-1000XM4</b> 무선이어폰 운동용으로 사용해본 <b>후기</b> 요즘 하루의 시작은 집주변 조깅으로 시작을 합니다. 아침 운동을 할때 운동정보를 듣기 위함이나 음악을 듣기 위한 용도로 무선이어폰을 많이들... ',\n",
       "   'bloggername': '변검',\n",
       "   'bloggerlink': 'https://blog.naver.com/ddihw',\n",
       "   'postdate': '20210731'},\n",
       "  {'title': '이어폰/리뷰] 보스 QuietComfort 이어버드 vs 소니 <b>WF-1000XM4</b>',\n",
       "   'link': 'https://blog.naver.com/withcoffee67?Redirect=Log&logNo=222627339871',\n",
       "   'description': '* 개인이 구매하여 작성하는 <b>후기</b>이며, 음향 전문가가 아닌 평범한 이공계 학생의 <b>후기</b>입니다. 보스 QuietComfort 이어버드 vs 소니 <b>WF-1000XM4</b> (이하 보스, 소니) 1. 착용감: 보스 &gt; 소니 2. 노이즈 캔슬링: 보스 근소... ',\n",
       "   'bloggername': 'Trust, but verify',\n",
       "   'bloggerlink': 'https://blog.naver.com/withcoffee67',\n",
       "   'postdate': '20220121'},\n",
       "  {'title': '소니 <b>WF-1000xm4</b>, 2주간의 실 사용<b>후기</b>',\n",
       "   'link': 'https://blog.naver.com/pakseeun?Redirect=Log&logNo=222567999666',\n",
       "   'description': '고민 중인 분들에게 도움이 되길 바랍니다. ㅋㅋ 산책하기 좋은 가을 #노캔이어폰 #솔직<b>후기</b> #<b>WF</b>1000M4체험단 #노이즈캔슬링 #<b>WF</b><b>1000xm4</b> #몰입의즐거움 #헤드폰에도전하다',\n",
       "   'bloggername': '세은파파의 맛있는 테크생활',\n",
       "   'bloggerlink': 'https://blog.naver.com/pakseeun',\n",
       "   'postdate': '20211114'},\n",
       "  {'title': '노이즈캔슬링 소니 이어폰 <b>WF-1000XM4 후기</b>',\n",
       "   'link': 'https://blog.naver.com/eter2000?Redirect=Log&logNo=222613996479',\n",
       "   'description': '#노이즈캔슬링이어폰 #<b>WF</b><b>1000XM4</b> 안녕하세요 서블리입니다 : ) 제가 너무 운이 좋게도 한참 핫이슈로 떠올랐던 노이즈캔슬링 이어폰의 탑 소니 <b>WF-1000XM4</b> 서포터즈로 선정되어서 약 6주간 직접 일상생활에서... ',\n",
       "   'bloggername': '서블리의 예뻐지는 뷰티룸',\n",
       "   'bloggerlink': 'https://blog.naver.com/eter2000',\n",
       "   'postdate': '20220105'},\n",
       "  {'title': '헤드폰에 도전하다 SONY <b>WF-1000XM4</b> 이어폰 구입 간단 <b>후기</b>',\n",
       "   'link': 'https://blog.naver.com/mylub1126?Redirect=Log&logNo=222638751335',\n",
       "   'description': '도착한 <b>WF-1000xm4</b> 블랙 가격치고는 포장이 디게 간소하다 친환경 포장 어쩌구저쩌구 하지만.. 평범한 일반인 막귀 입장에서 이어폰 끼고 노래를 들어보니... <b>후기</b>들보고 너무너무너무 기대를 했었던 탓일까.... ',\n",
       "   'bloggername': '♥♥♥ 나의 2022년♥♥♥',\n",
       "   'bloggerlink': 'https://blog.naver.com/mylub1126',\n",
       "   'postdate': '20220204'},\n",
       "  {'title': '소니 <b>wf-1000xm4</b> 음질 선물과 6주간 사용 <b>후기</b>',\n",
       "   'link': 'https://blog.naver.com/kyurl55?Redirect=Log&logNo=222589529932',\n",
       "   'description': '정말 기대되는 다음 세대 이렇게 지인들이랑 소니 <b>wf-1000xm4</b> 음질이랑 성능도 공유도 해보고 한 달 넘게 사용한 <b>후기</b>를 말씀드려봤네요. 모든 제품은 완벽할 수 없지만 완벽에 가까운 제품들은 있죠. 저는 그게... ',\n",
       "   'bloggername': '제이의 세상',\n",
       "   'bloggerlink': 'https://blog.naver.com/kyurl55',\n",
       "   'postdate': '20211208'},\n",
       "  {'title': '성능 SONY <b>WF-1000XM4</b> 블루투스 무선이어폰 리얼 <b>후기</b>',\n",
       "   'link': 'https://blog.naver.com/ha_tak?Redirect=Log&logNo=222558730866',\n",
       "   'description': '이번에 소개할 제품은 SONY <b>WF-1000XM4</b> 라는 제품이다. 이미 명성은 익히 다 아실 것 같다. 노이즈캔슬링으로 끝판왕인 제품이며, 정말 많은 사람이 노이즈캔슬링 무선이어폰 하면 가장 먼저 떠올리는... ',\n",
       "   'bloggername': '리뷰빌런 하텍',\n",
       "   'bloggerlink': 'https://blog.naver.com/ha_tak',\n",
       "   'postdate': '20211104'},\n",
       "  {'title': '[블루투스 이어폰] 소니 <b>WF-1000XM4</b> 사용 <b>후기</b>ㅣ30대 남자... ',\n",
       "   'link': 'https://blog.naver.com/zezk98211?Redirect=Log&logNo=222650841542',\n",
       "   'description': '#소니<b>wf</b><b>1000xm4</b> #내돈내산 #솔직<b>후기</b> 몽님이 내 생일에 사준 소니 <b>wf-1000xm4</b>를 리뷰 해보고자 한다 (대략 1달 정도 사용해 보고 쓰는 <b>후기</b>~) 3년 전쯤에 산 에어팟 1세대가 배터리 문제로 풀 충전했을 때 통화시간... ',\n",
       "   'bloggername': '놀러다니는 몽',\n",
       "   'bloggerlink': 'https://blog.naver.com/zezk98211',\n",
       "   'postdate': '20220218'},\n",
       "  {'title': '차원이 다른 노이즈캔슬링과 음질 소니 <b>WF-1000XM4</b> 블루투스... ',\n",
       "   'link': 'https://blog.naver.com/mr_choo?Redirect=Log&logNo=222534763287',\n",
       "   'description': '이어폰 <b>후기</b>였습니다. 10월 24일까지 소니 <b>WF-1000XM4</b> 노이즈캔슬링 이어폰을 구매하신 후 소니스토어에서 정품 등록 및 이벤트 신청을 완료한 모든 분께 귀여운 워크맨 일러스트가 그려진 에코 케이스를... ',\n",
       "   'bloggername': '츄즈잇 CHOO`s IT',\n",
       "   'bloggerlink': 'https://blog.naver.com/mr_choo',\n",
       "   'postdate': '20211012'},\n",
       "  {'title': '제돈제산 소니 <b>WF-1000XM4</b> 리뷰 (구매동기와 디자인 평가)',\n",
       "   'link': 'https://blog.naver.com/copy98?Redirect=Log&logNo=222531822461',\n",
       "   'description': '다음 리뷰에서는 실제로 <b>WF-1000XM4</b>를 사용하면서 느낀 <b>후기</b>나 노이즈 캔슬링, 음질 (청음기)에 대해 남겨보려고 합니다. 지금까지 느낀점은 요즘 블루투스 이어폰도 많이 좋아졌구나, LDAC 끊김 별로 안심하다.... ',\n",
       "   'bloggername': 'IT매니아의 잇생',\n",
       "   'bloggerlink': 'https://blog.naver.com/copy98',\n",
       "   'postdate': '20211014'},\n",
       "  {'title': '소니 <b>wf</b> <b>1000xm4</b> 노이즈캔슬링 소니 이어폰 에어팟보다 좋아!',\n",
       "   'link': 'https://blog.naver.com/dlawldms0221?Redirect=Log&logNo=222593749433',\n",
       "   'description': '그래서 눈독을 들이게 된 게 바로 소니 <b>wf</b> <b>1000xm4</b> 입니다. 사실 이걸 구매하겠어!! 하고 정보 조사를 한 뒤... 3일 정도 사용한 뒤 적는 <b>후기</b>인데 이 기간동안 두 번? 밖에 떨어트리지 않았어요. 물론, 이어팁의... ',\n",
       "   'bloggername': '오늘 하루도 소소하게',\n",
       "   'bloggerlink': 'https://blog.naver.com/dlawldms0221',\n",
       "   'postdate': '20211212'},\n",
       "  {'title': '소니 <b>WF-1000XM4</b> 언박싱, 색상, 판매처 / 에어팟 프로도... ',\n",
       "   'link': 'https://blog.naver.com/hongkey92?Redirect=Log&logNo=222489546219',\n",
       "   'description': '내 마음을 완전히 사로잡은 이어폰 소니에서 새로운 블루투스 이어폰인 <b>WF-1000XM4</b>를 출시했다. 벌써부터... 공간감이 헤드폰 수준이라는 <b>후기</b>도 어디선가 봤는데 과장은 맞지만 허풍은 아니다. 이어폰에서 이... ',\n",
       "   'bloggername': '꿈날의 기록_夢日',\n",
       "   'bloggerlink': 'https://blog.naver.com/hongkey92',\n",
       "   'postdate': '20210830'},\n",
       "  {'title': '소니 <b>WF-1000XM4</b> 노이즈 캔슬링 블루투스 이어폰으로 닌텐도... ',\n",
       "   'link': 'https://blog.naver.com/rladnjsxo64?Redirect=Log&logNo=222554596071',\n",
       "   'description': '야외에서 사용해본 <b>후기</b>는 추후 포스팅 할 계획이고, 우선 개봉하자마자 집에서 바로 닌텐도 스위치 OLED에 연결해서 사용해봤어요. 소니 <b>WF-1000XM4</b> 노이즈 캔슬링 이어폰으로 닌텐도 스위치 연동하기... ',\n",
       "   'bloggername': '무라키의 데이 에세이',\n",
       "   'bloggerlink': 'https://blog.naver.com/rladnjsxo64',\n",
       "   'postdate': '20211031'},\n",
       "  {'title': '야외에서 제 기능을 발휘하는 소니 <b>WF-1000XM4</b> 무선 이어폰',\n",
       "   'link': 'https://blog.naver.com/chowb95?Redirect=Log&logNo=222570346176',\n",
       "   'description': '이정도만 봐도 <b>WF-1000XM4</b> 블루투스 이어폰을 선택할 이유는 충분하다고 느껴지네요. 앞으로 또 다른 미션 수행하면서 더 많은 리얼 <b>후기</b>로 돌아오겠습니다. ^^',\n",
       "   'bloggername': '한때왕팔뚝의 소소한 일상',\n",
       "   'bloggerlink': 'https://blog.naver.com/chowb95',\n",
       "   'postdate': '20211116'},\n",
       "  {'title': '노이즈 캔슬링 끝판왕, 소니 <b>WF-1000XM4</b> 블루투스 이어폰... ',\n",
       "   'link': 'https://blog.naver.com/neces2?Redirect=Log&logNo=222542951287',\n",
       "   'description': '오늘 이렇게 실제로 사용해본 노이즈 캔슬링 블루투스 이어폰 소니 <b>WF-1000XM4</b>의 <b>후기</b>를 전해드렸습니다. 디자인은 물론 휴대성까지 상당히 뛰어난 제품이었는데, 무엇보다 만족스러웠던 것은 풍부한 사운드... ',\n",
       "   'bloggername': '네세스의 IT STORY',\n",
       "   'bloggerlink': 'https://blog.naver.com/neces2',\n",
       "   'postdate': '20211020'}]}"
      ]
     },
     "execution_count": 12,
     "metadata": {},
     "output_type": "execute_result"
    }
   ],
   "source": [
    "t = naver_api(\"wf-1000xm4 후기\", 1, 30)\n",
    "t"
   ]
  },
  {
   "cell_type": "code",
   "execution_count": 34,
   "id": "778495a8",
   "metadata": {
    "ExecuteTime": {
     "end_time": "2022-04-18T05:13:53.782128Z",
     "start_time": "2022-04-18T05:13:51.225113Z"
    }
   },
   "outputs": [
    {
     "name": "stdout",
     "output_type": "stream",
     "text": [
      "start ++++++++++++++++++++\n",
      "start = 101\n",
      "repeat start ++++++++++++++++++++\n",
      "start = 201\n",
      "repeat start ++++++++++++++++++++\n",
      "start = 301\n",
      "repeat start ++++++++++++++++++++\n",
      "repeat End\n"
     ]
    }
   ],
   "source": [
    "test = item_parsing(\"wf-1000xm4 후기\", 1, 100, 3)"
   ]
  },
  {
   "cell_type": "code",
   "execution_count": 35,
   "id": "617f8f0b",
   "metadata": {
    "ExecuteTime": {
     "end_time": "2022-04-18T05:13:57.225666Z",
     "start_time": "2022-04-18T05:13:57.212667Z"
    }
   },
   "outputs": [
    {
     "data": {
      "text/plain": [
       "74"
      ]
     },
     "execution_count": 35,
     "metadata": {},
     "output_type": "execute_result"
    }
   ],
   "source": [
    "len(test[1])"
   ]
  },
  {
   "cell_type": "code",
   "execution_count": 36,
   "id": "b19fdcbd",
   "metadata": {
    "ExecuteTime": {
     "end_time": "2022-04-18T05:13:59.131918Z",
     "start_time": "2022-04-18T05:13:59.118280Z"
    }
   },
   "outputs": [
    {
     "data": {
      "text/plain": [
       "['소니 WF-1000XM4 노이즈 캔슬링 이어폰 개봉 후기... ',\n",
       " '무선 노이즈 캔슬링 이어폰 소니 WF-1000XM4 간단 후기',\n",
       " '준하는 노이즈캔슬링 소니 WF-1000XM4 무선이어폰 후기',\n",
       " '소니 무선 노이즈캔슬링 이어폰 WF-1000XM4 내돈내산 리뷰 후기',\n",
       " '[내돈내산 후기] 음질, 노캔 최강 소니 WF-1000XM4',\n",
       " '소니 이폰 WF-1000XM4 개봉기와 3개월 사용후기! 유일한... ',\n",
       " '소니 무선 이어폰 (SONY WF-1000XM4) 후기',\n",
       " 'SONY/소니 이어폰) WF-1000XM4 BME 사용후기',\n",
       " 'SONY WF-1000XM4 후기',\n",
       " '등 야외에서 사용해본 WF-1000XM4 노이즈 캔슬링 이어폰 후기',\n",
       " '소니 WF-1000XM4 무선이어폰 운동용으로 사용해본 후기',\n",
       " '소니 WF-1000xm4, 2주간의 실 사용후기',\n",
       " '노이즈캔슬링 소니 이어폰 WF-1000XM4 후기',\n",
       " '헤드폰에 도전하다 SONY WF-1000XM4 이어폰 구입 간단 후기',\n",
       " '소니 wf-1000xm4 음질 선물과 6주간 사용 후기',\n",
       " '성능 SONY WF-1000XM4 블루투스 무선이어폰 리얼 후기',\n",
       " '[블루투스 이어폰] 소니 WF-1000XM4 사용 후기ㅣ30대 남자... ',\n",
       " '(SONY) WF-1000XM4 노이즈캔슬링이어폰 일주일 사용기 후기',\n",
       " '소니 WF-1000XM4 일상 속 사용후기 : 노이즈캔스링이 필요한... ',\n",
       " '소니 WF-1000XM4 이어폰 내돈내산 후기 (노이즈 캔슬링... ',\n",
       " '소니 WF-1000XM4 사용 후기 (내돈내산)',\n",
       " '[Sony] WF-1000XM4 (무선이어폰) 구매 후기',\n",
       " '노이즈캔슬링 블루투스 무선 이어폰 소니 WF-1000XM4 사용 후기',\n",
       " '소니 WF-1000XM4, 네 번째 이야기: 영화 감상과 케이스 후기',\n",
       " '소니 WF-1000XM4 에코 케이스 카세트 디자인 사용후기',\n",
       " '소니 WF-1000XM4 구매 및 사용후기 작성해봅니다. (매우솔직)',\n",
       " '소니 노이즈 캔슬링 블루투스 이어폰 wf-1000xm4 구입 후기... ',\n",
       " '|내돈내산 후기| 소니 WF-1000XM4 노이즈 캔슬링 무선 이어폰... ',\n",
       " '사용후기 행하다ㅣWF-1000XM4ㅣSONY 노이즈캔슬링ㅣ소니 무선... ',\n",
       " '소니 WF-1000XM4 한달 사용후기 + 이어폰 케이스',\n",
       " 'WF-1000XM4 후기',\n",
       " '1년(소니 헤드셋 WH-1000XM4, 이어폰 WF-1000XM4 사용후기 후술)',\n",
       " 'WF-1000XM4 후기',\n",
       " 'Sony WF-1000XM4후기',\n",
       " '소니 WF-1000XM4 분실 후 XB900N 이베이 리퍼 직구 후기',\n",
       " '소니 WF-1000XM4 청음 후기',\n",
       " 'wf-1000xm4와 버즈프로의간단 사용 비교후기.ft  버즈... ',\n",
       " '야외에서 즐기는 몰입의즐가움! WF-1000XM4 사용 후기',\n",
       " 'WF-1000xm4 후기',\n",
       " '소니 블루투스 이어폰 WF-1000XM4 내돈내산 후기',\n",
       " '소니 Sony WF-1000XM4 후기 (1000xm3과 비교)',\n",
       " 'SONY WF-1000XM4 1주일 사용 후기',\n",
       " '디그니스 WF-1000xm4 케이스 후기',\n",
       " '소니 WF-1000XM4 5개월 후기 2부 A/S 후기포함',\n",
       " '소니 WF-1000xm4 3개월간 사용후기 (feat 에코 케이스 이벤트)',\n",
       " 'WF-1000xm4 후기 : 과도한 bass, 어려운 하우징.',\n",
       " 'WF-1000XM4 구입기와 후기',\n",
       " '소니 wf-1000xm4 1시간 사용후기',\n",
       " '소니 WF-1000XM4 5개월 후기',\n",
       " '소니 WF-1000XM4 후기 남편에게 몰입의즐거움을 선물하다',\n",
       " '느끼며 만보걷기 운동필수템  소니 WF-1000XM4 사용 후기',\n",
       " '[내돈내산 후기]소니 WF-1000XM4 노이즈캔슬링 이어폰/ 노캔... ',\n",
       " '[통화품질 테스트] 소니 WF-1000XM4 무선이어폰 솔직 후기',\n",
       " '소니 무선이어폰 WF-1000xm4 개쩐다.. 후기. 협찬X',\n",
       " 'SONY의 WF-1000XM4 사용후기 *** 진화하는 노캔, 갖고싶다!! ***',\n",
       " 'WF-1000XM4 역대급 코드리스 무선 이어폰 언박싱 및 후기... ',\n",
       " 'WF-1000XM4 // AS 후기 및 교환 제품 배터리 소모 비율',\n",
       " '[소니] WF-1000XM4 내돈내산 구매후기 - 구매경로/ 전작 비교... ',\n",
       " '소니 블루투스 이어폰 wf-1000xm4 감상후기.',\n",
       " 'wf-1000xm4 (지방)서비스 센터 후기!',\n",
       " '소니 wf-1000xm4 무선 노캔이어폰 구매후기',\n",
       " 'sony wf-1000xm4 2일차 사용 후기',\n",
       " '소니 SONY WF-1004XM4 무선... 내돈내산 솔직후기 feat.언박싱',\n",
       " '막귀의 블루투스 이어폰 wf-1000mx4 후기(feat. 소니 nw-a105)',\n",
       " '2년 만에 더 강해져서 돌아왔다. SONY WF-1000XM4 후기',\n",
       " '소니 WF-1000XM4 블루투스 이어폰 6주간 실사용 후기',\n",
       " '헤드폰에 도전하는 노이즈 캔슬링 소니 WF-1000XM4 몰입 후기',\n",
       " '소니 무선이어폰 WF-1000XM4 한달 사용 후기',\n",
       " '무선이어폰 소니 노이즈캔슬링 WF-1000XM4 한달사용후기',\n",
       " '소니 WF-1000XM4... LDAC 갤럭시 설정방법 및 사운드 후기',\n",
       " '소니 WF-1000XM4 블루투스... 및 Speak to Chat 주관적 사용후기',\n",
       " '소니 WF-1000XM4, 드비알레 제미니 실사용 후기',\n",
       " '후기 좋은 소니 WF-1000XM4 선물',\n",
       " '매입후기] JBL TUNE 225TWS 동종모델 소니 WF-1000XM4... ']"
      ]
     },
     "execution_count": 36,
     "metadata": {},
     "output_type": "execute_result"
    }
   ],
   "source": [
    "test[3]"
   ]
  },
  {
   "cell_type": "code",
   "execution_count": 38,
   "id": "648c8fb7",
   "metadata": {
    "ExecuteTime": {
     "end_time": "2022-04-18T05:15:07.107711Z",
     "start_time": "2022-04-18T05:15:03.266597Z"
    }
   },
   "outputs": [
    {
     "name": "stdout",
     "output_type": "stream",
     "text": [
      "start ++++++++++++++++++++\n",
      "start = 101\n",
      "repeat start ++++++++++++++++++++\n",
      "start = 201\n",
      "repeat start ++++++++++++++++++++\n",
      "start = 301\n",
      "repeat start ++++++++++++++++++++\n",
      "repeat End\n"
     ]
    }
   ],
   "source": [
    "test = item_parsing(\"wf-1000xm4 후기\", 1, 100, 3)"
   ]
  },
  {
   "cell_type": "code",
   "execution_count": 40,
   "id": "0818247f",
   "metadata": {
    "ExecuteTime": {
     "end_time": "2022-04-18T05:15:18.228543Z",
     "start_time": "2022-04-18T05:15:18.217494Z"
    }
   },
   "outputs": [
    {
     "data": {
      "text/plain": [
       "['소니 WF-1000XM4 노이즈 캔슬링 이어폰 개봉 후기... ',\n",
       " '무선 노이즈 캔슬링 이어폰 소니 WF-1000XM4 간단 후기',\n",
       " '준하는 노이즈캔슬링 소니 WF-1000XM4 무선이어폰 후기',\n",
       " '소니 무선 노이즈캔슬링 이어폰 WF-1000XM4 내돈내산 리뷰 후기',\n",
       " '[내돈내산 후기] 음질, 노캔 최강 소니 WF-1000XM4',\n",
       " '소니 이폰 WF-1000XM4 개봉기와 3개월 사용후기! 유일한... ',\n",
       " '소니 무선 이어폰 (SONY WF-1000XM4) 후기',\n",
       " 'SONY/소니 이어폰) WF-1000XM4 BME 사용후기',\n",
       " 'SONY WF-1000XM4 후기',\n",
       " '등 야외에서 사용해본 WF-1000XM4 노이즈 캔슬링 이어폰 후기',\n",
       " '소니 WF-1000XM4 무선이어폰 운동용으로 사용해본 후기',\n",
       " '소니 WF-1000xm4, 2주간의 실 사용후기',\n",
       " '노이즈캔슬링 소니 이어폰 WF-1000XM4 후기',\n",
       " '헤드폰에 도전하다 SONY WF-1000XM4 이어폰 구입 간단 후기',\n",
       " '소니 wf-1000xm4 음질 선물과 6주간 사용 후기',\n",
       " '성능 SONY WF-1000XM4 블루투스 무선이어폰 리얼 후기',\n",
       " '[블루투스 이어폰] 소니 WF-1000XM4 사용 후기ㅣ30대 남자... ',\n",
       " '(SONY) WF-1000XM4 노이즈캔슬링이어폰 일주일 사용기 후기',\n",
       " '소니 WF-1000XM4 일상 속 사용후기 : 노이즈캔스링이 필요한... ',\n",
       " '소니 WF-1000XM4 이어폰 내돈내산 후기 (노이즈 캔슬링... ',\n",
       " '소니 서비스센터 신용산점 방문 후기[wf 1000xm4 수리]',\n",
       " '소니 WF-1000XM4 사용 후기 (내돈내산)',\n",
       " '[Sony] WF-1000XM4 (무선이어폰) 구매 후기',\n",
       " '노이즈캔슬링 블루투스 무선 이어폰 소니 WF-1000XM4 사용 후기',\n",
       " '소니 WF-1000XM4, 네 번째 이야기: 영화 감상과 케이스 후기',\n",
       " '소니 WF-1000XM4 에코 케이스 카세트 디자인 사용후기',\n",
       " '소니 wf 1000xm4 구매후기',\n",
       " '소니 WF-1000XM4 구매 및 사용후기 작성해봅니다. (매우솔직)',\n",
       " '소니 노이즈 캔슬링 블루투스 이어폰 wf-1000xm4 구입 후기... ',\n",
       " '|내돈내산 후기| 소니 WF-1000XM4 노이즈 캔슬링 무선 이어폰... ',\n",
       " '사용후기 행하다ㅣWF-1000XM4ㅣSONY 노이즈캔슬링ㅣ소니 무선... ',\n",
       " '소니 WF-1000XM4 한달 사용후기 + 이어폰 케이스',\n",
       " 'WF-1000XM4 후기',\n",
       " '1년(소니 헤드셋 WH-1000XM4, 이어폰 WF-1000XM4 사용후기 후술)',\n",
       " 'WF-1000XM4 후기',\n",
       " 'Sony WF-1000XM4후기',\n",
       " '소니 WF-1000XM4 분실 후 XB900N 이베이 리퍼 직구 후기',\n",
       " '소니 WF-1000XM4 청음 후기',\n",
       " 'wf-1000xm4와 버즈프로의간단 사용 비교후기.ft  버즈... ',\n",
       " '야외에서 즐기는 몰입의즐가움! WF-1000XM4 사용 후기',\n",
       " 'WF-1000xm4 후기',\n",
       " '소니 블루투스 이어폰 WF-1000XM4 내돈내산 후기',\n",
       " '소니 Sony WF-1000XM4 후기 (1000xm3과 비교)',\n",
       " '소니 SONY  WF 1000XM4 B... 내꺼가 아니라서 사용후기는 없음',\n",
       " 'SONY WF-1000XM4 1주일 사용 후기',\n",
       " '디그니스 WF-1000xm4 케이스 후기',\n",
       " '소니 WF-1000XM4 5개월 후기 2부 A/S 후기포함',\n",
       " '소니 WF-1000xm4 3개월간 사용후기 (feat 에코 케이스 이벤트)',\n",
       " 'WF-1000xm4 후기 : 과도한 bass, 어려운 하우징.',\n",
       " 'WF-1000XM4 구입기와 후기',\n",
       " '소니 wf-1000xm4 1시간 사용후기',\n",
       " '소니 WF-1000XM4 5개월 후기',\n",
       " '소니 헤드셋 간단 개봉 후기 wh 1000xm4',\n",
       " '소니 WF-1000XM4 후기 남편에게 몰입의즐거움을 선물하다',\n",
       " '느끼며 만보걷기 운동필수템  소니 WF-1000XM4 사용 후기',\n",
       " '[내돈내산 후기]소니 WF-1000XM4 노이즈캔슬링 이어폰/ 노캔... ',\n",
       " '[통화품질 테스트] 소니 WF-1000XM4 무선이어폰 솔직 후기',\n",
       " '소니 WF 1000XM4 블루투스... 진짜 궁금해서 알아본 후기',\n",
       " '소니 무선이어폰 WF-1000xm4 개쩐다.. 후기. 협찬X',\n",
       " 'SONY의 WF-1000XM4 사용후기 *** 진화하는 노캔, 갖고싶다!! ***',\n",
       " 'WF-1000XM4 역대급 코드리스 무선 이어폰 언박싱 및 후기... ',\n",
       " 'WF-1000XM4 // AS 후기 및 교환 제품 배터리 소모 비율',\n",
       " '[소니] WF-1000XM4 내돈내산 구매후기 - 구매경로/ 전작 비교... ',\n",
       " '소니 블루투스 이어폰 wf-1000xm4 감상후기.',\n",
       " 'wf-1000xm4 (지방)서비스 센터 후기!',\n",
       " '소니 wf 1000mx4 내돈내산 후기 wh 1000mx4 비교 가능할까',\n",
       " '소니 wf-1000xm4 무선 노캔이어폰 구매후기',\n",
       " 'sony wf-1000xm4 2일차 사용 후기',\n",
       " '에어팟 맥스 VS 소니 WH-1000XM4 : 음질 비교 후기',\n",
       " '소니 SONY WF-1004XM4 무선... 내돈내산 솔직후기 feat.언박싱',\n",
       " '[미테르 케이스] 소니 WF-1000M4 가죽케이스 후기',\n",
       " '리미티드 에디션 사일런트 화이트 WH-1000XM4 구매 후기 리뷰',\n",
       " '막귀의 블루투스 이어폰 wf-1000mx4 후기(feat. 소니 nw-a105)',\n",
       " '소니헤드폰 WH-1000XM4 노이즈캔슬링 헤드폰 언박싱 후기',\n",
       " '&lt;소니 WH-1000XM4&gt; VS &lt;보스 NC700&gt; 후기.',\n",
       " '노이즈캔슬링 끝판왕 블루투스 무선 이어폰 소니 WF1000XM4 후기',\n",
       " 'wh-1000xm4 실버 무선 블루투스 노이즈캔슬링 헤드폰 후기... ',\n",
       " '소니 무선이어폰 WF1000XM4 개봉 후기 미친 성능',\n",
       " '소니 wf1000xm4 폼팁 물세척 후기',\n",
       " 'SONY WH-1004XM4 구입 후기',\n",
       " '2년 만에 더 강해져서 돌아왔다. SONY WF-1000XM4 후기',\n",
       " '소니 WF-1000XM4 블루투스 이어폰 6주간 실사용 후기',\n",
       " '헤드폰에 도전하는 노이즈 캔슬링 소니 WF-1000XM4 몰입 후기',\n",
       " '소니 무선이어폰 WF-1000XM4 한달 사용 후기',\n",
       " '무선이어폰 소니 노이즈캔슬링 WF-1000XM4 한달사용후기',\n",
       " '소니 WF-1000XM4... LDAC 갤럭시 설정방법 및 사운드 후기',\n",
       " '소니 WF-1000XM4 블루투스... 및 Speak to Chat 주관적 사용후기',\n",
       " '소니 WF-1000XM4, 드비알레 제미니 실사용 후기',\n",
       " '후기 좋은 소니 WF-1000XM4 선물',\n",
       " '소니 WF 1000XM4 성능 착샷 후기 최저가 재입고 일정 구매처... ',\n",
       " '매입후기] JBL TUNE 225TWS 동종모델 소니 WF-1000XM4... ',\n",
       " '[헤드폰 매입후기] B&amp;O... WH-1000XM4 XB910N 에어팟맥스... ',\n",
       " '후기] 애플 에어팟 맥스 경쟁모델 소니 WH-1000XM4... ',\n",
       " 'WH-1000XM4 음질 끝판왕 소니... 캔슬링 헤드폰 내 돈 내산 후기',\n",
       " '[중고 이어폰 매입후기]... WH-1000XM4 애프터샥... ',\n",
       " '[무선 헤드폰 매입후기]... WH-1000XM4 1000XM3 BOSE NC 700... ']"
      ]
     },
     "execution_count": 40,
     "metadata": {},
     "output_type": "execute_result"
    }
   ],
   "source": [
    "test[3]"
   ]
  },
  {
   "cell_type": "code",
   "execution_count": 39,
   "id": "fc5ceaa1",
   "metadata": {
    "ExecuteTime": {
     "end_time": "2022-04-18T05:15:12.226890Z",
     "start_time": "2022-04-18T05:15:12.213925Z"
    }
   },
   "outputs": [
    {
     "data": {
      "text/plain": [
       "96"
      ]
     },
     "execution_count": 39,
     "metadata": {},
     "output_type": "execute_result"
    }
   ],
   "source": [
    "len(test[1])"
   ]
  },
  {
   "cell_type": "code",
   "execution_count": 48,
   "id": "8b8cab48",
   "metadata": {
    "ExecuteTime": {
     "end_time": "2022-04-18T04:23:51.228325Z",
     "start_time": "2022-04-18T04:23:51.215402Z"
    }
   },
   "outputs": [
    {
     "data": {
      "text/plain": [
       "5"
      ]
     },
     "execution_count": 48,
     "metadata": {},
     "output_type": "execute_result"
    }
   ],
   "source": [
    "len(test)"
   ]
  },
  {
   "cell_type": "code",
   "execution_count": 9,
   "id": "b18d76f8",
   "metadata": {
    "ExecuteTime": {
     "end_time": "2022-04-14T00:06:07.373607Z",
     "start_time": "2022-04-14T00:06:01.363487Z"
    }
   },
   "outputs": [
    {
     "name": "stdout",
     "output_type": "stream",
     "text": [
      "검색하고 싶은 단어를 입력해주세요.랩씨 마카롱 스마트 커버 후기\n"
     ]
    }
   ],
   "source": [
    "search_word = input(\"검색하고 싶은 단어를 입력해주세요.\")"
   ]
  },
  {
   "cell_type": "code",
   "execution_count": 41,
   "id": "33995998",
   "metadata": {
    "ExecuteTime": {
     "end_time": "2022-04-18T05:37:48.236678Z",
     "start_time": "2022-04-18T05:37:48.224537Z"
    }
   },
   "outputs": [],
   "source": [
    "a,b,c,d,e = test"
   ]
  },
  {
   "cell_type": "code",
   "execution_count": 42,
   "id": "e4641e5c",
   "metadata": {
    "ExecuteTime": {
     "end_time": "2022-04-18T05:37:48.251677Z",
     "start_time": "2022-04-18T05:37:48.240681Z"
    }
   },
   "outputs": [
    {
     "data": {
      "text/plain": [
       "['https://blog.naver.com/PostView.naver?blogId=rladnjsxo64&logNo=222571874963',\n",
       " 'https://blog.naver.com/PostView.naver?blogId=feena74&logNo=222423856964',\n",
       " 'https://blog.naver.com/PostView.naver?blogId=supapa13&logNo=222498158979',\n",
       " 'https://blog.naver.com/PostView.naver?blogId=lifesdh&logNo=222414669555',\n",
       " 'https://blog.naver.com/PostView.naver?blogId=xerotype2&logNo=222415306975',\n",
       " 'https://blog.naver.com/PostView.naver?blogId=dongchimi212&logNo=222652612911',\n",
       " 'https://blog.naver.com/PostView.naver?blogId=apricot_4&logNo=222658424853',\n",
       " 'https://blog.naver.com/PostView.naver?blogId=skan5422&logNo=222583222026',\n",
       " 'https://blog.naver.com/PostView.naver?blogId=semin1020&logNo=222661865508',\n",
       " 'https://blog.naver.com/PostView.naver?blogId=rladnjsxo64&logNo=222565484664',\n",
       " 'https://blog.naver.com/PostView.naver?blogId=ddihw&logNo=222452134060',\n",
       " 'https://blog.naver.com/PostView.naver?blogId=pakseeun&logNo=222567999666',\n",
       " 'https://blog.naver.com/PostView.naver?blogId=eter2000&logNo=222613996479',\n",
       " 'https://blog.naver.com/PostView.naver?blogId=mylub1126&logNo=222638751335',\n",
       " 'https://blog.naver.com/PostView.naver?blogId=kyurl55&logNo=222589529932',\n",
       " 'https://blog.naver.com/PostView.naver?blogId=ha_tak&logNo=222558730866',\n",
       " 'https://blog.naver.com/PostView.naver?blogId=zezk98211&logNo=222650841542',\n",
       " 'https://blog.naver.com/PostView.naver?blogId=hjz3418&logNo=222423007112',\n",
       " 'https://blog.naver.com/PostView.naver?blogId=purplecrom&logNo=222557814330',\n",
       " 'https://blog.naver.com/PostView.naver?blogId=suengmin36&logNo=222640308726',\n",
       " 'https://blog.naver.com/PostView.naver?blogId=joypjes&logNo=222648250515',\n",
       " 'https://blog.naver.com/PostView.naver?blogId=plove4u&logNo=222561650904',\n",
       " 'https://blog.naver.com/PostView.naver?blogId=flyloo4&logNo=222412023831',\n",
       " 'https://blog.naver.com/PostView.naver?blogId=gkrwja88&logNo=222498405332',\n",
       " 'https://blog.naver.com/PostView.naver?blogId=pakseeun&logNo=222576691917',\n",
       " 'https://blog.naver.com/PostView.naver?blogId=purplecrom&logNo=222580652938',\n",
       " 'https://blog.naver.com/PostView.naver?blogId=dltptkd000&logNo=222415324485',\n",
       " 'https://blog.naver.com/PostView.naver?blogId=qkqkdus3&logNo=222555677662',\n",
       " 'https://blog.naver.com/PostView.naver?blogId=veraciel&logNo=222494566514',\n",
       " 'https://blog.naver.com/PostView.naver?blogId=munichmusic&logNo=222493059055',\n",
       " 'https://blog.naver.com/PostView.naver?blogId=hanahaeng1111&logNo=222675262161',\n",
       " 'https://blog.naver.com/PostView.naver?blogId=eter2000&logNo=222588555976',\n",
       " 'https://blog.naver.com/PostView.naver?blogId=lifethroughme&logNo=222426592027',\n",
       " 'https://blog.naver.com/PostView.naver?blogId=lovelybom08&logNo=222671327345',\n",
       " 'https://blog.naver.com/PostView.naver?blogId=kimosed1&logNo=222409712036',\n",
       " 'https://blog.naver.com/PostView.naver?blogId=riri_n&logNo=222567350786',\n",
       " 'https://blog.naver.com/PostView.naver?blogId=hu_sh_go&logNo=222474914372',\n",
       " 'https://blog.naver.com/PostView.naver?blogId=f1gp12&logNo=222421162300',\n",
       " 'https://blog.naver.com/PostView.naver?blogId=silfide2&logNo=222420600442',\n",
       " 'https://blog.naver.com/PostView.naver?blogId=ha_tak&logNo=222572577723',\n",
       " 'https://blog.naver.com/PostView.naver?blogId=smile7943&logNo=222448227515',\n",
       " 'https://blog.naver.com/PostView.naver?blogId=by_analog&logNo=222615021937',\n",
       " 'https://blog.naver.com/PostView.naver?blogId=min29433&logNo=222410921380',\n",
       " 'https://blog.naver.com/PostView.naver?blogId=die_verwandlung&logNo=222461252083',\n",
       " 'https://blog.naver.com/PostView.naver?blogId=light_purple1004&logNo=222419225803',\n",
       " 'https://blog.naver.com/PostView.naver?blogId=min29433&logNo=222556852947',\n",
       " 'https://blog.naver.com/PostView.naver?blogId=dis2011&logNo=222627074543',\n",
       " 'https://blog.naver.com/PostView.naver?blogId=simsh99&logNo=222539053923',\n",
       " 'https://blog.naver.com/PostView.naver?blogId=hazs&logNo=222467814435',\n",
       " 'https://blog.naver.com/PostView.naver?blogId=viet815&logNo=222616447865',\n",
       " 'https://blog.naver.com/PostView.naver?blogId=qqaa5&logNo=222409962977',\n",
       " 'https://blog.naver.com/PostView.naver?blogId=dis2011&logNo=222618485075',\n",
       " 'https://blog.naver.com/PostView.naver?blogId=bonz4560&logNo=222639087772',\n",
       " 'https://blog.naver.com/PostView.naver?blogId=wowyuns&logNo=222588832045',\n",
       " 'https://blog.naver.com/PostView.naver?blogId=wowyuns&logNo=222570252486',\n",
       " 'https://blog.naver.com/PostView.naver?blogId=3-times&logNo=222410465899',\n",
       " 'https://blog.naver.com/PostView.naver?blogId=brucem&logNo=222419211117',\n",
       " 'https://blog.naver.com/PostView.naver?blogId=yurikies&logNo=222517794076',\n",
       " 'https://blog.naver.com/PostView.naver?blogId=sdy02194&logNo=222546765186',\n",
       " 'https://blog.naver.com/PostView.naver?blogId=bapilot&logNo=222518362095',\n",
       " 'https://blog.naver.com/PostView.naver?blogId=21june_&logNo=222410386197',\n",
       " 'https://blog.naver.com/PostView.naver?blogId=comjrabbit&logNo=222534874924',\n",
       " 'https://blog.naver.com/PostView.naver?blogId=flyxyan1128&logNo=222519022192',\n",
       " 'https://blog.naver.com/PostView.naver?blogId=nicole9262&logNo=222393792495',\n",
       " 'https://blog.naver.com/PostView.naver?blogId=samil539&logNo=222557332498',\n",
       " 'https://blog.naver.com/PostView.naver?blogId=yuedu14&logNo=222687974139',\n",
       " 'https://blog.naver.com/PostView.naver?blogId=ss5918&logNo=222517654676',\n",
       " 'https://blog.naver.com/PostView.naver?blogId=qqaa5&logNo=222411999050',\n",
       " 'https://blog.naver.com/PostView.naver?blogId=nemonangoom&logNo=222199581448',\n",
       " 'https://blog.naver.com/PostView.naver?blogId=prettywws&logNo=222656523393',\n",
       " 'https://blog.naver.com/PostView.naver?blogId=taeyun8941&logNo=222561411629',\n",
       " 'https://blog.naver.com/PostView.naver?blogId=veraciel&logNo=222493165644',\n",
       " 'https://blog.naver.com/PostView.naver?blogId=rock_85&logNo=222517441070',\n",
       " 'https://blog.naver.com/PostView.naver?blogId=kcho6878&logNo=222490254009',\n",
       " 'https://blog.naver.com/PostView.naver?blogId=101minjae&logNo=222492804176',\n",
       " 'https://blog.naver.com/PostView.naver?blogId=hangru1106&logNo=222524453660',\n",
       " 'https://blog.naver.com/PostView.naver?blogId=y_jaein&logNo=222501698290',\n",
       " 'https://blog.naver.com/PostView.naver?blogId=wowyuns&logNo=222552920374',\n",
       " 'https://blog.naver.com/PostView.naver?blogId=yjh1114&logNo=222501719495',\n",
       " 'https://blog.naver.com/PostView.naver?blogId=kyi4020&logNo=222262975997',\n",
       " 'https://blog.naver.com/PostView.naver?blogId=searphiel9&logNo=222480186683',\n",
       " 'https://blog.naver.com/PostView.naver?blogId=jin8624&logNo=222588714137',\n",
       " 'https://blog.naver.com/PostView.naver?blogId=hyy2831&logNo=222557043429',\n",
       " 'https://blog.naver.com/PostView.naver?blogId=gpals112&logNo=222577825668',\n",
       " 'https://blog.naver.com/PostView.naver?blogId=hyy2831&logNo=222580870341',\n",
       " 'https://blog.naver.com/PostView.naver?blogId=purplecrom&logNo=222564777964',\n",
       " 'https://blog.naver.com/PostView.naver?blogId=purplecrom&logNo=222571618284',\n",
       " 'https://blog.naver.com/PostView.naver?blogId=light_purple1004&logNo=222442067377',\n",
       " 'https://blog.naver.com/PostView.naver?blogId=tasneemdeere&logNo=222644050532',\n",
       " 'https://blog.naver.com/PostView.naver?blogId=potatonam1&logNo=222449999315',\n",
       " 'https://blog.naver.com/PostView.naver?blogId=dhitec&logNo=222615905545',\n",
       " 'https://blog.naver.com/PostView.naver?blogId=dhitec&logNo=222619345406',\n",
       " 'https://blog.naver.com/PostView.naver?blogId=dhitec&logNo=222585438503',\n",
       " 'https://blog.naver.com/PostView.naver?blogId=viraljeju&logNo=222258560655',\n",
       " 'https://blog.naver.com/PostView.naver?blogId=dhitec&logNo=222606997683',\n",
       " 'https://blog.naver.com/PostView.naver?blogId=dhitec&logNo=222148214328']"
      ]
     },
     "execution_count": 42,
     "metadata": {},
     "output_type": "execute_result"
    }
   ],
   "source": [
    "a"
   ]
  },
  {
   "cell_type": "code",
   "execution_count": 62,
   "id": "06dc9ce8",
   "metadata": {
    "ExecuteTime": {
     "end_time": "2022-04-18T04:37:24.130630Z",
     "start_time": "2022-04-18T04:37:24.102611Z"
    }
   },
   "outputs": [
    {
     "data": {
      "text/plain": [
       "149"
      ]
     },
     "execution_count": 62,
     "metadata": {},
     "output_type": "execute_result"
    }
   ],
   "source": [
    "len(e)"
   ]
  },
  {
   "cell_type": "code",
   "execution_count": 43,
   "id": "5ca60ce3",
   "metadata": {
    "ExecuteTime": {
     "end_time": "2022-04-18T05:40:24.008443Z",
     "start_time": "2022-04-18T05:38:09.109216Z"
    }
   },
   "outputs": [
    {
     "name": "stderr",
     "output_type": "stream",
     "text": [
      "100%|██████████████████████████████████████████████████████████████████████████████████| 96/96 [02:14<00:00,  1.40s/it]\n"
     ]
    }
   ],
   "source": [
    "result = []\n",
    "for i in tqdm(range(len(e))):\n",
    "    result.append(blog_content_parsing(a[i]))"
   ]
  },
  {
   "cell_type": "code",
   "execution_count": 17,
   "id": "f1c50af9",
   "metadata": {
    "ExecuteTime": {
     "end_time": "2022-04-18T00:54:39.124995Z",
     "start_time": "2022-04-18T00:54:39.102608Z"
    }
   },
   "outputs": [],
   "source": [
    "df = pd.DataFrame()"
   ]
  },
  {
   "cell_type": "code",
   "execution_count": 18,
   "id": "ef315417",
   "metadata": {
    "ExecuteTime": {
     "end_time": "2022-04-18T01:25:57.254552Z",
     "start_time": "2022-04-18T01:25:57.227560Z"
    }
   },
   "outputs": [],
   "source": [
    "df[\"content\"] = result"
   ]
  },
  {
   "cell_type": "code",
   "execution_count": 13,
   "id": "d485c54d",
   "metadata": {
    "ExecuteTime": {
     "end_time": "2022-04-18T00:48:29.141730Z",
     "start_time": "2022-04-18T00:48:29.119102Z"
    }
   },
   "outputs": [
    {
     "data": {
      "text/plain": [
       "10"
      ]
     },
     "execution_count": 13,
     "metadata": {},
     "output_type": "execute_result"
    }
   ],
   "source": [
    "len(result)"
   ]
  },
  {
   "cell_type": "code",
   "execution_count": 45,
   "id": "fab75c45",
   "metadata": {
    "ExecuteTime": {
     "end_time": "2022-04-18T05:40:30.242978Z",
     "start_time": "2022-04-18T05:40:30.216463Z"
    }
   },
   "outputs": [],
   "source": [
    "df = pd.DataFrame()\n",
    "df[\"url\"] = a\n",
    "df[\"writer\"] = b\n",
    "df[\"title\"] = d\n",
    "df[\"description\"] = e\n",
    "df[\"content\"] = result\n"
   ]
  },
  {
   "cell_type": "code",
   "execution_count": 63,
   "id": "bc4e44d6",
   "metadata": {
    "ExecuteTime": {
     "end_time": "2022-04-18T05:47:24.124302Z",
     "start_time": "2022-04-18T05:47:24.111301Z"
    }
   },
   "outputs": [],
   "source": [
    "df[\"협찬\"] = 0"
   ]
  },
  {
   "cell_type": "code",
   "execution_count": 64,
   "id": "229b0a0c",
   "metadata": {
    "ExecuteTime": {
     "end_time": "2022-04-18T05:47:33.251284Z",
     "start_time": "2022-04-18T05:47:33.238251Z"
    }
   },
   "outputs": [],
   "source": [
    "df[\"체험단\"] = 0"
   ]
  },
  {
   "cell_type": "code",
   "execution_count": null,
   "id": "3aa2c152",
   "metadata": {},
   "outputs": [],
   "source": []
  },
  {
   "cell_type": "code",
   "execution_count": 65,
   "id": "8db9d394",
   "metadata": {
    "ExecuteTime": {
     "end_time": "2022-04-18T05:47:51.250690Z",
     "start_time": "2022-04-18T05:47:51.222113Z"
    }
   },
   "outputs": [
    {
     "name": "stderr",
     "output_type": "stream",
     "text": [
      "C:\\Users\\User\\AppData\\Local\\Temp\\ipykernel_10564\\1051424646.py:1: SettingWithCopyWarning: \n",
      "A value is trying to be set on a copy of a slice from a DataFrame\n",
      "\n",
      "See the caveats in the documentation: https://pandas.pydata.org/pandas-docs/stable/user_guide/indexing.html#returning-a-view-versus-a-copy\n",
      "  df[\"협찬\"][df[\"content\"].str.contains(\"협찬\")] = 1\n"
     ]
    }
   ],
   "source": [
    "df[\"협찬\"][df[\"content\"].str.contains(\"협찬\")] = 1"
   ]
  },
  {
   "cell_type": "code",
   "execution_count": 68,
   "id": "5f695103",
   "metadata": {
    "ExecuteTime": {
     "end_time": "2022-04-18T05:48:24.132392Z",
     "start_time": "2022-04-18T05:48:24.118653Z"
    }
   },
   "outputs": [
    {
     "name": "stderr",
     "output_type": "stream",
     "text": [
      "C:\\Users\\User\\AppData\\Local\\Temp\\ipykernel_10564\\3795517829.py:1: SettingWithCopyWarning: \n",
      "A value is trying to be set on a copy of a slice from a DataFrame\n",
      "\n",
      "See the caveats in the documentation: https://pandas.pydata.org/pandas-docs/stable/user_guide/indexing.html#returning-a-view-versus-a-copy\n",
      "  df[\"체험단\"][df[\"content\"].str.contains(\"체험단\")] = 1\n"
     ]
    }
   ],
   "source": [
    "df[\"체험단\"][df[\"content\"].str.contains(\"체험단\")] = 1"
   ]
  },
  {
   "cell_type": "code",
   "execution_count": 69,
   "id": "fb159602",
   "metadata": {
    "ExecuteTime": {
     "end_time": "2022-04-18T05:48:33.247761Z",
     "start_time": "2022-04-18T05:48:33.220792Z"
    }
   },
   "outputs": [
    {
     "data": {
      "text/html": [
       "<div>\n",
       "<style scoped>\n",
       "    .dataframe tbody tr th:only-of-type {\n",
       "        vertical-align: middle;\n",
       "    }\n",
       "\n",
       "    .dataframe tbody tr th {\n",
       "        vertical-align: top;\n",
       "    }\n",
       "\n",
       "    .dataframe thead th {\n",
       "        text-align: right;\n",
       "    }\n",
       "</style>\n",
       "<table border=\"1\" class=\"dataframe\">\n",
       "  <thead>\n",
       "    <tr style=\"text-align: right;\">\n",
       "      <th></th>\n",
       "      <th>url</th>\n",
       "      <th>writer</th>\n",
       "      <th>title</th>\n",
       "      <th>description</th>\n",
       "      <th>content</th>\n",
       "      <th>협찬</th>\n",
       "      <th>체험단</th>\n",
       "    </tr>\n",
       "  </thead>\n",
       "  <tbody>\n",
       "    <tr>\n",
       "      <th>11</th>\n",
       "      <td>https://blog.naver.com/PostView.naver?blogId=p...</td>\n",
       "      <td>pakseeun</td>\n",
       "      <td>소니 WF-1000xm4, 2주간의 실 사용후기</td>\n",
       "      <td>고민 중인 분들에게 도움이 되길 바랍니다. ㅋㅋ 산책하기 좋은 가을 #노캔이어폰 #...</td>\n",
       "      <td>안녕하세요. 세은파파입니다. 소니 1000 4 체험단에 참여하게 되어, 매주 100...</td>\n",
       "      <td>0</td>\n",
       "      <td>1</td>\n",
       "    </tr>\n",
       "    <tr>\n",
       "      <th>24</th>\n",
       "      <td>https://blog.naver.com/PostView.naver?blogId=p...</td>\n",
       "      <td>pakseeun</td>\n",
       "      <td>소니 WF-1000XM4, 네 번째 이야기: 영화 감상과 케이스 후기</td>\n",
       "      <td>헤드폰에 도전하는 소니의 노이즈 캔슬링 이어폰 WF-1000xm4 체험단으로 전해드...</td>\n",
       "      <td>안녕하세요. 세은파파입니다. 헤드폰에 도전하는 소니의 노이즈 캔슬링 이어폰 1000...</td>\n",
       "      <td>0</td>\n",
       "      <td>1</td>\n",
       "    </tr>\n",
       "    <tr>\n",
       "      <th>53</th>\n",
       "      <td>https://blog.naver.com/PostView.naver?blogId=w...</td>\n",
       "      <td>wowyuns</td>\n",
       "      <td>소니 WF-1000XM4 후기 남편에게 몰입의즐거움을 선물하다</td>\n",
       "      <td>외출할때마다 휴대폰 말고 꼭 챙겨나가는 나의 애정템 소니 WF1000XM4 무선이어...</td>\n",
       "      <td>외출할때마다 휴대폰 말고 꼭 챙겨나가는 나의 애정템 소니 1000 4 무선이어폰 오...</td>\n",
       "      <td>0</td>\n",
       "      <td>1</td>\n",
       "    </tr>\n",
       "    <tr>\n",
       "      <th>77</th>\n",
       "      <td>https://blog.naver.com/PostView.naver?blogId=w...</td>\n",
       "      <td>wowyuns</td>\n",
       "      <td>소니 무선이어폰 WF1000XM4 개봉 후기 미친 성능</td>\n",
       "      <td>앞두고 몇일전 화상 줌으로 비대면 온라인 발대식도 했었어요 발대식때 들었던 설명대로...</td>\n",
       "      <td>몇달전 소니에서 발표한 무선 블루투스 이어폰 헤드폰에도전하다 1000 4 출시 소식...</td>\n",
       "      <td>0</td>\n",
       "      <td>1</td>\n",
       "    </tr>\n",
       "    <tr>\n",
       "      <th>81</th>\n",
       "      <td>https://blog.naver.com/PostView.naver?blogId=j...</td>\n",
       "      <td>jin8624</td>\n",
       "      <td>소니 WF-1000XM4 블루투스 이어폰 6주간 실사용 후기</td>\n",
       "      <td>소니 WF-1000XM4 의 다양한 편의기능 - 노이즈캔슬링, Speak to Ch...</td>\n",
       "      <td>안녕하세요? 이솔파파입니다. 오늘은 소니 1000 4 블루투스 이어폰의 여섯번째 리...</td>\n",
       "      <td>0</td>\n",
       "      <td>1</td>\n",
       "    </tr>\n",
       "    <tr>\n",
       "      <th>82</th>\n",
       "      <td>https://blog.naver.com/PostView.naver?blogId=h...</td>\n",
       "      <td>hyy2831</td>\n",
       "      <td>헤드폰에 도전하는 노이즈 캔슬링 소니 WF-1000XM4 몰입 후기</td>\n",
       "      <td>(그 후기도 다음주에 기대하세요♡) SONY 소니에서 지난 6월 출시한 신제품 WF...</td>\n",
       "      <td>가을바람이 살랑살랑 불어오는 요즘 단풍물이 조금씩 물들고 있어서 야외활동하기 딱 좋...</td>\n",
       "      <td>1</td>\n",
       "      <td>1</td>\n",
       "    </tr>\n",
       "    <tr>\n",
       "      <th>84</th>\n",
       "      <td>https://blog.naver.com/PostView.naver?blogId=h...</td>\n",
       "      <td>hyy2831</td>\n",
       "      <td>무선이어폰 소니 노이즈캔슬링 WF-1000XM4 한달사용후기</td>\n",
       "      <td>그 후기로 또 찾아뵐게요~♡ #무선이어폰 #노이즈캔슬링이어폰 #소니 #소니이어폰 #...</td>\n",
       "      <td>어느덧 202년 마지막달 12월이 다가왔어요 올한해는 전보다 더 빠르게 흘러간것같아...</td>\n",
       "      <td>1</td>\n",
       "      <td>1</td>\n",
       "    </tr>\n",
       "  </tbody>\n",
       "</table>\n",
       "</div>"
      ],
      "text/plain": [
       "                                                  url    writer  \\\n",
       "11  https://blog.naver.com/PostView.naver?blogId=p...  pakseeun   \n",
       "24  https://blog.naver.com/PostView.naver?blogId=p...  pakseeun   \n",
       "53  https://blog.naver.com/PostView.naver?blogId=w...   wowyuns   \n",
       "77  https://blog.naver.com/PostView.naver?blogId=w...   wowyuns   \n",
       "81  https://blog.naver.com/PostView.naver?blogId=j...   jin8624   \n",
       "82  https://blog.naver.com/PostView.naver?blogId=h...   hyy2831   \n",
       "84  https://blog.naver.com/PostView.naver?blogId=h...   hyy2831   \n",
       "\n",
       "                                     title  \\\n",
       "11              소니 WF-1000xm4, 2주간의 실 사용후기   \n",
       "24  소니 WF-1000XM4, 네 번째 이야기: 영화 감상과 케이스 후기   \n",
       "53      소니 WF-1000XM4 후기 남편에게 몰입의즐거움을 선물하다   \n",
       "77          소니 무선이어폰 WF1000XM4 개봉 후기 미친 성능   \n",
       "81       소니 WF-1000XM4 블루투스 이어폰 6주간 실사용 후기   \n",
       "82   헤드폰에 도전하는 노이즈 캔슬링 소니 WF-1000XM4 몰입 후기   \n",
       "84       무선이어폰 소니 노이즈캔슬링 WF-1000XM4 한달사용후기   \n",
       "\n",
       "                                          description  \\\n",
       "11  고민 중인 분들에게 도움이 되길 바랍니다. ㅋㅋ 산책하기 좋은 가을 #노캔이어폰 #...   \n",
       "24  헤드폰에 도전하는 소니의 노이즈 캔슬링 이어폰 WF-1000xm4 체험단으로 전해드...   \n",
       "53  외출할때마다 휴대폰 말고 꼭 챙겨나가는 나의 애정템 소니 WF1000XM4 무선이어...   \n",
       "77  앞두고 몇일전 화상 줌으로 비대면 온라인 발대식도 했었어요 발대식때 들었던 설명대로...   \n",
       "81  소니 WF-1000XM4 의 다양한 편의기능 - 노이즈캔슬링, Speak to Ch...   \n",
       "82  (그 후기도 다음주에 기대하세요♡) SONY 소니에서 지난 6월 출시한 신제품 WF...   \n",
       "84  그 후기로 또 찾아뵐게요~♡ #무선이어폰 #노이즈캔슬링이어폰 #소니 #소니이어폰 #...   \n",
       "\n",
       "                                              content  협찬  체험단  \n",
       "11  안녕하세요. 세은파파입니다. 소니 1000 4 체험단에 참여하게 되어, 매주 100...   0    1  \n",
       "24  안녕하세요. 세은파파입니다. 헤드폰에 도전하는 소니의 노이즈 캔슬링 이어폰 1000...   0    1  \n",
       "53  외출할때마다 휴대폰 말고 꼭 챙겨나가는 나의 애정템 소니 1000 4 무선이어폰 오...   0    1  \n",
       "77  몇달전 소니에서 발표한 무선 블루투스 이어폰 헤드폰에도전하다 1000 4 출시 소식...   0    1  \n",
       "81  안녕하세요? 이솔파파입니다. 오늘은 소니 1000 4 블루투스 이어폰의 여섯번째 리...   0    1  \n",
       "82  가을바람이 살랑살랑 불어오는 요즘 단풍물이 조금씩 물들고 있어서 야외활동하기 딱 좋...   1    1  \n",
       "84  어느덧 202년 마지막달 12월이 다가왔어요 올한해는 전보다 더 빠르게 흘러간것같아...   1    1  "
      ]
     },
     "execution_count": 69,
     "metadata": {},
     "output_type": "execute_result"
    }
   ],
   "source": [
    "df[df[\"content\"].str.contains(\"체험단\")]"
   ]
  },
  {
   "cell_type": "code",
   "execution_count": 56,
   "id": "c10ad280",
   "metadata": {
    "ExecuteTime": {
     "end_time": "2022-04-18T05:42:42.272937Z",
     "start_time": "2022-04-18T05:42:42.228212Z"
    }
   },
   "outputs": [
    {
     "ename": "AttributeError",
     "evalue": "'str' object has no attribute 'contains'",
     "output_type": "error",
     "traceback": [
      "\u001b[1;31m---------------------------------------------------------------------------\u001b[0m",
      "\u001b[1;31mAttributeError\u001b[0m                            Traceback (most recent call last)",
      "Input \u001b[1;32mIn [56]\u001b[0m, in \u001b[0;36m<module>\u001b[1;34m\u001b[0m\n\u001b[1;32m----> 1\u001b[0m \u001b[43mdf\u001b[49m\u001b[38;5;241;43m.\u001b[39;49m\u001b[43mloc\u001b[49m\u001b[43m[\u001b[49m\u001b[38;5;241;43m0\u001b[39;49m\u001b[43m,\u001b[49m\u001b[43m \u001b[49m\u001b[38;5;124;43m\"\u001b[39;49m\u001b[38;5;124;43mcontent\u001b[39;49m\u001b[38;5;124;43m\"\u001b[39;49m\u001b[43m]\u001b[49m\u001b[38;5;241;43m.\u001b[39;49m\u001b[43mcontains\u001b[49m(\u001b[38;5;124m\"\u001b[39m\u001b[38;5;124m소니\u001b[39m\u001b[38;5;124m\"\u001b[39m)\n",
      "\u001b[1;31mAttributeError\u001b[0m: 'str' object has no attribute 'contains'"
     ]
    }
   ],
   "source": [
    "df.loc[0, \"content\"].contains(\"소니\")"
   ]
  },
  {
   "cell_type": "code",
   "execution_count": 49,
   "id": "6c563136",
   "metadata": {
    "ExecuteTime": {
     "end_time": "2022-04-18T05:41:09.145503Z",
     "start_time": "2022-04-18T05:41:09.118087Z"
    }
   },
   "outputs": [
    {
     "data": {
      "text/plain": [
       "0     지난 몇 주간 소니 1000 4에 대한 사용 후기를 남겼는데 개봉기를 빼놓을 수 없...\n",
       "1     노이즈 캔슬링 이어폰의 왕의 귀환! 소니 1000 4가 발매가 되었습니다. 전작인 ...\n",
       "2     드디어 나왔습니다! 크!! 기다리고 기다렸던 소니 1000 4 노이즈캔슬링 이어폰입...\n",
       "3     소니에서 이번에 새로 정식 출시한 1000 4는 전작 1000 3에서 확연하게 달라...\n",
       "4     안녕하세요, 밝은불꽃입니다! 요즘 날씨가 더워서 헤드폰 대신 블루투스 이어폰을 들고...\n",
       "                            ...                        \n",
       "91    중고 헤드폰 매입후기, 뱅앤올룹슨 안녕하세요. 판매 하시는 장비 및 전자기기를 빠르...\n",
       "92    중고 헤드폰 매입후기, 애플 에어팟 맥스 무선 헤드폰 안녕하세요. 판매 하시는 장비...\n",
       "93    최근 들어 가성비 좋은 제품으로 핫하게 떠오르고 있는 소니 블루투스 노이즈 캔슬링 ...\n",
       "94    중고 무선 이어폰 매입후기, 애플 에어팟프로 안녕하세요. 판매 하시는 장비 및 전자...\n",
       "95    무선 헤드폰 매입, 스컬캔디 블루투스 헤드폰 매입 후기 안녕하세요. 판매 하시는 장...\n",
       "Name: content, Length: 96, dtype: object"
      ]
     },
     "execution_count": 49,
     "metadata": {},
     "output_type": "execute_result"
    }
   ],
   "source": [
    "df[\"content\"]"
   ]
  },
  {
   "cell_type": "code",
   "execution_count": 74,
   "id": "f413e584",
   "metadata": {
    "ExecuteTime": {
     "end_time": "2022-04-18T07:25:57.247882Z",
     "start_time": "2022-04-18T07:25:57.235454Z"
    }
   },
   "outputs": [],
   "source": [
    "df[\"coupang\"] = 0"
   ]
  },
  {
   "cell_type": "code",
   "execution_count": 77,
   "id": "ce514086",
   "metadata": {
    "ExecuteTime": {
     "end_time": "2022-04-18T07:26:54.132379Z",
     "start_time": "2022-04-18T07:26:54.106258Z"
    }
   },
   "outputs": [
    {
     "name": "stderr",
     "output_type": "stream",
     "text": [
      "C:\\Users\\User\\AppData\\Local\\Temp\\ipykernel_10564\\285214680.py:1: SettingWithCopyWarning: \n",
      "A value is trying to be set on a copy of a slice from a DataFrame\n",
      "\n",
      "See the caveats in the documentation: https://pandas.pydata.org/pandas-docs/stable/user_guide/indexing.html#returning-a-view-versus-a-copy\n",
      "  df[\"coupang\"][df[\"content\"].str.contains(\"coupa\")] = 1\n"
     ]
    }
   ],
   "source": [
    "df[\"coupang\"][df[\"content\"].str.contains(\"coupa\")] = 1"
   ]
  },
  {
   "cell_type": "code",
   "execution_count": 78,
   "id": "62a144e3",
   "metadata": {
    "ExecuteTime": {
     "end_time": "2022-04-18T07:26:54.162426Z",
     "start_time": "2022-04-18T07:26:54.137282Z"
    }
   },
   "outputs": [
    {
     "data": {
      "text/html": [
       "<div>\n",
       "<style scoped>\n",
       "    .dataframe tbody tr th:only-of-type {\n",
       "        vertical-align: middle;\n",
       "    }\n",
       "\n",
       "    .dataframe tbody tr th {\n",
       "        vertical-align: top;\n",
       "    }\n",
       "\n",
       "    .dataframe thead th {\n",
       "        text-align: right;\n",
       "    }\n",
       "</style>\n",
       "<table border=\"1\" class=\"dataframe\">\n",
       "  <thead>\n",
       "    <tr style=\"text-align: right;\">\n",
       "      <th></th>\n",
       "      <th>url</th>\n",
       "      <th>writer</th>\n",
       "      <th>title</th>\n",
       "      <th>description</th>\n",
       "      <th>content</th>\n",
       "      <th>협찬</th>\n",
       "      <th>체험단</th>\n",
       "      <th>coupang</th>\n",
       "    </tr>\n",
       "  </thead>\n",
       "  <tbody>\n",
       "  </tbody>\n",
       "</table>\n",
       "</div>"
      ],
      "text/plain": [
       "Empty DataFrame\n",
       "Columns: [url, writer, title, description, content, 협찬, 체험단, coupang]\n",
       "Index: []"
      ]
     },
     "execution_count": 78,
     "metadata": {},
     "output_type": "execute_result"
    }
   ],
   "source": [
    "df[df[\"coupang\"]==1]"
   ]
  },
  {
   "cell_type": "code",
   "execution_count": 80,
   "id": "56ae53d8",
   "metadata": {
    "ExecuteTime": {
     "end_time": "2022-04-18T07:29:33.250722Z",
     "start_time": "2022-04-18T07:29:33.237718Z"
    }
   },
   "outputs": [
    {
     "data": {
      "text/plain": [
       "'안녕하세요 다링비'"
      ]
     },
     "execution_count": 80,
     "metadata": {},
     "output_type": "execute_result"
    }
   ],
   "source": [
    "preprocess_sentence_kr(\"안녕하세요 sdf 다링비\")"
   ]
  },
  {
   "cell_type": "code",
   "execution_count": 104,
   "id": "5185f0e0",
   "metadata": {
    "ExecuteTime": {
     "end_time": "2022-04-18T07:37:48.247874Z",
     "start_time": "2022-04-18T07:37:48.238764Z"
    }
   },
   "outputs": [],
   "source": [
    "def cleanhtml(raw_html):\n",
    "    cleantext = re.sub('&nbsp;| |\\t|\\r|\\n', '', raw_html)\n",
    "#     cleantext = re.sub(cleanr, '', raw_html)\n",
    "    return cleantext"
   ]
  },
  {
   "cell_type": "code",
   "execution_count": 101,
   "id": "029778bf",
   "metadata": {
    "ExecuteTime": {
     "end_time": "2022-04-18T07:37:15.242889Z",
     "start_time": "2022-04-18T07:37:15.221995Z"
    }
   },
   "outputs": [],
   "source": [
    "def cleanhtml(raw_html):\n",
    "\n",
    "    cleanr = re.compile('<.*?>|&([a-z0-9]+|#[0-9]{1,6}|#x[0-9a-f]{1,6});&nbsp;| |\\t|\\r|\\n')\n",
    "    cleantext = re.sub(cleanr, '', raw_html)\n",
    "    return cleantext"
   ]
  },
  {
   "cell_type": "code",
   "execution_count": 105,
   "id": "57da429b",
   "metadata": {
    "ExecuteTime": {
     "end_time": "2022-04-18T07:37:48.262917Z",
     "start_time": "2022-04-18T07:37:48.249886Z"
    }
   },
   "outputs": [
    {
     "data": {
      "text/plain": [
       "'&nbspcoupa.ng'"
      ]
     },
     "execution_count": 105,
     "metadata": {},
     "output_type": "execute_result"
    }
   ],
   "source": [
    "cleanhtml(\"&nbsp coupa.ng\")"
   ]
  },
  {
   "cell_type": "code",
   "execution_count": 72,
   "id": "3b08d025",
   "metadata": {
    "ExecuteTime": {
     "end_time": "2022-04-18T05:50:03.241114Z",
     "start_time": "2022-04-18T05:50:03.212910Z"
    }
   },
   "outputs": [],
   "source": [
    "df.to_csv(\"소닉_wh-1000xm4.csv\", index= False,encoding=\"utf-8-sig\")"
   ]
  },
  {
   "cell_type": "code",
   "execution_count": null,
   "id": "3deb8209",
   "metadata": {},
   "outputs": [],
   "source": []
  }
 ],
 "metadata": {
  "kernelspec": {
   "display_name": "Python 3 (ipykernel)",
   "language": "python",
   "name": "python3"
  },
  "language_info": {
   "codemirror_mode": {
    "name": "ipython",
    "version": 3
   },
   "file_extension": ".py",
   "mimetype": "text/x-python",
   "name": "python",
   "nbconvert_exporter": "python",
   "pygments_lexer": "ipython3",
   "version": "3.8.8"
  },
  "toc": {
   "base_numbering": 1,
   "nav_menu": {},
   "number_sections": true,
   "sideBar": true,
   "skip_h1_title": false,
   "title_cell": "Table of Contents",
   "title_sidebar": "Contents",
   "toc_cell": false,
   "toc_position": {},
   "toc_section_display": true,
   "toc_window_display": false
  },
  "varInspector": {
   "cols": {
    "lenName": 16,
    "lenType": 16,
    "lenVar": 40
   },
   "kernels_config": {
    "python": {
     "delete_cmd_postfix": "",
     "delete_cmd_prefix": "del ",
     "library": "var_list.py",
     "varRefreshCmd": "print(var_dic_list())"
    },
    "r": {
     "delete_cmd_postfix": ") ",
     "delete_cmd_prefix": "rm(",
     "library": "var_list.r",
     "varRefreshCmd": "cat(var_dic_list()) "
    }
   },
   "types_to_exclude": [
    "module",
    "function",
    "builtin_function_or_method",
    "instance",
    "_Feature"
   ],
   "window_display": false
  }
 },
 "nbformat": 4,
 "nbformat_minor": 5
}
