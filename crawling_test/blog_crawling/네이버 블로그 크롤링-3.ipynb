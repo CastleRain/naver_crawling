{
 "cells": [
  {
   "cell_type": "code",
   "execution_count": 42,
   "id": "e21dbf22",
   "metadata": {
    "ExecuteTime": {
     "end_time": "2022-04-19T00:57:25.319141Z",
     "start_time": "2022-04-19T00:57:22.509093Z"
    }
   },
   "outputs": [],
   "source": [
    "# 시스템\n",
    "import os\n",
    "import sys\n",
    "import re\n",
    "# 크롤링\n",
    "import urllib.request\n",
    "import requests\n",
    "import json\n",
    "from scrapy.http import TextResponse\n",
    "from bs4 import BeautifulSoup\n",
    "from selenium import webdriver\n",
    "from tqdm import tqdm\n",
    "\n",
    "import pandas as pd\n",
    "\n",
    "import warnings\n",
    "warnings.filterwarnings('ignore')"
   ]
  },
  {
   "cell_type": "code",
   "execution_count": 8,
   "id": "a6c43762",
   "metadata": {
    "ExecuteTime": {
     "end_time": "2022-04-19T00:57:31.641358Z",
     "start_time": "2022-04-19T00:57:31.625401Z"
    }
   },
   "outputs": [],
   "source": [
    "# 태그 데이터를 삭제하는 코드\n",
    "def tag_remove(word):\n",
    "\n",
    "    word = re.sub('(<([^>]+)>)', '', word)\n",
    "\n",
    "    return word\n",
    "\n",
    "# 한글만 남기는 코드 -> 태그만 삭제해야함\n",
    "def preprocess_sentence_kr(w):\n",
    "    w = w.strip()\n",
    "    w = re.sub(r\"[^0-9가-힣?.!,¿]+\", \" \", w) # \\n도 공백으로 대체해줌\n",
    "    w = w.strip()\n",
    "    return w\n",
    "\n",
    "# 한글 영어만 남기는 코드 -> 태그만 삭제해야함\n",
    "def preprocess_sentence(w):\n",
    "    w = w.strip()\n",
    "    w = re.sub(r\"[^0-9가-힣a-zA-Z?.!,¿]+\", \" \", w) # \\n도 공백으로 대체해줌\n",
    "    w = w.strip()\n",
    "    return w"
   ]
  },
  {
   "cell_type": "code",
   "execution_count": 98,
   "id": "216ecfff",
   "metadata": {},
   "outputs": [],
   "source": [
    "def blog_content_parsing(url):\n",
    "    blog_req = requests.get(url)\n",
    "    blog_bs = BeautifulSoup(blog_req.text, \"html.parser\")\n",
    "    \n",
    "    result = []\n",
    "    quote = []\n",
    "    quote_cnt = 0\n",
    "    img_cnt = 0\n",
    "    content, first_img, last_img = \"\", \"\" ,\"\"\n",
    "    try:\n",
    "        # 현재 여기서 안되는것은 스마트에디터 3로 작성된 경우이다.\n",
    "        # 이미지 내용 크롤링\n",
    "        img_craw = blog_bs.select(\".se-module-image\")\n",
    "        img_cnt = len(img_craw)\n",
    "\n",
    "        if img_cnt != 0: # 사진이 있는 경우만 크롤링\n",
    "\n",
    "            first_img = img_craw[0].select_one(\".se-module-image-link > img\")[\"data-lazy-src\"]\n",
    "            last_img = img_craw[img_cnt-1].select_one(\".se-module-image-link > img\")[\"data-lazy-src\"]\n",
    "        # 글 내용 크롤링\n",
    "        for i in blog_bs.select(\".se-text\"):\n",
    "            for j in i.select(\".se-module-text > p\"):\n",
    "                txt = j.text\n",
    "                if txt != \"\\u200b\":\n",
    "                    result.append(txt)\n",
    "        content = \" \".join(result)\n",
    "\n",
    "        for i in blog_bs.select(\".se-quote\"):\n",
    "            quote.append(i.text)\n",
    "            quote_cnt += 1\n",
    "    except:\n",
    "        return False, content,quote, quote_cnt,  first_img, last_img,  img_cnt\n",
    "        \n",
    "    return True, content,quote, quote_cnt, first_img, last_img,  img_cnt"
   ]
  },
  {
   "cell_type": "code",
   "execution_count": 10,
   "id": "d71d78cc",
   "metadata": {
    "ExecuteTime": {
     "end_time": "2022-04-19T00:57:31.929948Z",
     "start_time": "2022-04-19T00:57:31.917982Z"
    }
   },
   "outputs": [],
   "source": [
    "# blog가 네이버 블로그인지 아닌지 판별하는 코드\n",
    "\n",
    "def naver_blog_check(code):\n",
    "    \n",
    "    if code[0].isdigit():\n",
    "        return False\n",
    "    else:\n",
    "        return True\n",
    "\n",
    "\n",
    "# 모든 단어를 하나씩 나누어서 확인하자.\n",
    "# \n",
    "\n",
    "def naver_title_check(search_word, title):\n",
    "     \n",
    "    # search_word = preprocess_sentence_kr(search_word)\n",
    "    \n",
    "    for words in search_word.split():\n",
    "        for word in words:\n",
    "            if word.lower() not in title.lower():\n",
    "                return True"
   ]
  },
  {
   "cell_type": "code",
   "execution_count": 11,
   "id": "2a1cb6f1",
   "metadata": {
    "ExecuteTime": {
     "end_time": "2022-04-19T00:57:32.988003Z",
     "start_time": "2022-04-19T00:57:32.975014Z"
    }
   },
   "outputs": [],
   "source": [
    "# 이름이 들어오면 해당 내용을 이용하여 블로그를 파싱한다.\n",
    "\n",
    "# search_word : 어떤 제품을 검색하는지\n",
    "# repeat_num : 해당 제품이 제목에서 몇번 안나올때까지 검색을 진행할 지\n",
    "def item_parsing(search_word, start, display, repeat_num):\n",
    "   \n",
    "    blog_search = naver_api(search_word, start, display)\n",
    "    print(\"start ++++++++++++++++++++\")\n",
    "    # result : url\n",
    "    # writer : 작성자 이름\n",
    "    # code : 블로그 코드\n",
    "    # title : 블로그 제목\n",
    "    # description : 블로그 요약 설명\n",
    "    blog_result = []\n",
    "    blog_writer = []\n",
    "    blog_code = []\n",
    "    blog_title = []\n",
    "    blog_description = []\n",
    "    repeat = True\n",
    "    cnt = 0\n",
    "    # 제목에서 해당 제품의 이름이 5번 연속 안나온다면 패스\n",
    "    while repeat:\n",
    "        \n",
    "        for blog in blog_search[\"items\"]: \n",
    "             # 블로그 코드\n",
    "            code = blog[\"link\"][blog[\"link\"].find(\"logNo=\") + 6:]\n",
    "            if naver_blog_check(code): # 네이버 블로그가 아닌경우 다음으로 넘기기\n",
    "                continue\n",
    "\n",
    "            # 이름\n",
    "            writer = blog[\"bloggerlink\"][23:]\n",
    "\n",
    "            # 제목\n",
    "            title = tag_remove(blog[\"title\"])\n",
    "            \n",
    "            if naver_title_check(search_word, title):\n",
    "                continue\n",
    "\n",
    "            # 블로그 요약\n",
    "            description = tag_remove(blog[\"description\"])\n",
    "            ## 데이터 추가하는 곳\n",
    "            # 블로그 코드 추가\n",
    "            blog_code.append(code)\n",
    "            # 이름 추가\n",
    "            blog_writer.append(writer)\n",
    "            # 제목 추가\n",
    "            blog_title.append(title)\n",
    "            # 블로그 요약 추가\n",
    "            blog_description.append(description)\n",
    "            # 본문 크롤링을 위한 URL주소 추가\n",
    "            blog_result.append(f\"https://blog.naver.com/PostView.naver?blogId={writer}&logNo={code}\")\n",
    "        if start + display <= blog_search[\"total\"]:\n",
    "            start += display\n",
    "            blog_search = naver_api(search_word, start, display)\n",
    "            print(f\"start = {start}\")\n",
    "            print(\"repeat start ++++++++++++++++++++\")\n",
    "        else:\n",
    "            print(\"repeat End\")\n",
    "            repeat = False\n",
    "    return blog_result, blog_writer, blog_code, blog_title, blog_description"
   ]
  },
  {
   "cell_type": "code",
   "execution_count": 12,
   "id": "3e6f67ea",
   "metadata": {
    "ExecuteTime": {
     "end_time": "2022-04-19T00:57:34.607877Z",
     "start_time": "2022-04-19T00:57:34.598903Z"
    }
   },
   "outputs": [],
   "source": [
    "def naver_api(search_word, start, display):\n",
    "    client_id = \"GvNa2sBgFDA6v7ujnaz0\"\n",
    "    client_secret = \"Yo0jOskXlZ\"\n",
    "    \n",
    "    encText = urllib.parse.quote(search_word)\n",
    "    \n",
    "    url = \"https://openapi.naver.com/v1/search/blog?query=\" + encText # json 결과\n",
    "    url += f\"&start={start}\"\n",
    "    url += f\"&display={display}\"\n",
    "\n",
    "    request = urllib.request.Request(url)\n",
    "    request.add_header(\"X-Naver-Client-Id\",client_id)\n",
    "    request.add_header(\"X-Naver-Client-Secret\",client_secret)\n",
    "    response = urllib.request.urlopen(request)\n",
    "    rescode = response.getcode()\n",
    "    if(rescode==200):\n",
    "        response_body = response.read()\n",
    "    else:\n",
    "        print(\"Error Code:\" + rescode)\n",
    "    return json.loads(response_body.decode('utf-8'))"
   ]
  },
  {
   "cell_type": "code",
   "execution_count": 13,
   "id": "be781c0d",
   "metadata": {},
   "outputs": [],
   "source": [
    "def search_word(word):\n",
    "    result = []\n",
    "    append_data = [\"후기\", \"리뷰\"]\n",
    "    for data in append_data:\n",
    "        result.append(word + \" \" + data)\n",
    "        \n",
    "    return result\n",
    "\n",
    "    "
   ]
  },
  {
   "cell_type": "code",
   "execution_count": null,
   "id": "0b386a42",
   "metadata": {},
   "outputs": [],
   "source": [
    "# columns = [\"url\", \"title\", \"description\", \"content\", \"contnet_len\", ]"
   ]
  },
  {
   "cell_type": "code",
   "execution_count": 79,
   "id": "55f7b2a9",
   "metadata": {},
   "outputs": [],
   "source": [
    "url = []\n",
    "sd = [\"sdf\" ,\"sdff\"]"
   ]
  },
  {
   "cell_type": "code",
   "execution_count": 82,
   "id": "5c18cd99",
   "metadata": {},
   "outputs": [],
   "source": [
    "url += sd"
   ]
  },
  {
   "cell_type": "code",
   "execution_count": 83,
   "id": "39ca7aee",
   "metadata": {},
   "outputs": [
    {
     "data": {
      "text/plain": [
       "['sdf', 'sdff', 'sdf', 'sdff']"
      ]
     },
     "execution_count": 83,
     "metadata": {},
     "output_type": "execute_result"
    }
   ],
   "source": [
    "url"
   ]
  },
  {
   "cell_type": "code",
   "execution_count": 101,
   "id": "778495a8",
   "metadata": {
    "ExecuteTime": {
     "end_time": "2022-04-18T05:13:53.782128Z",
     "start_time": "2022-04-18T05:13:51.225113Z"
    }
   },
   "outputs": [
    {
     "name": "stdout",
     "output_type": "stream",
     "text": [
      "start ++++++++++++++++++++\n",
      "start = 101\n",
      "repeat start ++++++++++++++++++++\n",
      "start = 201\n",
      "repeat start ++++++++++++++++++++\n",
      "start = 301\n",
      "repeat start ++++++++++++++++++++\n",
      "repeat End\n",
      "start ++++++++++++++++++++\n",
      "start = 101\n",
      "repeat start ++++++++++++++++++++\n",
      "start = 201\n",
      "repeat start ++++++++++++++++++++\n",
      "start = 301\n",
      "repeat start ++++++++++++++++++++\n",
      "start = 401\n",
      "repeat start ++++++++++++++++++++\n",
      "repeat End\n"
     ]
    }
   ],
   "source": [
    "df = pd.DataFrame()\n",
    "words = search_word(\"WF-1000XM4\")\n",
    "url, title, description = [], [], []\n",
    "for word in words:\n",
    "    blog_result, blog_writer, blog_code, blog_title, blog_description = item_parsing(word, 1, 100, 3)\n",
    "    url += blog_result\n",
    "    title += blog_title\n",
    "    description += blog_description\n",
    "    \n",
    "df[\"url\"] = url\n",
    "df[\"title\"] = title\n",
    "df[\"description\"] = description\n",
    "\n",
    "df = df.drop_duplicates([\"url\"]).reset_index(drop=True)\n"
   ]
  },
  {
   "cell_type": "code",
   "execution_count": 102,
   "id": "e3b15f63",
   "metadata": {},
   "outputs": [
    {
     "data": {
      "text/plain": [
       "121"
      ]
     },
     "execution_count": 102,
     "metadata": {},
     "output_type": "execute_result"
    }
   ],
   "source": [
    "len(df)"
   ]
  },
  {
   "cell_type": "code",
   "execution_count": 103,
   "id": "adbf0db0",
   "metadata": {},
   "outputs": [
    {
     "data": {
      "text/html": [
       "<div>\n",
       "<style scoped>\n",
       "    .dataframe tbody tr th:only-of-type {\n",
       "        vertical-align: middle;\n",
       "    }\n",
       "\n",
       "    .dataframe tbody tr th {\n",
       "        vertical-align: top;\n",
       "    }\n",
       "\n",
       "    .dataframe thead th {\n",
       "        text-align: right;\n",
       "    }\n",
       "</style>\n",
       "<table border=\"1\" class=\"dataframe\">\n",
       "  <thead>\n",
       "    <tr style=\"text-align: right;\">\n",
       "      <th></th>\n",
       "      <th>url</th>\n",
       "      <th>title</th>\n",
       "      <th>description</th>\n",
       "    </tr>\n",
       "  </thead>\n",
       "  <tbody>\n",
       "    <tr>\n",
       "      <th>0</th>\n",
       "      <td>https://blog.naver.com/PostView.naver?blogId=r...</td>\n",
       "      <td>소니 WF-1000XM4 노이즈 캔슬링 이어폰 개봉 후기...</td>\n",
       "      <td>지난 몇 주간 소니 WF-1000XM4에 대한 사용 후기를 남겼는데 개봉기를 빼놓을...</td>\n",
       "    </tr>\n",
       "    <tr>\n",
       "      <th>1</th>\n",
       "      <td>https://blog.naver.com/PostView.naver?blogId=f...</td>\n",
       "      <td>무선 노이즈 캔슬링 이어폰 소니 WF-1000XM4 간단 후기</td>\n",
       "      <td>소니 WF-1000XM4가 발매가 되었습니다. 전작인 WF-1000XM3 발매가 2...</td>\n",
       "    </tr>\n",
       "    <tr>\n",
       "      <th>2</th>\n",
       "      <td>https://blog.naver.com/PostView.naver?blogId=s...</td>\n",
       "      <td>준하는 노이즈캔슬링 소니 WF-1000XM4 무선이어폰 후기</td>\n",
       "      <td>기다리고 기다렸던 소니 WF-1000XM4 노이즈캔슬링 이어폰입니다. 이제는 노이즈...</td>\n",
       "    </tr>\n",
       "    <tr>\n",
       "      <th>3</th>\n",
       "      <td>https://blog.naver.com/PostView.naver?blogId=l...</td>\n",
       "      <td>소니 무선 노이즈캔슬링 이어폰 WF-1000XM4 내돈내산 리뷰 후기</td>\n",
       "      <td>소니에서 이번에 새로 정식 출시한 WF-1000XM4는 전작 WF-1000XM3에서...</td>\n",
       "    </tr>\n",
       "    <tr>\n",
       "      <th>4</th>\n",
       "      <td>https://blog.naver.com/PostView.naver?blogId=x...</td>\n",
       "      <td>[내돈내산 후기] 음질, 노캔 최강 소니 WF-1000XM4</td>\n",
       "      <td>WF-1000XM4 이렇게 총 다섯 개의 제품들이죠. 이 다섯 개의 제품들을 총 일...</td>\n",
       "    </tr>\n",
       "    <tr>\n",
       "      <th>...</th>\n",
       "      <td>...</td>\n",
       "      <td>...</td>\n",
       "      <td>...</td>\n",
       "    </tr>\n",
       "    <tr>\n",
       "      <th>116</th>\n",
       "      <td>https://blog.naver.com/PostView.naver?blogId=k...</td>\n",
       "      <td>소니 WF-1000XM4 한달만에 도착, 간단리뷰</td>\n",
       "      <td>드디어 도착했기에 대충 리뷰를 끄적여보려 한다. 외형 및 구성품 제품 패키지는 환경...</td>\n",
       "    </tr>\n",
       "    <tr>\n",
       "      <th>117</th>\n",
       "      <td>https://blog.naver.com/PostView.naver?blogId=l...</td>\n",
       "      <td>소니 WF-1000XM4 리뷰 노이즈 캔슬링 추천 신제품 정보</td>\n",
       "      <td>소니 WF-1000XM4 (1)소니 WF-1000XM4 리뷰 노이즈 캔슬링 추천 신...</td>\n",
       "    </tr>\n",
       "    <tr>\n",
       "      <th>118</th>\n",
       "      <td>https://blog.naver.com/PostView.naver?blogId=l...</td>\n",
       "      <td>소니 WF-1000XM4, 하이엔드 무선 인이어 헤드폰 리뷰</td>\n",
       "      <td>소니 WF-1000XM4 (1)소니 WF-1000XM4, 하이엔드 무선 인이어 헤드...</td>\n",
       "    </tr>\n",
       "    <tr>\n",
       "      <th>119</th>\n",
       "      <td>https://blog.naver.com/PostView.naver?blogId=b...</td>\n",
       "      <td>블루투스 이어폰 끝판왕 SONY WF-1000XM4 + 모든 기능 리뷰</td>\n",
       "      <td>[네이버 지식백과] LDAC (쇼핑용어사전) 제품 사양 가격은 정가 기준 299,0...</td>\n",
       "    </tr>\n",
       "    <tr>\n",
       "      <th>120</th>\n",
       "      <td>https://blog.naver.com/PostView.naver?blogId=r...</td>\n",
       "      <td>소니 WF-1000XM4 구매기 및 간단 리뷰</td>\n",
       "      <td>그러다가 1000XM4가 나와서 새로 살지 고민을 하더군요. 원래는 몰래 사줄까 했...</td>\n",
       "    </tr>\n",
       "  </tbody>\n",
       "</table>\n",
       "<p>121 rows × 3 columns</p>\n",
       "</div>"
      ],
      "text/plain": [
       "                                                   url  \\\n",
       "0    https://blog.naver.com/PostView.naver?blogId=r...   \n",
       "1    https://blog.naver.com/PostView.naver?blogId=f...   \n",
       "2    https://blog.naver.com/PostView.naver?blogId=s...   \n",
       "3    https://blog.naver.com/PostView.naver?blogId=l...   \n",
       "4    https://blog.naver.com/PostView.naver?blogId=x...   \n",
       "..                                                 ...   \n",
       "116  https://blog.naver.com/PostView.naver?blogId=k...   \n",
       "117  https://blog.naver.com/PostView.naver?blogId=l...   \n",
       "118  https://blog.naver.com/PostView.naver?blogId=l...   \n",
       "119  https://blog.naver.com/PostView.naver?blogId=b...   \n",
       "120  https://blog.naver.com/PostView.naver?blogId=r...   \n",
       "\n",
       "                                       title  \\\n",
       "0        소니 WF-1000XM4 노이즈 캔슬링 이어폰 개봉 후기...    \n",
       "1         무선 노이즈 캔슬링 이어폰 소니 WF-1000XM4 간단 후기   \n",
       "2          준하는 노이즈캔슬링 소니 WF-1000XM4 무선이어폰 후기   \n",
       "3     소니 무선 노이즈캔슬링 이어폰 WF-1000XM4 내돈내산 리뷰 후기   \n",
       "4          [내돈내산 후기] 음질, 노캔 최강 소니 WF-1000XM4   \n",
       "..                                       ...   \n",
       "116              소니 WF-1000XM4 한달만에 도착, 간단리뷰   \n",
       "117       소니 WF-1000XM4 리뷰 노이즈 캔슬링 추천 신제품 정보   \n",
       "118        소니 WF-1000XM4, 하이엔드 무선 인이어 헤드폰 리뷰   \n",
       "119  블루투스 이어폰 끝판왕 SONY WF-1000XM4 + 모든 기능 리뷰   \n",
       "120                소니 WF-1000XM4 구매기 및 간단 리뷰   \n",
       "\n",
       "                                           description  \n",
       "0    지난 몇 주간 소니 WF-1000XM4에 대한 사용 후기를 남겼는데 개봉기를 빼놓을...  \n",
       "1    소니 WF-1000XM4가 발매가 되었습니다. 전작인 WF-1000XM3 발매가 2...  \n",
       "2    기다리고 기다렸던 소니 WF-1000XM4 노이즈캔슬링 이어폰입니다. 이제는 노이즈...  \n",
       "3    소니에서 이번에 새로 정식 출시한 WF-1000XM4는 전작 WF-1000XM3에서...  \n",
       "4    WF-1000XM4 이렇게 총 다섯 개의 제품들이죠. 이 다섯 개의 제품들을 총 일...  \n",
       "..                                                 ...  \n",
       "116  드디어 도착했기에 대충 리뷰를 끄적여보려 한다. 외형 및 구성품 제품 패키지는 환경...  \n",
       "117  소니 WF-1000XM4 (1)소니 WF-1000XM4 리뷰 노이즈 캔슬링 추천 신...  \n",
       "118  소니 WF-1000XM4 (1)소니 WF-1000XM4, 하이엔드 무선 인이어 헤드...  \n",
       "119  [네이버 지식백과] LDAC (쇼핑용어사전) 제품 사양 가격은 정가 기준 299,0...  \n",
       "120  그러다가 1000XM4가 나와서 새로 살지 고민을 하더군요. 원래는 몰래 사줄까 했...  \n",
       "\n",
       "[121 rows x 3 columns]"
      ]
     },
     "execution_count": 103,
     "metadata": {},
     "output_type": "execute_result"
    }
   ],
   "source": [
    "df"
   ]
  },
  {
   "cell_type": "code",
   "execution_count": 104,
   "id": "5ca60ce3",
   "metadata": {
    "ExecuteTime": {
     "end_time": "2022-04-18T05:40:24.008443Z",
     "start_time": "2022-04-18T05:38:09.109216Z"
    }
   },
   "outputs": [
    {
     "name": "stderr",
     "output_type": "stream",
     "text": [
      "100%|██████████| 121/121 [00:35<00:00,  3.42it/s]\n"
     ]
    }
   ],
   "source": [
    "content_list, quote_list, quote_cnt_list, first_img_list, last_img_list, img_cnt_list = [], [], [], [], [], []\n",
    "for i in tqdm(range(len(df))):\n",
    "    _, content, quote, quote_cnt, first_img, last_img, img_cnt =  blog_content_parsing(df.loc[i, \"url\"])\n",
    "\n",
    "    content_list.append(content)\n",
    "    quote_list.append(quote)\n",
    "    quote_cnt_list.append(quote_cnt)\n",
    "    first_img_list.append(first_img)\n",
    "    last_img_list.append(last_img)\n",
    "    img_cnt_list.append(img_cnt)\n",
    "\n",
    "df[\"content\"] = content_list\n",
    "df[\"quote\"] = quote_list\n",
    "df[\"quote_cnt\"] = quote_cnt_list\n",
    "df[\"first_img\"] = first_img_list\n",
    "df[\"last_img\"] = last_img_list\n",
    "df[\"img_cnt\"] = img_cnt_list\n"
   ]
  },
  {
   "cell_type": "code",
   "execution_count": 105,
   "id": "40ffdd7a",
   "metadata": {},
   "outputs": [
    {
     "data": {
      "text/html": [
       "<div>\n",
       "<style scoped>\n",
       "    .dataframe tbody tr th:only-of-type {\n",
       "        vertical-align: middle;\n",
       "    }\n",
       "\n",
       "    .dataframe tbody tr th {\n",
       "        vertical-align: top;\n",
       "    }\n",
       "\n",
       "    .dataframe thead th {\n",
       "        text-align: right;\n",
       "    }\n",
       "</style>\n",
       "<table border=\"1\" class=\"dataframe\">\n",
       "  <thead>\n",
       "    <tr style=\"text-align: right;\">\n",
       "      <th></th>\n",
       "      <th>url</th>\n",
       "      <th>title</th>\n",
       "      <th>description</th>\n",
       "      <th>content</th>\n",
       "      <th>quote</th>\n",
       "      <th>quote_cnt</th>\n",
       "      <th>first_img</th>\n",
       "      <th>last_img</th>\n",
       "      <th>img_cnt</th>\n",
       "    </tr>\n",
       "  </thead>\n",
       "  <tbody>\n",
       "    <tr>\n",
       "      <th>0</th>\n",
       "      <td>https://blog.naver.com/PostView.naver?blogId=r...</td>\n",
       "      <td>소니 WF-1000XM4 노이즈 캔슬링 이어폰 개봉 후기...</td>\n",
       "      <td>지난 몇 주간 소니 WF-1000XM4에 대한 사용 후기를 남겼는데 개봉기를 빼놓을...</td>\n",
       "      <td>지난 몇 주간 소니 WF-1000XM4에 대한 사용 후기를 남겼는데 개봉기를 빼놓을...</td>\n",
       "      <td>[]</td>\n",
       "      <td>0</td>\n",
       "      <td>https://postfiles.pstatic.net/MjAyMTExMTdfMjcw...</td>\n",
       "      <td>https://postfiles.pstatic.net/MjAyMTExMThfMjY0...</td>\n",
       "      <td>40</td>\n",
       "    </tr>\n",
       "    <tr>\n",
       "      <th>1</th>\n",
       "      <td>https://blog.naver.com/PostView.naver?blogId=f...</td>\n",
       "      <td>무선 노이즈 캔슬링 이어폰 소니 WF-1000XM4 간단 후기</td>\n",
       "      <td>소니 WF-1000XM4가 발매가 되었습니다. 전작인 WF-1000XM3 발매가 2...</td>\n",
       "      <td>노이즈 캔슬링 이어폰의 왕의 귀환! 소니 WF-1000XM4가 발매가 되었습니다....</td>\n",
       "      <td>[]</td>\n",
       "      <td>0</td>\n",
       "      <td>https://postfiles.pstatic.net/MjAyMTA3MDdfMTYy...</td>\n",
       "      <td>https://postfiles.pstatic.net/MjAyMTA3MDdfMTAw...</td>\n",
       "      <td>18</td>\n",
       "    </tr>\n",
       "    <tr>\n",
       "      <th>2</th>\n",
       "      <td>https://blog.naver.com/PostView.naver?blogId=s...</td>\n",
       "      <td>준하는 노이즈캔슬링 소니 WF-1000XM4 무선이어폰 후기</td>\n",
       "      <td>기다리고 기다렸던 소니 WF-1000XM4 노이즈캔슬링 이어폰입니다. 이제는 노이즈...</td>\n",
       "      <td></td>\n",
       "      <td>[]</td>\n",
       "      <td>0</td>\n",
       "      <td>https://postfiles.pstatic.net/MjAyMTA4MjZfNDMg...</td>\n",
       "      <td></td>\n",
       "      <td>20</td>\n",
       "    </tr>\n",
       "    <tr>\n",
       "      <th>3</th>\n",
       "      <td>https://blog.naver.com/PostView.naver?blogId=l...</td>\n",
       "      <td>소니 무선 노이즈캔슬링 이어폰 WF-1000XM4 내돈내산 리뷰 후기</td>\n",
       "      <td>소니에서 이번에 새로 정식 출시한 WF-1000XM4는 전작 WF-1000XM3에서...</td>\n",
       "      <td>소니에서 이번에 새로 정식 출시한 WF-1000XM4는 전작 WF-1000XM3에서...</td>\n",
       "      <td>[]</td>\n",
       "      <td>0</td>\n",
       "      <td>https://postfiles.pstatic.net/MjAyMTA2MjlfMjA5...</td>\n",
       "      <td>https://postfiles.pstatic.net/MjAyMTA2MjlfNTQg...</td>\n",
       "      <td>12</td>\n",
       "    </tr>\n",
       "    <tr>\n",
       "      <th>4</th>\n",
       "      <td>https://blog.naver.com/PostView.naver?blogId=x...</td>\n",
       "      <td>[내돈내산 후기] 음질, 노캔 최강 소니 WF-1000XM4</td>\n",
       "      <td>WF-1000XM4 이렇게 총 다섯 개의 제품들이죠. 이 다섯 개의 제품들을 총 일...</td>\n",
       "      <td>안녕하세요, 밝은불꽃입니다! 요즘 날씨가 더워서 헤드폰 대신 블루투스 이어폰을  들...</td>\n",
       "      <td>[간단한 음질 비교?, 아무튼 결론]</td>\n",
       "      <td>2</td>\n",
       "      <td>https://postfiles.pstatic.net/MjAyMTA2MzBfMjcx...</td>\n",
       "      <td>https://postfiles.pstatic.net/MjAyMTA2MzBfMjYy...</td>\n",
       "      <td>27</td>\n",
       "    </tr>\n",
       "    <tr>\n",
       "      <th>...</th>\n",
       "      <td>...</td>\n",
       "      <td>...</td>\n",
       "      <td>...</td>\n",
       "      <td>...</td>\n",
       "      <td>...</td>\n",
       "      <td>...</td>\n",
       "      <td>...</td>\n",
       "      <td>...</td>\n",
       "      <td>...</td>\n",
       "    </tr>\n",
       "    <tr>\n",
       "      <th>116</th>\n",
       "      <td>https://blog.naver.com/PostView.naver?blogId=k...</td>\n",
       "      <td>소니 WF-1000XM4 한달만에 도착, 간단리뷰</td>\n",
       "      <td>드디어 도착했기에 대충 리뷰를 끄적여보려 한다. 외형 및 구성품 제품 패키지는 환경...</td>\n",
       "      <td>기다리고 기다리던 XM4가 출시되었다는 소식을 듣고 부랴부랴 예약을 했던게 벌써 한...</td>\n",
       "      <td>[]</td>\n",
       "      <td>0</td>\n",
       "      <td>https://postfiles.pstatic.net/MjAyMTA4MTFfMjIg...</td>\n",
       "      <td>https://postfiles.pstatic.net/MjAyMTA4MTFfNTAg...</td>\n",
       "      <td>35</td>\n",
       "    </tr>\n",
       "    <tr>\n",
       "      <th>117</th>\n",
       "      <td>https://blog.naver.com/PostView.naver?blogId=l...</td>\n",
       "      <td>소니 WF-1000XM4 리뷰 노이즈 캔슬링 추천 신제품 정보</td>\n",
       "      <td>소니 WF-1000XM4 (1)소니 WF-1000XM4 리뷰 노이즈 캔슬링 추천 신...</td>\n",
       "      <td></td>\n",
       "      <td>[]</td>\n",
       "      <td>0</td>\n",
       "      <td></td>\n",
       "      <td></td>\n",
       "      <td>0</td>\n",
       "    </tr>\n",
       "    <tr>\n",
       "      <th>118</th>\n",
       "      <td>https://blog.naver.com/PostView.naver?blogId=l...</td>\n",
       "      <td>소니 WF-1000XM4, 하이엔드 무선 인이어 헤드폰 리뷰</td>\n",
       "      <td>소니 WF-1000XM4 (1)소니 WF-1000XM4, 하이엔드 무선 인이어 헤드...</td>\n",
       "      <td></td>\n",
       "      <td>[]</td>\n",
       "      <td>0</td>\n",
       "      <td></td>\n",
       "      <td></td>\n",
       "      <td>0</td>\n",
       "    </tr>\n",
       "    <tr>\n",
       "      <th>119</th>\n",
       "      <td>https://blog.naver.com/PostView.naver?blogId=b...</td>\n",
       "      <td>블루투스 이어폰 끝판왕 SONY WF-1000XM4 + 모든 기능 리뷰</td>\n",
       "      <td>[네이버 지식백과] LDAC (쇼핑용어사전) 제품 사양 가격은 정가 기준 299,0...</td>\n",
       "      <td>안드로이드폰 최강조합 블루투스 이어폰 최신 V1 프로세서 탑재되어있으며 자그마치 6...</td>\n",
       "      <td>[]</td>\n",
       "      <td>0</td>\n",
       "      <td>https://postfiles.pstatic.net/MjAyMTEyMDdfMjM4...</td>\n",
       "      <td>https://postfiles.pstatic.net/MjAyMTEyMDhfNTMg...</td>\n",
       "      <td>30</td>\n",
       "    </tr>\n",
       "    <tr>\n",
       "      <th>120</th>\n",
       "      <td>https://blog.naver.com/PostView.naver?blogId=r...</td>\n",
       "      <td>소니 WF-1000XM4 구매기 및 간단 리뷰</td>\n",
       "      <td>그러다가 1000XM4가 나와서 새로 살지 고민을 하더군요. 원래는 몰래 사줄까 했...</td>\n",
       "      <td>얼마 전에 너구리 생일이라서 선물을 뭘 해줄까 하다가 이어폰을 해주기로 생각했습니다...</td>\n",
       "      <td>[사운드, 노이즈 캔슬링, 연결성, 총평]</td>\n",
       "      <td>4</td>\n",
       "      <td>https://postfiles.pstatic.net/MjAyMTEyMjhfMSAg...</td>\n",
       "      <td>https://postfiles.pstatic.net/MjAyMTEyMjhfMTk4...</td>\n",
       "      <td>13</td>\n",
       "    </tr>\n",
       "  </tbody>\n",
       "</table>\n",
       "<p>121 rows × 9 columns</p>\n",
       "</div>"
      ],
      "text/plain": [
       "                                                   url  \\\n",
       "0    https://blog.naver.com/PostView.naver?blogId=r...   \n",
       "1    https://blog.naver.com/PostView.naver?blogId=f...   \n",
       "2    https://blog.naver.com/PostView.naver?blogId=s...   \n",
       "3    https://blog.naver.com/PostView.naver?blogId=l...   \n",
       "4    https://blog.naver.com/PostView.naver?blogId=x...   \n",
       "..                                                 ...   \n",
       "116  https://blog.naver.com/PostView.naver?blogId=k...   \n",
       "117  https://blog.naver.com/PostView.naver?blogId=l...   \n",
       "118  https://blog.naver.com/PostView.naver?blogId=l...   \n",
       "119  https://blog.naver.com/PostView.naver?blogId=b...   \n",
       "120  https://blog.naver.com/PostView.naver?blogId=r...   \n",
       "\n",
       "                                       title  \\\n",
       "0        소니 WF-1000XM4 노이즈 캔슬링 이어폰 개봉 후기...    \n",
       "1         무선 노이즈 캔슬링 이어폰 소니 WF-1000XM4 간단 후기   \n",
       "2          준하는 노이즈캔슬링 소니 WF-1000XM4 무선이어폰 후기   \n",
       "3     소니 무선 노이즈캔슬링 이어폰 WF-1000XM4 내돈내산 리뷰 후기   \n",
       "4          [내돈내산 후기] 음질, 노캔 최강 소니 WF-1000XM4   \n",
       "..                                       ...   \n",
       "116              소니 WF-1000XM4 한달만에 도착, 간단리뷰   \n",
       "117       소니 WF-1000XM4 리뷰 노이즈 캔슬링 추천 신제품 정보   \n",
       "118        소니 WF-1000XM4, 하이엔드 무선 인이어 헤드폰 리뷰   \n",
       "119  블루투스 이어폰 끝판왕 SONY WF-1000XM4 + 모든 기능 리뷰   \n",
       "120                소니 WF-1000XM4 구매기 및 간단 리뷰   \n",
       "\n",
       "                                           description  \\\n",
       "0    지난 몇 주간 소니 WF-1000XM4에 대한 사용 후기를 남겼는데 개봉기를 빼놓을...   \n",
       "1    소니 WF-1000XM4가 발매가 되었습니다. 전작인 WF-1000XM3 발매가 2...   \n",
       "2    기다리고 기다렸던 소니 WF-1000XM4 노이즈캔슬링 이어폰입니다. 이제는 노이즈...   \n",
       "3    소니에서 이번에 새로 정식 출시한 WF-1000XM4는 전작 WF-1000XM3에서...   \n",
       "4    WF-1000XM4 이렇게 총 다섯 개의 제품들이죠. 이 다섯 개의 제품들을 총 일...   \n",
       "..                                                 ...   \n",
       "116  드디어 도착했기에 대충 리뷰를 끄적여보려 한다. 외형 및 구성품 제품 패키지는 환경...   \n",
       "117  소니 WF-1000XM4 (1)소니 WF-1000XM4 리뷰 노이즈 캔슬링 추천 신...   \n",
       "118  소니 WF-1000XM4 (1)소니 WF-1000XM4, 하이엔드 무선 인이어 헤드...   \n",
       "119  [네이버 지식백과] LDAC (쇼핑용어사전) 제품 사양 가격은 정가 기준 299,0...   \n",
       "120  그러다가 1000XM4가 나와서 새로 살지 고민을 하더군요. 원래는 몰래 사줄까 했...   \n",
       "\n",
       "                                               content  \\\n",
       "0    지난 몇 주간 소니 WF-1000XM4에 대한 사용 후기를 남겼는데 개봉기를 빼놓을...   \n",
       "1     노이즈 캔슬링 이어폰의 왕의 귀환! 소니 WF-1000XM4가 발매가 되었습니다....   \n",
       "2                                                        \n",
       "3    소니에서 이번에 새로 정식 출시한 WF-1000XM4는 전작 WF-1000XM3에서...   \n",
       "4    안녕하세요, 밝은불꽃입니다! 요즘 날씨가 더워서 헤드폰 대신 블루투스 이어폰을  들...   \n",
       "..                                                 ...   \n",
       "116  기다리고 기다리던 XM4가 출시되었다는 소식을 듣고 부랴부랴 예약을 했던게 벌써 한...   \n",
       "117                                                      \n",
       "118                                                      \n",
       "119  안드로이드폰 최강조합 블루투스 이어폰 최신 V1 프로세서 탑재되어있으며 자그마치 6...   \n",
       "120  얼마 전에 너구리 생일이라서 선물을 뭘 해줄까 하다가 이어폰을 해주기로 생각했습니다...   \n",
       "\n",
       "                       quote  quote_cnt  \\\n",
       "0                         []          0   \n",
       "1                         []          0   \n",
       "2                         []          0   \n",
       "3                         []          0   \n",
       "4       [간단한 음질 비교?, 아무튼 결론]          2   \n",
       "..                       ...        ...   \n",
       "116                       []          0   \n",
       "117                       []          0   \n",
       "118                       []          0   \n",
       "119                       []          0   \n",
       "120  [사운드, 노이즈 캔슬링, 연결성, 총평]          4   \n",
       "\n",
       "                                             first_img  \\\n",
       "0    https://postfiles.pstatic.net/MjAyMTExMTdfMjcw...   \n",
       "1    https://postfiles.pstatic.net/MjAyMTA3MDdfMTYy...   \n",
       "2    https://postfiles.pstatic.net/MjAyMTA4MjZfNDMg...   \n",
       "3    https://postfiles.pstatic.net/MjAyMTA2MjlfMjA5...   \n",
       "4    https://postfiles.pstatic.net/MjAyMTA2MzBfMjcx...   \n",
       "..                                                 ...   \n",
       "116  https://postfiles.pstatic.net/MjAyMTA4MTFfMjIg...   \n",
       "117                                                      \n",
       "118                                                      \n",
       "119  https://postfiles.pstatic.net/MjAyMTEyMDdfMjM4...   \n",
       "120  https://postfiles.pstatic.net/MjAyMTEyMjhfMSAg...   \n",
       "\n",
       "                                              last_img  img_cnt  \n",
       "0    https://postfiles.pstatic.net/MjAyMTExMThfMjY0...       40  \n",
       "1    https://postfiles.pstatic.net/MjAyMTA3MDdfMTAw...       18  \n",
       "2                                                            20  \n",
       "3    https://postfiles.pstatic.net/MjAyMTA2MjlfNTQg...       12  \n",
       "4    https://postfiles.pstatic.net/MjAyMTA2MzBfMjYy...       27  \n",
       "..                                                 ...      ...  \n",
       "116  https://postfiles.pstatic.net/MjAyMTA4MTFfNTAg...       35  \n",
       "117                                                           0  \n",
       "118                                                           0  \n",
       "119  https://postfiles.pstatic.net/MjAyMTEyMDhfNTMg...       30  \n",
       "120  https://postfiles.pstatic.net/MjAyMTEyMjhfMTk4...       13  \n",
       "\n",
       "[121 rows x 9 columns]"
      ]
     },
     "execution_count": 105,
     "metadata": {},
     "output_type": "execute_result"
    }
   ],
   "source": [
    "df"
   ]
  },
  {
   "cell_type": "code",
   "execution_count": null,
   "id": "cfde1003",
   "metadata": {},
   "outputs": [],
   "source": [
    "def search_word(word):\n",
    "    result = []\n",
    "    append_data = [\"후기\", \"리뷰\"]\n",
    "    for data in append_data:\n",
    "        result.append(word + \" \" + data)\n",
    "        \n",
    "    return result\n",
    "\n",
    "    "
   ]
  },
  {
   "cell_type": "code",
   "execution_count": 64,
   "id": "79e3d31a",
   "metadata": {},
   "outputs": [],
   "source": [
    "result = blog_content_parsing(\"https://blog.naver.com/PostView.naver?blogId=skan5422&logNo=222583222026&redirect=Dlog&widgetTypeCall=true&directAccess=false\")"
   ]
  },
  {
   "cell_type": "code",
   "execution_count": 108,
   "id": "c8db2700",
   "metadata": {},
   "outputs": [
    {
     "data": {
      "text/plain": [
       "20"
      ]
     },
     "execution_count": 108,
     "metadata": {},
     "output_type": "execute_result"
    }
   ],
   "source": [
    "df.loc[0, \"content\"].count(\"WF\")\n",
    "\n",
    "# for i in df.loc[0, \"content\"].split():\n",
    "    "
   ]
  },
  {
   "cell_type": "code",
   "execution_count": 66,
   "id": "f8398fc6",
   "metadata": {},
   "outputs": [
    {
     "data": {
      "text/plain": [
       "6"
      ]
     },
     "execution_count": 66,
     "metadata": {},
     "output_type": "execute_result"
    }
   ],
   "source": [
    "tes = \">\"\n",
    "cnt = 0\n",
    "for i in result[1].split():\n",
    "    if tes in i:\n",
    "        cnt += 1\n",
    "\n",
    "cnt\n",
    "\n"
   ]
  },
  {
   "cell_type": "code",
   "execution_count": 59,
   "id": "53a4611d",
   "metadata": {},
   "outputs": [
    {
     "data": {
      "text/plain": [
       "12"
      ]
     },
     "execution_count": 59,
     "metadata": {},
     "output_type": "execute_result"
    }
   ],
   "source": [
    "result[1].count(\"WF-1000XM4\")"
   ]
  },
  {
   "cell_type": "code",
   "execution_count": 63,
   "id": "8ad5081b",
   "metadata": {},
   "outputs": [
    {
     "name": "stdout",
     "output_type": "stream",
     "text": [
      "1\n",
      "0\n",
      "1\n",
      "0\n"
     ]
    }
   ],
   "source": [
    "for i in \"ㅋㅋㅋ ㅋㅋ ㅋㅋㅋㅋ ㅋ\".split():\n",
    "    print(i.count(\"ㅋㅋㅋ\"))\n"
   ]
  },
  {
   "cell_type": "code",
   "execution_count": null,
   "id": "2bcf36c8",
   "metadata": {},
   "outputs": [],
   "source": []
  },
  {
   "cell_type": "code",
   "execution_count": null,
   "id": "974001f4",
   "metadata": {},
   "outputs": [],
   "source": []
  },
  {
   "cell_type": "code",
   "execution_count": null,
   "id": "15169835",
   "metadata": {},
   "outputs": [],
   "source": [
    "def keyword_contains(word):\n",
    "    return 0\n",
    "\n",
    "def keyword_cnt(word):\n",
    "    return 0"
   ]
  },
  {
   "cell_type": "code",
   "execution_count": 28,
   "id": "fab75c45",
   "metadata": {
    "ExecuteTime": {
     "end_time": "2022-04-18T05:40:30.242978Z",
     "start_time": "2022-04-18T05:40:30.216463Z"
    }
   },
   "outputs": [],
   "source": [
    "df = pd.DataFrame()\n",
    "df[\"url\"] = a\n",
    "df[\"writer\"] = b\n",
    "df[\"title\"] = d\n",
    "df[\"description\"] = e\n",
    "df[\"content\"] = result\n"
   ]
  },
  {
   "cell_type": "code",
   "execution_count": 29,
   "id": "bc4e44d6",
   "metadata": {
    "ExecuteTime": {
     "end_time": "2022-04-18T05:47:24.124302Z",
     "start_time": "2022-04-18T05:47:24.111301Z"
    }
   },
   "outputs": [
    {
     "name": "stderr",
     "output_type": "stream",
     "text": [
      "C:\\Users\\sungwoo\\AppData\\Local\\Temp\\ipykernel_15272\\3884111020.py:4: SettingWithCopyWarning: \n",
      "A value is trying to be set on a copy of a slice from a DataFrame\n",
      "\n",
      "See the caveats in the documentation: https://pandas.pydata.org/pandas-docs/stable/user_guide/indexing.html#returning-a-view-versus-a-copy\n",
      "  df[\"협찬\"][df[\"content\"].str.contains(\"협찬\")] = 1\n",
      "C:\\Users\\sungwoo\\AppData\\Local\\Temp\\ipykernel_15272\\3884111020.py:5: SettingWithCopyWarning: \n",
      "A value is trying to be set on a copy of a slice from a DataFrame\n",
      "\n",
      "See the caveats in the documentation: https://pandas.pydata.org/pandas-docs/stable/user_guide/indexing.html#returning-a-view-versus-a-copy\n",
      "  df[\"체험단\"][df[\"content\"].str.contains(\"체험단\")] = 1\n"
     ]
    }
   ],
   "source": [
    "df[\"협찬\"] = 0\n",
    "df[\"체험단\"] = 0\n",
    "df[\"쿠팡\"] = 0\n",
    "\n",
    "df[\"협찬\"][df[\"content\"].str.contains(\"협찬\")] = 1\n",
    "df[\"체험단\"][df[\"content\"].str.contains(\"체험단\")] = 1\n",
    "df[\"쿠팡\"][df[\"content\"].str.contains(\"coupa\")] = 1"
   ]
  },
  {
   "cell_type": "code",
   "execution_count": 32,
   "id": "80fe7561",
   "metadata": {},
   "outputs": [
    {
     "data": {
      "text/html": [
       "<div>\n",
       "<style scoped>\n",
       "    .dataframe tbody tr th:only-of-type {\n",
       "        vertical-align: middle;\n",
       "    }\n",
       "\n",
       "    .dataframe tbody tr th {\n",
       "        vertical-align: top;\n",
       "    }\n",
       "\n",
       "    .dataframe thead th {\n",
       "        text-align: right;\n",
       "    }\n",
       "</style>\n",
       "<table border=\"1\" class=\"dataframe\">\n",
       "  <thead>\n",
       "    <tr style=\"text-align: right;\">\n",
       "      <th></th>\n",
       "      <th>url</th>\n",
       "      <th>writer</th>\n",
       "      <th>title</th>\n",
       "      <th>description</th>\n",
       "      <th>content</th>\n",
       "      <th>협찬</th>\n",
       "      <th>체험단</th>\n",
       "    </tr>\n",
       "  </thead>\n",
       "  <tbody>\n",
       "  </tbody>\n",
       "</table>\n",
       "</div>"
      ],
      "text/plain": [
       "Empty DataFrame\n",
       "Columns: [url, writer, title, description, content, 협찬, 체험단]\n",
       "Index: []"
      ]
     },
     "execution_count": 32,
     "metadata": {},
     "output_type": "execute_result"
    }
   ],
   "source": [
    "df[df[\"content\"].str.contains(\"coupa\")]"
   ]
  },
  {
   "cell_type": "code",
   "execution_count": 74,
   "id": "f413e584",
   "metadata": {
    "ExecuteTime": {
     "end_time": "2022-04-18T07:25:57.247882Z",
     "start_time": "2022-04-18T07:25:57.235454Z"
    }
   },
   "outputs": [],
   "source": [
    "df[\"coupang\"] = 0"
   ]
  },
  {
   "cell_type": "code",
   "execution_count": 77,
   "id": "ce514086",
   "metadata": {
    "ExecuteTime": {
     "end_time": "2022-04-18T07:26:54.132379Z",
     "start_time": "2022-04-18T07:26:54.106258Z"
    }
   },
   "outputs": [
    {
     "name": "stderr",
     "output_type": "stream",
     "text": [
      "C:\\Users\\User\\AppData\\Local\\Temp\\ipykernel_10564\\285214680.py:1: SettingWithCopyWarning: \n",
      "A value is trying to be set on a copy of a slice from a DataFrame\n",
      "\n",
      "See the caveats in the documentation: https://pandas.pydata.org/pandas-docs/stable/user_guide/indexing.html#returning-a-view-versus-a-copy\n",
      "  df[\"coupang\"][df[\"content\"].str.contains(\"coupa\")] = 1\n"
     ]
    }
   ],
   "source": [
    "df[\"coupang\"][df[\"content\"].str.contains(\"coupa\")] = 1"
   ]
  },
  {
   "cell_type": "code",
   "execution_count": 78,
   "id": "62a144e3",
   "metadata": {
    "ExecuteTime": {
     "end_time": "2022-04-18T07:26:54.162426Z",
     "start_time": "2022-04-18T07:26:54.137282Z"
    }
   },
   "outputs": [
    {
     "data": {
      "text/html": [
       "<div>\n",
       "<style scoped>\n",
       "    .dataframe tbody tr th:only-of-type {\n",
       "        vertical-align: middle;\n",
       "    }\n",
       "\n",
       "    .dataframe tbody tr th {\n",
       "        vertical-align: top;\n",
       "    }\n",
       "\n",
       "    .dataframe thead th {\n",
       "        text-align: right;\n",
       "    }\n",
       "</style>\n",
       "<table border=\"1\" class=\"dataframe\">\n",
       "  <thead>\n",
       "    <tr style=\"text-align: right;\">\n",
       "      <th></th>\n",
       "      <th>url</th>\n",
       "      <th>writer</th>\n",
       "      <th>title</th>\n",
       "      <th>description</th>\n",
       "      <th>content</th>\n",
       "      <th>협찬</th>\n",
       "      <th>체험단</th>\n",
       "      <th>coupang</th>\n",
       "    </tr>\n",
       "  </thead>\n",
       "  <tbody>\n",
       "  </tbody>\n",
       "</table>\n",
       "</div>"
      ],
      "text/plain": [
       "Empty DataFrame\n",
       "Columns: [url, writer, title, description, content, 협찬, 체험단, coupang]\n",
       "Index: []"
      ]
     },
     "execution_count": 78,
     "metadata": {},
     "output_type": "execute_result"
    }
   ],
   "source": [
    "df[df[\"coupang\"]==1]"
   ]
  },
  {
   "cell_type": "code",
   "execution_count": null,
   "metadata": {},
   "outputs": [],
   "source": []
  },
  {
   "cell_type": "code",
   "execution_count": 105,
   "id": "57da429b",
   "metadata": {
    "ExecuteTime": {
     "end_time": "2022-04-18T07:37:48.262917Z",
     "start_time": "2022-04-18T07:37:48.249886Z"
    }
   },
   "outputs": [
    {
     "data": {
      "text/plain": [
       "'&nbspcoupa.ng'"
      ]
     },
     "execution_count": 105,
     "metadata": {},
     "output_type": "execute_result"
    }
   ],
   "source": [
    "cleanhtml(\"&nbsp coupa.ng\")"
   ]
  },
  {
   "cell_type": "code",
   "execution_count": 36,
   "id": "3b08d025",
   "metadata": {
    "ExecuteTime": {
     "end_time": "2022-04-18T05:50:03.241114Z",
     "start_time": "2022-04-18T05:50:03.212910Z"
    }
   },
   "outputs": [],
   "source": [
    "df.to_csv(\"소닉_wh-1000xm42.csv\", index= False,encoding=\"utf-8-sig\")"
   ]
  },
  {
   "cell_type": "code",
   "execution_count": null,
   "id": "3deb8209",
   "metadata": {},
   "outputs": [],
   "source": []
  }
 ],
 "metadata": {
  "kernelspec": {
   "display_name": "Python 3 (ipykernel)",
   "language": "python",
   "name": "python3"
  },
  "language_info": {
   "codemirror_mode": {
    "name": "ipython",
    "version": 3
   },
   "file_extension": ".py",
   "mimetype": "text/x-python",
   "name": "python",
   "nbconvert_exporter": "python",
   "pygments_lexer": "ipython3",
   "version": "3.8.5"
  },
  "toc": {
   "base_numbering": 1,
   "nav_menu": {},
   "number_sections": true,
   "sideBar": true,
   "skip_h1_title": false,
   "title_cell": "Table of Contents",
   "title_sidebar": "Contents",
   "toc_cell": false,
   "toc_position": {},
   "toc_section_display": true,
   "toc_window_display": false
  },
  "varInspector": {
   "cols": {
    "lenName": 16,
    "lenType": 16,
    "lenVar": 40
   },
   "kernels_config": {
    "python": {
     "delete_cmd_postfix": "",
     "delete_cmd_prefix": "del ",
     "library": "var_list.py",
     "varRefreshCmd": "print(var_dic_list())"
    },
    "r": {
     "delete_cmd_postfix": ") ",
     "delete_cmd_prefix": "rm(",
     "library": "var_list.r",
     "varRefreshCmd": "cat(var_dic_list()) "
    }
   },
   "types_to_exclude": [
    "module",
    "function",
    "builtin_function_or_method",
    "instance",
    "_Feature"
   ],
   "window_display": false
  }
 },
 "nbformat": 4,
 "nbformat_minor": 5
}
