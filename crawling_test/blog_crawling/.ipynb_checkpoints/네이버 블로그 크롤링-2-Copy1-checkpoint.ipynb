{
 "cells": [
  {
   "cell_type": "code",
   "execution_count": 1,
   "id": "e21dbf22",
   "metadata": {
    "ExecuteTime": {
     "end_time": "2022-04-18T04:40:51.765178Z",
     "start_time": "2022-04-18T04:40:49.107113Z"
    }
   },
   "outputs": [],
   "source": [
    "# 시스템\n",
    "import os\n",
    "import sys\n",
    "import re\n",
    "# 크롤링\n",
    "import urllib.request\n",
    "import requests\n",
    "import json\n",
    "from scrapy.http import TextResponse\n",
    "from bs4 import BeautifulSoup\n",
    "from selenium import webdriver\n",
    "from tqdm import tqdm\n",
    "\n",
    "import pandas as pd"
   ]
  },
  {
   "cell_type": "code",
   "execution_count": 2,
   "id": "a6c43762",
   "metadata": {
    "ExecuteTime": {
     "end_time": "2022-04-18T04:40:51.780750Z",
     "start_time": "2022-04-18T04:40:51.768184Z"
    }
   },
   "outputs": [],
   "source": [
    "# 태그 데이터를 삭제하는 코드\n",
    "def tag_remove(word):\n",
    "\n",
    "    word = re.sub('(<([^>]+)>)', '', word)\n",
    "\n",
    "    return word\n",
    "\n",
    "# 글자만 남기는 코드\n",
    "def preprocess_sentence_kr(w):\n",
    "    w = w.strip()\n",
    "    w = re.sub(r\"[^0-9가-힣?.!,¿]+\", \" \", w) # \\n도 공백으로 대체해줌\n",
    "    w = w.strip()\n",
    "    return w"
   ]
  },
  {
   "cell_type": "code",
   "execution_count": 3,
   "id": "c14ea791",
   "metadata": {
    "ExecuteTime": {
     "end_time": "2022-04-18T04:40:51.795749Z",
     "start_time": "2022-04-18T04:40:51.782765Z"
    }
   },
   "outputs": [],
   "source": [
    "def blog_content_parsing(url):\n",
    "    blog_req = requests.get(url)\n",
    "    blog_bs = BeautifulSoup(blog_req.text, \"html.parser\")\n",
    "    \n",
    "    result = []\n",
    "    \n",
    "    for i in blog_bs.select(\".se-text\"):\n",
    "        for j in i.select(\".se-module-text > p\"):\n",
    "            txt = j.text\n",
    "            if txt != \"\\u200b\":\n",
    "                result.append(preprocess_sentence_kr(txt))  \n",
    "                \n",
    "    return \" \".join(result)"
   ]
  },
  {
   "cell_type": "code",
   "execution_count": 4,
   "id": "d71d78cc",
   "metadata": {
    "ExecuteTime": {
     "end_time": "2022-04-18T04:40:51.810496Z",
     "start_time": "2022-04-18T04:40:51.798750Z"
    }
   },
   "outputs": [],
   "source": [
    "# blog가 네이버 블로그인지 아닌지 판별하는 코드\n",
    "\n",
    "def naver_blog_check(code):\n",
    "    \n",
    "    if code[0].isdigit():\n",
    "        return False\n",
    "    else:\n",
    "        return True\n",
    "    "
   ]
  },
  {
   "cell_type": "code",
   "execution_count": 5,
   "id": "8c3c9fde",
   "metadata": {
    "ExecuteTime": {
     "end_time": "2022-04-18T04:40:51.825406Z",
     "start_time": "2022-04-18T04:40:51.812407Z"
    }
   },
   "outputs": [],
   "source": [
    "# 글자 수 중 반 이상이 title에 들어가있다면 패스 아니면 해당 내용은 다른 내용이라고 판단한다.\n",
    "\n",
    "def naver_title_check(search_word, title):\n",
    "    total_cnt = len(title.split())\n",
    "    cnt = 0\n",
    "    \n",
    "    for word in search_word.split():\n",
    "        \n",
    "        if word in title:\n",
    "            cnt += 1\n",
    "            \n",
    "    if total_cnt// 2 <= cnt:\n",
    "        return False\n",
    "    else:\n",
    "        return True \n",
    "        \n",
    "        "
   ]
  },
  {
   "cell_type": "code",
   "execution_count": 13,
   "id": "a8a32f12",
   "metadata": {
    "ExecuteTime": {
     "end_time": "2022-04-18T04:45:48.229623Z",
     "start_time": "2022-04-18T04:45:48.218711Z"
    }
   },
   "outputs": [],
   "source": [
    "# 검색 결과가 title에 들어가있다면 해당 내용을 없앤다.\n",
    "# 아니면 해당 내용은 다른 내용이라고 판단한다.\n",
    "\n",
    "# 띄어쓰기를 안하고 -로 나눈경우\n",
    "# \n",
    "\n",
    "def naver_title_check(search_word, title):\n",
    "    # -로 제품이 안나뉜 경우 -> 소문자로만 판단\n",
    "     \n",
    "    total_cnt = len(search_word.split())\n",
    "    cnt = 0\n",
    "    \n",
    "    for word in search_word.split():\n",
    "        word = word.lower()\n",
    "        if word in title.lower(): # 대소문자 구분 x\n",
    "            cnt += 1\n",
    "    if total_cnt == cnt:\n",
    "        return False\n",
    "    else:\n",
    "        return True "
   ]
  },
  {
   "cell_type": "code",
   "execution_count": 27,
   "id": "cd3f10e1",
   "metadata": {
    "ExecuteTime": {
     "end_time": "2022-04-18T05:11:18.230327Z",
     "start_time": "2022-04-18T05:11:18.217103Z"
    }
   },
   "outputs": [
    {
     "data": {
      "text/plain": [
       "20"
      ]
     },
     "execution_count": 27,
     "metadata": {},
     "output_type": "execute_result"
    }
   ],
   "source": [
    "len(\"sdf asdfs sdfefv dfs\")"
   ]
  },
  {
   "cell_type": "code",
   "execution_count": 30,
   "id": "f94dba10",
   "metadata": {
    "ExecuteTime": {
     "end_time": "2022-04-18T05:13:15.226406Z",
     "start_time": "2022-04-18T05:13:15.213857Z"
    }
   },
   "outputs": [],
   "source": [
    "asdf = \"MLKFMKALSF\""
   ]
  },
  {
   "cell_type": "code",
   "execution_count": 31,
   "id": "3a0fd011",
   "metadata": {
    "ExecuteTime": {
     "end_time": "2022-04-18T05:13:15.241711Z",
     "start_time": "2022-04-18T05:13:15.229408Z"
    }
   },
   "outputs": [
    {
     "data": {
      "text/plain": [
       "'mlkfmkalsf'"
      ]
     },
     "execution_count": 31,
     "metadata": {},
     "output_type": "execute_result"
    }
   ],
   "source": [
    "asdf.lower()"
   ]
  },
  {
   "cell_type": "code",
   "execution_count": 37,
   "id": "d57d988e",
   "metadata": {
    "ExecuteTime": {
     "end_time": "2022-04-18T05:14:54.111906Z",
     "start_time": "2022-04-18T05:14:54.100259Z"
    }
   },
   "outputs": [],
   "source": [
    "# 모든 단어를 하나씩 나누어서 확인하자.\n",
    "# \n",
    "\n",
    "def naver_title_check(search_word, title):\n",
    "     \n",
    "    search_word = preprocess_sentence_kr(search_word)\n",
    "    \n",
    "    for words in search_word.split():\n",
    "        for word in words:\n",
    "            if word.lower() not in title.lower():\n",
    "                return True\n",
    "            \n"
   ]
  },
  {
   "cell_type": "code",
   "execution_count": 24,
   "id": "a229da47",
   "metadata": {
    "ExecuteTime": {
     "end_time": "2022-04-18T05:03:14.121659Z",
     "start_time": "2022-04-18T05:03:14.108667Z"
    }
   },
   "outputs": [
    {
     "data": {
      "text/plain": [
       "'wf-wfs'"
      ]
     },
     "execution_count": 24,
     "metadata": {},
     "output_type": "execute_result"
    }
   ],
   "source": [
    "\"wf-wfs\".split()[0].lower()"
   ]
  },
  {
   "cell_type": "code",
   "execution_count": 25,
   "id": "ca097b5d",
   "metadata": {
    "ExecuteTime": {
     "end_time": "2022-04-18T05:03:30.223682Z",
     "start_time": "2022-04-18T05:03:30.210690Z"
    }
   },
   "outputs": [
    {
     "data": {
      "text/plain": [
       "'wf-wefs'"
      ]
     },
     "execution_count": 25,
     "metadata": {},
     "output_type": "execute_result"
    }
   ],
   "source": [
    "if \"WF-WEFS\".lower()"
   ]
  },
  {
   "cell_type": "code",
   "execution_count": 21,
   "id": "12a67a29",
   "metadata": {
    "ExecuteTime": {
     "end_time": "2022-04-18T05:01:39.118398Z",
     "start_time": "2022-04-18T05:01:39.105390Z"
    }
   },
   "outputs": [
    {
     "data": {
      "text/plain": [
       "1"
      ]
     },
     "execution_count": 21,
     "metadata": {},
     "output_type": "execute_result"
    }
   ],
   "source": [
    "len(\"wf-wfs\".split())"
   ]
  },
  {
   "cell_type": "code",
   "execution_count": 19,
   "id": "088817ab",
   "metadata": {
    "ExecuteTime": {
     "end_time": "2022-04-18T04:58:34.110818Z",
     "start_time": "2022-04-18T04:58:34.097754Z"
    }
   },
   "outputs": [
    {
     "name": "stdout",
     "output_type": "stream",
     "text": [
      "yes\n"
     ]
    }
   ],
   "source": [
    "if naver_title_check(\"wf-wfs\", \"WF-WEFS\"):\n",
    "    print(\"yes\")\n",
    "else:\n",
    "    print(\"no\")"
   ]
  },
  {
   "cell_type": "code",
   "execution_count": 20,
   "id": "2a1cb6f1",
   "metadata": {
    "ExecuteTime": {
     "end_time": "2022-04-18T02:06:14.142704Z",
     "start_time": "2022-04-18T02:06:14.117759Z"
    }
   },
   "outputs": [],
   "source": [
    "# 이름이 들어오면 해당 내용을 이용하여 블로그를 파싱한다.\n",
    "\n",
    "# search_word : 어떤 제품을 검색하는지\n",
    "# repeat_num : 해당 제품이 제목에서 몇번 안나올때까지 검색을 진행할 지\n",
    "def item_parsing(search_word, start, display, repeat_num):\n",
    "\n",
    "    \n",
    "    blog_search = naver_api(search_word, start, display)\n",
    "    print(\"start ++++++++++++++++++++\")\n",
    "    \n",
    "    # result : url\n",
    "    # writer : 작성자 이름\n",
    "    # code : 블로그 코드\n",
    "    # title : 블로그 제목\n",
    "    # description : 블로그 요약 설명\n",
    "    blog_result = []\n",
    "    blog_writer = []\n",
    "    blog_code = []\n",
    "    blog_title = []\n",
    "    blog_description = []\n",
    "    \n",
    "    repeat = True\n",
    "    cnt = 0\n",
    "    # 제목에서 해당 제품의 이름이 5번 연속 안나온다면 패스\n",
    "    while repeat:\n",
    "        \n",
    "        if cnt == 3:\n",
    "            break\n",
    "        \n",
    "        for blog in blog_search[\"items\"]:\n",
    "            \n",
    "             # 블로그 코드\n",
    "            code = blog[\"link\"][blog[\"link\"].find(\"logNo=\") + 6:]\n",
    "            if naver_blog_check(code): # 네이버 블로그가 아닌경우 다음으로 넘기기\n",
    "                continue\n",
    "            \n",
    "            \n",
    "            # 블로그 코드 추가\n",
    "            blog_code.append(code)\n",
    "            \n",
    "            # 이름 추가\n",
    "            \n",
    "#             print(f\"cnt = {cnt}\")\n",
    "            cnt += 1\n",
    "            # 이름\n",
    "            writer = blog[\"bloggerlink\"][23:]\n",
    "            blog_writer.append(writer)\n",
    "\n",
    "\n",
    "            # 제목\n",
    "            title = tag_remove(blog[\"title\"])\n",
    "            blog_title.append(title)\n",
    "            \n",
    "#             if search_word not in title:\n",
    "#                 cnt += 1\n",
    "#             else:\n",
    "#                 cnt = 0\n",
    "                \n",
    "#             if cnt == repeat_num:\n",
    "#                 repeat = False\n",
    "\n",
    "            # 블로그 요약\n",
    "            description = tag_remove(blog[\"description\"])\n",
    "            blog_description.append(description)\n",
    "            \n",
    "            blog_result.append(f\"https://blog.naver.com/PostView.naver?blogId={writer}&logNo={code}\")\n",
    "        \n",
    "        if start + display <= blog_search[\"total\"]:\n",
    "            start += display\n",
    "            blog_search = naver_api(search_word, start, display)\n",
    "            print(f\"start = {start}\")\n",
    "            print(\"repeat start ++++++++++++++++++++\")\n",
    "        else:\n",
    "            print(\"repeat End\")\n",
    "            repeat = False\n",
    "            \n",
    "        cnt += 1\n",
    "        \n",
    "    return blog_result, blog_writer, blog_code, blog_title, blog_description\n",
    "        \n",
    "    "
   ]
  },
  {
   "cell_type": "code",
   "execution_count": 33,
   "id": "d1dd3041",
   "metadata": {
    "ExecuteTime": {
     "end_time": "2022-04-18T05:13:45.220582Z",
     "start_time": "2022-04-18T05:13:45.207580Z"
    }
   },
   "outputs": [],
   "source": [
    "# 이름이 들어오면 해당 내용을 이용하여 블로그를 파싱한다.\n",
    "\n",
    "# search_word : 어떤 제품을 검색하는지\n",
    "# repeat_num : 해당 제품이 제목에서 몇번 안나올때까지 검색을 진행할 지\n",
    "def item_parsing(search_word, start, display, repeat_num):\n",
    "\n",
    "    \n",
    "    blog_search = naver_api(search_word, start, display)\n",
    "    print(\"start ++++++++++++++++++++\")\n",
    "    \n",
    "    # result : url\n",
    "    # writer : 작성자 이름\n",
    "    # code : 블로그 코드\n",
    "    # title : 블로그 제목\n",
    "    # description : 블로그 요약 설명\n",
    "    blog_result = []\n",
    "    blog_writer = []\n",
    "    blog_code = []\n",
    "    blog_title = []\n",
    "    blog_description = []\n",
    "    \n",
    "    repeat = True\n",
    "    cnt = 0\n",
    "    # 제목에서 해당 제품의 이름이 5번 연속 안나온다면 패스\n",
    "    while repeat:\n",
    "        \n",
    "#         if cnt == 3:\n",
    "#             break\n",
    "        \n",
    "        for blog in blog_search[\"items\"]:\n",
    "            \n",
    "             # 블로그 코드\n",
    "            code = blog[\"link\"][blog[\"link\"].find(\"logNo=\") + 6:]\n",
    "            if naver_blog_check(code): # 네이버 블로그가 아닌경우 다음으로 넘기기\n",
    "                continue\n",
    "                \n",
    "            \n",
    "            \n",
    "            \n",
    "            \n",
    "\n",
    "            \n",
    "            # 이름\n",
    "            writer = blog[\"bloggerlink\"][23:]\n",
    "            \n",
    "\n",
    "            # 제목\n",
    "            title = tag_remove(blog[\"title\"])\n",
    "            \n",
    "            if naver_title_check(search_word, title):\n",
    "                continue\n",
    "            \n",
    "            \n",
    "#             if search_word not in title:\n",
    "#                 cnt += 1\n",
    "#             else:\n",
    "#                 cnt = 0\n",
    "                \n",
    "#             if cnt == repeat_num:\n",
    "#                 repeat = False\n",
    "\n",
    "            # 블로그 요약\n",
    "            description = tag_remove(blog[\"description\"])\n",
    "            \n",
    "            \n",
    "            ## 데이터 추가하는 곳\n",
    "            \n",
    "            # 블로그 코드 추가\n",
    "            blog_code.append(code)\n",
    "            \n",
    "            # 이름 추가\n",
    "            blog_writer.append(writer)\n",
    "            \n",
    "            # 제목 추가\n",
    "            blog_title.append(title)\n",
    "            \n",
    "            # 블로그 요약 추가\n",
    "            blog_description.append(description)\n",
    "            \n",
    "            # 본문 크롤링을 위한 URL주소 추가\n",
    "            blog_result.append(f\"https://blog.naver.com/PostView.naver?blogId={writer}&logNo={code}\")            \n",
    "            \n",
    "        \n",
    "        if start + display <= blog_search[\"total\"]:\n",
    "            start += display\n",
    "            blog_search = naver_api(search_word, start, display)\n",
    "            print(f\"start = {start}\")\n",
    "            print(\"repeat start ++++++++++++++++++++\")\n",
    "        else:\n",
    "            print(\"repeat End\")\n",
    "            repeat = False\n",
    "            \n",
    "        \n",
    "        \n",
    "    return blog_result, blog_writer, blog_code, blog_title, blog_description\n",
    "        \n",
    "    "
   ]
  },
  {
   "cell_type": "code",
   "execution_count": 8,
   "id": "3e6f67ea",
   "metadata": {
    "ExecuteTime": {
     "end_time": "2022-04-18T04:40:57.244540Z",
     "start_time": "2022-04-18T04:40:57.233421Z"
    }
   },
   "outputs": [],
   "source": [
    "def naver_api(search_word, start, display):\n",
    "    client_id = \"GvNa2sBgFDA6v7ujnaz0\"\n",
    "    client_secret = \"Yo0jOskXlZ\"\n",
    "    \n",
    "    encText = urllib.parse.quote(search_word)\n",
    "    \n",
    "    url = \"https://openapi.naver.com/v1/search/blog?query=\" + encText # json 결과\n",
    "    url += f\"&start={start}\"\n",
    "    url += f\"&display={display}\"\n",
    "\n",
    "    request = urllib.request.Request(url)\n",
    "    request.add_header(\"X-Naver-Client-Id\",client_id)\n",
    "    request.add_header(\"X-Naver-Client-Secret\",client_secret)\n",
    "    response = urllib.request.urlopen(request)\n",
    "    rescode = response.getcode()\n",
    "    if(rescode==200):\n",
    "        response_body = response.read()\n",
    "    else:\n",
    "        print(\"Error Code:\" + rescode)\n",
    "    return json.loads(response_body.decode('utf-8'))"
   ]
  },
  {
   "cell_type": "code",
   "execution_count": 12,
   "id": "a4dc5d57",
   "metadata": {
    "ExecuteTime": {
     "end_time": "2022-04-18T04:44:03.566430Z",
     "start_time": "2022-04-18T04:44:03.217664Z"
    }
   },
   "outputs": [
    {
     "data": {
      "text/plain": [
       "{'lastBuildDate': 'Mon, 18 Apr 2022 13:44:00 +0900',\n",
       " 'total': 354,\n",
       " 'start': 1,\n",
       " 'display': 30,\n",
       " 'items': [{'title': '무선 이어폰 종결 끝판왕 소니 <b>WF-1000XM4</b> 샀습니다',\n",
       "   'link': 'https://blog.naver.com/khjkhj2804?Redirect=Log&logNo=222645074782',\n",
       "   'description': '<b>WF-1000XM4</b> 가 현재 끝판왕인 이유 일단, 가격 깡패 &amp; 음질 깡패 최고임 이제 한 달 넘게 사용하고 쓰는 <b>후기</b> 무엇보다 고성능 라인업들 가격대비 가격 앞 자리 단위 자체가 내려가 있습니다. 가격 자체가 깡패인데... ',\n",
       "   'bloggername': '겜잘알 갓플머',\n",
       "   'bloggerlink': 'https://blog.naver.com/khjkhj2804',\n",
       "   'postdate': '20220211'},\n",
       "  {'title': '소니 <b>WF-1000XM4</b> 노이즈 캔슬링 이어폰 개봉 <b>후기</b>... ',\n",
       "   'link': 'https://blog.naver.com/rladnjsxo64?Redirect=Log&logNo=222571874963',\n",
       "   'description': '지난 몇 주간 소니 <b>WF-1000XM4</b>에 대한 사용 <b>후기</b>를 남겼는데 개봉기를 빼놓을 수 없죠! 오늘은 조금(?) 늦은 개봉기를 작성해보겠습니다. <b>WF-1000XM4</b> 이어폰은 블랙과 실버 2가지 색상으로 출시를 했으며, 제가... ',\n",
       "   'bloggername': '무라키의 데이 에세이',\n",
       "   'bloggerlink': 'https://blog.naver.com/rladnjsxo64',\n",
       "   'postdate': '20211118'},\n",
       "  {'title': '무선 노이즈 캔슬링 이어폰 소니 <b>WF-1000XM4</b> 간단 <b>후기</b>',\n",
       "   'link': 'https://blog.naver.com/feena74?Redirect=Log&logNo=222423856964',\n",
       "   'description': '소니 <b>WF-1000XM4</b>가 발매가 되었습니다. 전작인 <b>WF-</b>1000XM3 발매가 2년이 지났으니 나올 때가 되었는데라고... 이번에는 제품의 대여 기간이 길지 않아 간단 <b>후기</b>를 남기게 되었지만 기회가 된다면 조금 더 자세히... ',\n",
       "   'bloggername': '경아신랑님인거죠~',\n",
       "   'bloggerlink': 'https://blog.naver.com/feena74',\n",
       "   'postdate': '20210707'},\n",
       "  {'title': '준하는 노이즈캔슬링 소니 <b>WF-1000XM4</b> 무선이어폰 <b>후기</b>',\n",
       "   'link': 'https://blog.naver.com/supapa13?Redirect=Log&logNo=222498158979',\n",
       "   'description': '기다리고 기다렸던 소니 <b>WF-1000XM4</b> 노이즈캔슬링 이어폰입니다. 이제는 노이즈캔슬링 이어폰이나 헤드폰이 아니면 뭔가 2% 부족한 느낌이 들기도 합니다. 그만큼 참 많은 노이즈캔슬링 블루투스... ',\n",
       "   'bloggername': '세수하면이병헌 IT, 육아',\n",
       "   'bloggerlink': 'https://blog.naver.com/supapa13',\n",
       "   'postdate': '20210908'},\n",
       "  {'title': '급 노이즈캔슬링과 고음질 블루투스 이어폰 소니 <b>WF-1000XM4</b>',\n",
       "   'link': 'https://blog.naver.com/todshrck?Redirect=Log&logNo=222498884735',\n",
       "   'description': '지금까지 무선 노이즈캔슬링 이어폰 소니 <b>WF-1000XM4</b>의 <b>후기</b>를 전해드렸는데요. 직접 사용해보니 깔끔한 디자인과 뛰어난 휴대성, 헤드폰급의 노이즈 캔슬링, 프리미엄급 사운드를 확인할 수 있었습니다. 이... ',\n",
       "   'bloggername': 'mangsangk.com',\n",
       "   'bloggerlink': 'https://blog.naver.com/todshrck',\n",
       "   'postdate': '20210908'},\n",
       "  {'title': '소니 무선 노이즈캔슬링 이어폰 <b>WF-1000XM4</b> 내돈내산 리뷰 <b>후기</b>',\n",
       "   'link': 'https://blog.naver.com/lifesdh?Redirect=Log&logNo=222414669555',\n",
       "   'description': '소니에서 이번에 새로 정식 출시한 <b>WF-1000XM4</b>는 전작 <b>WF-</b>1000XM3에서 확연하게 달라진 디자인과 성능으로 출시 되자마자 공식 홈페이지 뿐만 아니라 각종 판매처에서 품절되어서 구하기 힘든 엄청난 인기를... ',\n",
       "   'bloggername': '화니의 블로그',\n",
       "   'bloggerlink': 'https://blog.naver.com/lifesdh',\n",
       "   'postdate': '20210629'},\n",
       "  {'title': '[내돈내산 <b>후기</b>] 음질, 노캔 최강 소니 <b>WF-1000XM4</b>',\n",
       "   'link': 'https://blog.naver.com/xerotype2?Redirect=Log&logNo=222415306975',\n",
       "   'description': 'WF-1000XM4 이렇게 총 다섯 개의 제품들이죠. 이 다섯 개의 제품들을 총 일곱 가지 기준을 바탕으로 제... 밝은불꽃의 소니 <b>WF-1000XM4 후기</b>였습니다. 정말 허접한 후기였지만 읽어주신 분께 감사의 말씀 드리고... ',\n",
       "   'bloggername': '밝은불꽃의 블로그',\n",
       "   'bloggerlink': 'https://blog.naver.com/xerotype2',\n",
       "   'postdate': '20210630'},\n",
       "  {'title': '이어폰에 노이즈캔슬링과 음질을 더한 소니 <b>WF-1000XM4</b> 추천',\n",
       "   'link': 'https://blog.naver.com/moimoi1357?Redirect=Log&logNo=222431751127',\n",
       "   'description': '지금까지 소니 <b>WF-1000XM4</b>의 사용 <b>후기</b>를 전해드렸습니다. 더 작아진 크기에 성능은 더 업그레이드가 되면서 헤드폰과도 비교할 수 있을 정도가 되었습니다. 시끄러운 환경에서 주변의 소음을 효과적으로... ',\n",
       "   'bloggername': '모이모이의 IT 이야기',\n",
       "   'bloggerlink': 'https://blog.naver.com/moimoi1357',\n",
       "   'postdate': '20210714'},\n",
       "  {'title': '소니 이폰 <b>WF-1000XM4</b> 개봉기와 3개월 사용<b>후기</b>! 유일한... ',\n",
       "   'link': 'https://blog.naver.com/dongchimi212?Redirect=Log&logNo=222652612911',\n",
       "   'description': '그럼 이제 3개월동안 사용한 <b>후기</b>를 말씀드릴게요~ <b>WF-1000XM4</b> 3개월 사용<b>후기</b>(노이즈캔슬링/음질/연동성/착용감) 일단 가장 보편적인 에어팟 프로와 노이즈캔슬링 음질을 비교를 해볼게요 유닛 자체는... ',\n",
       "   'bloggername': '공대생 블로그',\n",
       "   'bloggerlink': 'https://blog.naver.com/dongchimi212',\n",
       "   'postdate': '20220220'},\n",
       "  {'title': '소니 무선 이어폰 (SONY <b>WF-1000XM4</b>) <b>후기</b>',\n",
       "   'link': 'https://blog.naver.com/apricot_4?Redirect=Log&logNo=222658424853',\n",
       "   'description': '저는 최근까지 유선 이어폰을 썼었는데요 요즘 들어 괜찮아보이는 유선 이어폰도 없고 쓰다보니 자주 고장이 나서 처음으로 무선 이어폰을 구매해보기로 했어요 제가 구매한 제품은 소니의 <b>WF-1000XM4</b> ! 여러... ',\n",
       "   'bloggername': 'Clam chowder',\n",
       "   'bloggerlink': 'https://blog.naver.com/apricot_4',\n",
       "   'postdate': '20220226'},\n",
       "  {'title': 'SONY/소니 이어폰) <b>WF-1000XM4</b> BME 사용<b>후기</b>',\n",
       "   'link': 'https://blog.naver.com/skan5422?Redirect=Log&logNo=222583222026',\n",
       "   'description': '오늘은 #소니이어폰 #<b>WF</b><b>1000XM4</b> 사용<b>후기</b> 함께해요. Galaxy Buds Pro/갤럭시 버즈 프로를 사용중이던 꿈남편은 <b>WF-1000XM4</b>을 알게 된 후 제게 영업?을 하기 시작했습니다. ㅋㅋ 꿈남편은 용돈으로 사는 것도 제게... ',\n",
       "   'bloggername': '꿈꾸는 모래시계',\n",
       "   'bloggerlink': 'https://blog.naver.com/skan5422',\n",
       "   'postdate': '20211130'},\n",
       "  {'title': '헤드폰 급 노이즈캔슬링 블루투스 이어폰 소니 <b>WF-1000XM4</b>... ',\n",
       "   'link': 'https://blog.naver.com/lucky_box7?Redirect=Log&logNo=222485277582',\n",
       "   'description': '오늘은 현존하는 노이즈캔슬링 블루투스 이어폰 중에서 끝판왕이라고 할 수 있는 소니 <b>WF-1000XM4</b> 모델 <b>후기</b>를 정리해보려고 합니다. 패키지부터 볼까요?? 하나씩 뜯어봤는데 정형화된 상자 구성과는 소재가... ',\n",
       "   'bloggername': \"Cwon's Life\",\n",
       "   'bloggerlink': 'https://blog.naver.com/lucky_box7',\n",
       "   'postdate': '20210827'},\n",
       "  {'title': 'SONY <b>WF-1000XM4 후기</b>',\n",
       "   'link': 'https://blog.naver.com/semin1020?Redirect=Log&logNo=222661865508',\n",
       "   'description': 'SONY <b>WF-1000XM4</b> 소니 블루투스 이어폰 가격은 299,000원 저렴한 가격은 아니지만 에어팟 프로보다 저렴해서 샀다 ㅎㅎ 주 장점은 1. 좋은 음질 2. 노이즈캔슬링 가능 3.유명 브랜드라 수리가 비교적 쉬운점(내생각)... ',\n",
       "   'bloggername': 'MINILOG',\n",
       "   'bloggerlink': 'https://blog.naver.com/semin1020',\n",
       "   'postdate': '20220302'},\n",
       "  {'title': '헤드폰 급 퍼포먼스 소니 <b>WF-1000XM4</b> 노이즈 캔슬링 블루투스... ',\n",
       "   'link': 'https://blog.naver.com/nightd?Redirect=Log&logNo=222522389769',\n",
       "   'description': '현재 제품을 선택하는데 혹은 구입하는 데 고민을 하고 있는 분들에게 필자의 직접 사용 <b>후기</b>가 유익한 정보가 되었으면 한다. 소니 <b>WF-1000XM4</b> 블루투스 이어폰의 패키지 구성을 살펴보자. 패키지에서 기존과... ',\n",
       "   'bloggername': '스마트 라이프 연결고리',\n",
       "   'bloggerlink': 'https://blog.naver.com/nightd',\n",
       "   'postdate': '20210930'},\n",
       "  {'title': '등 야외에서 사용해본 <b>WF-1000XM4</b> 노이즈 캔슬링 이어폰 <b>후기</b>',\n",
       "   'link': 'https://blog.naver.com/rladnjsxo64?Redirect=Log&logNo=222565484664',\n",
       "   'description': '소니 <b>WF-1000XM4</b> 노이즈 캔슬링 이어폰을 약 2주째 사용하고 있습니다. 기존에 사용하던 <b>WF-</b>1000XM3 이어폰은 2년간 열일하신 후, 잠깐 쉬고 계시네요 ㅎㅎ 가지고 다니면서 제일 크게 느껴지는 점은 휴대성에서... ',\n",
       "   'bloggername': '무라키의 데이 에세이',\n",
       "   'bloggerlink': 'https://blog.naver.com/rladnjsxo64',\n",
       "   'postdate': '20211111'},\n",
       "  {'title': '소니 <b>WF-1000XM4</b> 무선이어폰 운동용으로 사용해본 <b>후기</b>',\n",
       "   'link': 'https://blog.naver.com/ddihw?Redirect=Log&logNo=222452134060',\n",
       "   'description': '소니 <b>WF-1000XM4</b> 무선이어폰 운동용으로 사용해본 <b>후기</b> 요즘 하루의 시작은 집주변 조깅으로 시작을 합니다. 아침 운동을 할때 운동정보를 듣기 위함이나 음악을 듣기 위한 용도로 무선이어폰을 많이들... ',\n",
       "   'bloggername': '변검',\n",
       "   'bloggerlink': 'https://blog.naver.com/ddihw',\n",
       "   'postdate': '20210731'},\n",
       "  {'title': '이어폰/리뷰] 보스 QuietComfort 이어버드 vs 소니 <b>WF-1000XM4</b>',\n",
       "   'link': 'https://blog.naver.com/withcoffee67?Redirect=Log&logNo=222627339871',\n",
       "   'description': '* 개인이 구매하여 작성하는 <b>후기</b>이며, 음향 전문가가 아닌 평범한 이공계 학생의 <b>후기</b>입니다. 보스 QuietComfort 이어버드 vs 소니 <b>WF-1000XM4</b> (이하 보스, 소니) 1. 착용감: 보스 &gt; 소니 2. 노이즈 캔슬링: 보스 근소... ',\n",
       "   'bloggername': 'Trust, but verify',\n",
       "   'bloggerlink': 'https://blog.naver.com/withcoffee67',\n",
       "   'postdate': '20220121'},\n",
       "  {'title': '소니 <b>WF-1000xm4</b>, 2주간의 실 사용<b>후기</b>',\n",
       "   'link': 'https://blog.naver.com/pakseeun?Redirect=Log&logNo=222567999666',\n",
       "   'description': '고민 중인 분들에게 도움이 되길 바랍니다. ㅋㅋ 산책하기 좋은 가을 #노캔이어폰 #솔직<b>후기</b> #<b>WF</b>1000M4체험단 #노이즈캔슬링 #<b>WF</b><b>1000xm4</b> #몰입의즐거움 #헤드폰에도전하다',\n",
       "   'bloggername': '세은파파의 맛있는 테크생활',\n",
       "   'bloggerlink': 'https://blog.naver.com/pakseeun',\n",
       "   'postdate': '20211114'},\n",
       "  {'title': '노이즈캔슬링 소니 이어폰 <b>WF-1000XM4 후기</b>',\n",
       "   'link': 'https://blog.naver.com/eter2000?Redirect=Log&logNo=222613996479',\n",
       "   'description': '#노이즈캔슬링이어폰 #<b>WF</b><b>1000XM4</b> 안녕하세요 서블리입니다 : ) 제가 너무 운이 좋게도 한참 핫이슈로 떠올랐던 노이즈캔슬링 이어폰의 탑 소니 <b>WF-1000XM4</b> 서포터즈로 선정되어서 약 6주간 직접 일상생활에서... ',\n",
       "   'bloggername': '서블리의 예뻐지는 뷰티룸',\n",
       "   'bloggerlink': 'https://blog.naver.com/eter2000',\n",
       "   'postdate': '20220105'},\n",
       "  {'title': '헤드폰에 도전하다 SONY <b>WF-1000XM4</b> 이어폰 구입 간단 <b>후기</b>',\n",
       "   'link': 'https://blog.naver.com/mylub1126?Redirect=Log&logNo=222638751335',\n",
       "   'description': '도착한 <b>WF-1000xm4</b> 블랙 가격치고는 포장이 디게 간소하다 친환경 포장 어쩌구저쩌구 하지만.. 평범한 일반인 막귀 입장에서 이어폰 끼고 노래를 들어보니... <b>후기</b>들보고 너무너무너무 기대를 했었던 탓일까.... ',\n",
       "   'bloggername': '♥♥♥ 나의 2022년♥♥♥',\n",
       "   'bloggerlink': 'https://blog.naver.com/mylub1126',\n",
       "   'postdate': '20220204'},\n",
       "  {'title': '소니 <b>wf-1000xm4</b> 음질 선물과 6주간 사용 <b>후기</b>',\n",
       "   'link': 'https://blog.naver.com/kyurl55?Redirect=Log&logNo=222589529932',\n",
       "   'description': '정말 기대되는 다음 세대 이렇게 지인들이랑 소니 <b>wf-1000xm4</b> 음질이랑 성능도 공유도 해보고 한 달 넘게 사용한 <b>후기</b>를 말씀드려봤네요. 모든 제품은 완벽할 수 없지만 완벽에 가까운 제품들은 있죠. 저는 그게... ',\n",
       "   'bloggername': '제이의 세상',\n",
       "   'bloggerlink': 'https://blog.naver.com/kyurl55',\n",
       "   'postdate': '20211208'},\n",
       "  {'title': '성능 SONY <b>WF-1000XM4</b> 블루투스 무선이어폰 리얼 <b>후기</b>',\n",
       "   'link': 'https://blog.naver.com/ha_tak?Redirect=Log&logNo=222558730866',\n",
       "   'description': '이번에 소개할 제품은 SONY <b>WF-1000XM4</b> 라는 제품이다. 이미 명성은 익히 다 아실 것 같다. 노이즈캔슬링으로 끝판왕인 제품이며, 정말 많은 사람이 노이즈캔슬링 무선이어폰 하면 가장 먼저 떠올리는... ',\n",
       "   'bloggername': '리뷰빌런 하텍',\n",
       "   'bloggerlink': 'https://blog.naver.com/ha_tak',\n",
       "   'postdate': '20211104'},\n",
       "  {'title': '[블루투스 이어폰] 소니 <b>WF-1000XM4</b> 사용 <b>후기</b>ㅣ30대 남자... ',\n",
       "   'link': 'https://blog.naver.com/zezk98211?Redirect=Log&logNo=222650841542',\n",
       "   'description': '#소니<b>wf</b><b>1000xm4</b> #내돈내산 #솔직<b>후기</b> 몽님이 내 생일에 사준 소니 <b>wf-1000xm4</b>를 리뷰 해보고자 한다 (대략 1달 정도 사용해 보고 쓰는 <b>후기</b>~) 3년 전쯤에 산 에어팟 1세대가 배터리 문제로 풀 충전했을 때 통화시간... ',\n",
       "   'bloggername': '놀러다니는 몽',\n",
       "   'bloggerlink': 'https://blog.naver.com/zezk98211',\n",
       "   'postdate': '20220218'},\n",
       "  {'title': '차원이 다른 노이즈캔슬링과 음질 소니 <b>WF-1000XM4</b> 블루투스... ',\n",
       "   'link': 'https://blog.naver.com/mr_choo?Redirect=Log&logNo=222534763287',\n",
       "   'description': '이어폰 <b>후기</b>였습니다. 10월 24일까지 소니 <b>WF-1000XM4</b> 노이즈캔슬링 이어폰을 구매하신 후 소니스토어에서 정품 등록 및 이벤트 신청을 완료한 모든 분께 귀여운 워크맨 일러스트가 그려진 에코 케이스를... ',\n",
       "   'bloggername': '츄즈잇 CHOO`s IT',\n",
       "   'bloggerlink': 'https://blog.naver.com/mr_choo',\n",
       "   'postdate': '20211012'},\n",
       "  {'title': '제돈제산 소니 <b>WF-1000XM4</b> 리뷰 (구매동기와 디자인 평가)',\n",
       "   'link': 'https://blog.naver.com/copy98?Redirect=Log&logNo=222531822461',\n",
       "   'description': '다음 리뷰에서는 실제로 <b>WF-1000XM4</b>를 사용하면서 느낀 <b>후기</b>나 노이즈 캔슬링, 음질 (청음기)에 대해 남겨보려고 합니다. 지금까지 느낀점은 요즘 블루투스 이어폰도 많이 좋아졌구나, LDAC 끊김 별로 안심하다.... ',\n",
       "   'bloggername': 'IT매니아의 잇생',\n",
       "   'bloggerlink': 'https://blog.naver.com/copy98',\n",
       "   'postdate': '20211014'},\n",
       "  {'title': '소니 <b>wf</b> <b>1000xm4</b> 노이즈캔슬링 소니 이어폰 에어팟보다 좋아!',\n",
       "   'link': 'https://blog.naver.com/dlawldms0221?Redirect=Log&logNo=222593749433',\n",
       "   'description': '그래서 눈독을 들이게 된 게 바로 소니 <b>wf</b> <b>1000xm4</b> 입니다. 사실 이걸 구매하겠어!! 하고 정보 조사를 한 뒤... 3일 정도 사용한 뒤 적는 <b>후기</b>인데 이 기간동안 두 번? 밖에 떨어트리지 않았어요. 물론, 이어팁의... ',\n",
       "   'bloggername': '오늘 하루도 소소하게',\n",
       "   'bloggerlink': 'https://blog.naver.com/dlawldms0221',\n",
       "   'postdate': '20211212'},\n",
       "  {'title': '소니 <b>WF-1000XM4</b> 언박싱, 색상, 판매처 / 에어팟 프로도... ',\n",
       "   'link': 'https://blog.naver.com/hongkey92?Redirect=Log&logNo=222489546219',\n",
       "   'description': '내 마음을 완전히 사로잡은 이어폰 소니에서 새로운 블루투스 이어폰인 <b>WF-1000XM4</b>를 출시했다. 벌써부터... 공간감이 헤드폰 수준이라는 <b>후기</b>도 어디선가 봤는데 과장은 맞지만 허풍은 아니다. 이어폰에서 이... ',\n",
       "   'bloggername': '꿈날의 기록_夢日',\n",
       "   'bloggerlink': 'https://blog.naver.com/hongkey92',\n",
       "   'postdate': '20210830'},\n",
       "  {'title': '소니 <b>WF-1000XM4</b> 노이즈 캔슬링 블루투스 이어폰으로 닌텐도... ',\n",
       "   'link': 'https://blog.naver.com/rladnjsxo64?Redirect=Log&logNo=222554596071',\n",
       "   'description': '야외에서 사용해본 <b>후기</b>는 추후 포스팅 할 계획이고, 우선 개봉하자마자 집에서 바로 닌텐도 스위치 OLED에 연결해서 사용해봤어요. 소니 <b>WF-1000XM4</b> 노이즈 캔슬링 이어폰으로 닌텐도 스위치 연동하기... ',\n",
       "   'bloggername': '무라키의 데이 에세이',\n",
       "   'bloggerlink': 'https://blog.naver.com/rladnjsxo64',\n",
       "   'postdate': '20211031'},\n",
       "  {'title': '야외에서 제 기능을 발휘하는 소니 <b>WF-1000XM4</b> 무선 이어폰',\n",
       "   'link': 'https://blog.naver.com/chowb95?Redirect=Log&logNo=222570346176',\n",
       "   'description': '이정도만 봐도 <b>WF-1000XM4</b> 블루투스 이어폰을 선택할 이유는 충분하다고 느껴지네요. 앞으로 또 다른 미션 수행하면서 더 많은 리얼 <b>후기</b>로 돌아오겠습니다. ^^',\n",
       "   'bloggername': '한때왕팔뚝의 소소한 일상',\n",
       "   'bloggerlink': 'https://blog.naver.com/chowb95',\n",
       "   'postdate': '20211116'},\n",
       "  {'title': '노이즈 캔슬링 끝판왕, 소니 <b>WF-1000XM4</b> 블루투스 이어폰... ',\n",
       "   'link': 'https://blog.naver.com/neces2?Redirect=Log&logNo=222542951287',\n",
       "   'description': '오늘 이렇게 실제로 사용해본 노이즈 캔슬링 블루투스 이어폰 소니 <b>WF-1000XM4</b>의 <b>후기</b>를 전해드렸습니다. 디자인은 물론 휴대성까지 상당히 뛰어난 제품이었는데, 무엇보다 만족스러웠던 것은 풍부한 사운드... ',\n",
       "   'bloggername': '네세스의 IT STORY',\n",
       "   'bloggerlink': 'https://blog.naver.com/neces2',\n",
       "   'postdate': '20211020'}]}"
      ]
     },
     "execution_count": 12,
     "metadata": {},
     "output_type": "execute_result"
    }
   ],
   "source": [
    "t = naver_api(\"wf-1000xm4 후기\", 1, 30)\n",
    "t"
   ]
  },
  {
   "cell_type": "code",
   "execution_count": 34,
   "id": "778495a8",
   "metadata": {
    "ExecuteTime": {
     "end_time": "2022-04-18T05:13:53.782128Z",
     "start_time": "2022-04-18T05:13:51.225113Z"
    }
   },
   "outputs": [
    {
     "name": "stdout",
     "output_type": "stream",
     "text": [
      "start ++++++++++++++++++++\n",
      "start = 101\n",
      "repeat start ++++++++++++++++++++\n",
      "start = 201\n",
      "repeat start ++++++++++++++++++++\n",
      "start = 301\n",
      "repeat start ++++++++++++++++++++\n",
      "repeat End\n"
     ]
    }
   ],
   "source": [
    "test = item_parsing(\"wf-1000xm4 후기\", 1, 100, 3)"
   ]
  },
  {
   "cell_type": "code",
   "execution_count": 35,
   "id": "617f8f0b",
   "metadata": {
    "ExecuteTime": {
     "end_time": "2022-04-18T05:13:57.225666Z",
     "start_time": "2022-04-18T05:13:57.212667Z"
    }
   },
   "outputs": [
    {
     "data": {
      "text/plain": [
       "74"
      ]
     },
     "execution_count": 35,
     "metadata": {},
     "output_type": "execute_result"
    }
   ],
   "source": [
    "len(test[1])"
   ]
  },
  {
   "cell_type": "code",
   "execution_count": 36,
   "id": "b19fdcbd",
   "metadata": {
    "ExecuteTime": {
     "end_time": "2022-04-18T05:13:59.131918Z",
     "start_time": "2022-04-18T05:13:59.118280Z"
    }
   },
   "outputs": [
    {
     "data": {
      "text/plain": [
       "['소니 WF-1000XM4 노이즈 캔슬링 이어폰 개봉 후기... ',\n",
       " '무선 노이즈 캔슬링 이어폰 소니 WF-1000XM4 간단 후기',\n",
       " '준하는 노이즈캔슬링 소니 WF-1000XM4 무선이어폰 후기',\n",
       " '소니 무선 노이즈캔슬링 이어폰 WF-1000XM4 내돈내산 리뷰 후기',\n",
       " '[내돈내산 후기] 음질, 노캔 최강 소니 WF-1000XM4',\n",
       " '소니 이폰 WF-1000XM4 개봉기와 3개월 사용후기! 유일한... ',\n",
       " '소니 무선 이어폰 (SONY WF-1000XM4) 후기',\n",
       " 'SONY/소니 이어폰) WF-1000XM4 BME 사용후기',\n",
       " 'SONY WF-1000XM4 후기',\n",
       " '등 야외에서 사용해본 WF-1000XM4 노이즈 캔슬링 이어폰 후기',\n",
       " '소니 WF-1000XM4 무선이어폰 운동용으로 사용해본 후기',\n",
       " '소니 WF-1000xm4, 2주간의 실 사용후기',\n",
       " '노이즈캔슬링 소니 이어폰 WF-1000XM4 후기',\n",
       " '헤드폰에 도전하다 SONY WF-1000XM4 이어폰 구입 간단 후기',\n",
       " '소니 wf-1000xm4 음질 선물과 6주간 사용 후기',\n",
       " '성능 SONY WF-1000XM4 블루투스 무선이어폰 리얼 후기',\n",
       " '[블루투스 이어폰] 소니 WF-1000XM4 사용 후기ㅣ30대 남자... ',\n",
       " '(SONY) WF-1000XM4 노이즈캔슬링이어폰 일주일 사용기 후기',\n",
       " '소니 WF-1000XM4 일상 속 사용후기 : 노이즈캔스링이 필요한... ',\n",
       " '소니 WF-1000XM4 이어폰 내돈내산 후기 (노이즈 캔슬링... ',\n",
       " '소니 WF-1000XM4 사용 후기 (내돈내산)',\n",
       " '[Sony] WF-1000XM4 (무선이어폰) 구매 후기',\n",
       " '노이즈캔슬링 블루투스 무선 이어폰 소니 WF-1000XM4 사용 후기',\n",
       " '소니 WF-1000XM4, 네 번째 이야기: 영화 감상과 케이스 후기',\n",
       " '소니 WF-1000XM4 에코 케이스 카세트 디자인 사용후기',\n",
       " '소니 WF-1000XM4 구매 및 사용후기 작성해봅니다. (매우솔직)',\n",
       " '소니 노이즈 캔슬링 블루투스 이어폰 wf-1000xm4 구입 후기... ',\n",
       " '|내돈내산 후기| 소니 WF-1000XM4 노이즈 캔슬링 무선 이어폰... ',\n",
       " '사용후기 행하다ㅣWF-1000XM4ㅣSONY 노이즈캔슬링ㅣ소니 무선... ',\n",
       " '소니 WF-1000XM4 한달 사용후기 + 이어폰 케이스',\n",
       " 'WF-1000XM4 후기',\n",
       " '1년(소니 헤드셋 WH-1000XM4, 이어폰 WF-1000XM4 사용후기 후술)',\n",
       " 'WF-1000XM4 후기',\n",
       " 'Sony WF-1000XM4후기',\n",
       " '소니 WF-1000XM4 분실 후 XB900N 이베이 리퍼 직구 후기',\n",
       " '소니 WF-1000XM4 청음 후기',\n",
       " 'wf-1000xm4와 버즈프로의간단 사용 비교후기.ft  버즈... ',\n",
       " '야외에서 즐기는 몰입의즐가움! WF-1000XM4 사용 후기',\n",
       " 'WF-1000xm4 후기',\n",
       " '소니 블루투스 이어폰 WF-1000XM4 내돈내산 후기',\n",
       " '소니 Sony WF-1000XM4 후기 (1000xm3과 비교)',\n",
       " 'SONY WF-1000XM4 1주일 사용 후기',\n",
       " '디그니스 WF-1000xm4 케이스 후기',\n",
       " '소니 WF-1000XM4 5개월 후기 2부 A/S 후기포함',\n",
       " '소니 WF-1000xm4 3개월간 사용후기 (feat 에코 케이스 이벤트)',\n",
       " 'WF-1000xm4 후기 : 과도한 bass, 어려운 하우징.',\n",
       " 'WF-1000XM4 구입기와 후기',\n",
       " '소니 wf-1000xm4 1시간 사용후기',\n",
       " '소니 WF-1000XM4 5개월 후기',\n",
       " '소니 WF-1000XM4 후기 남편에게 몰입의즐거움을 선물하다',\n",
       " '느끼며 만보걷기 운동필수템  소니 WF-1000XM4 사용 후기',\n",
       " '[내돈내산 후기]소니 WF-1000XM4 노이즈캔슬링 이어폰/ 노캔... ',\n",
       " '[통화품질 테스트] 소니 WF-1000XM4 무선이어폰 솔직 후기',\n",
       " '소니 무선이어폰 WF-1000xm4 개쩐다.. 후기. 협찬X',\n",
       " 'SONY의 WF-1000XM4 사용후기 *** 진화하는 노캔, 갖고싶다!! ***',\n",
       " 'WF-1000XM4 역대급 코드리스 무선 이어폰 언박싱 및 후기... ',\n",
       " 'WF-1000XM4 // AS 후기 및 교환 제품 배터리 소모 비율',\n",
       " '[소니] WF-1000XM4 내돈내산 구매후기 - 구매경로/ 전작 비교... ',\n",
       " '소니 블루투스 이어폰 wf-1000xm4 감상후기.',\n",
       " 'wf-1000xm4 (지방)서비스 센터 후기!',\n",
       " '소니 wf-1000xm4 무선 노캔이어폰 구매후기',\n",
       " 'sony wf-1000xm4 2일차 사용 후기',\n",
       " '소니 SONY WF-1004XM4 무선... 내돈내산 솔직후기 feat.언박싱',\n",
       " '막귀의 블루투스 이어폰 wf-1000mx4 후기(feat. 소니 nw-a105)',\n",
       " '2년 만에 더 강해져서 돌아왔다. SONY WF-1000XM4 후기',\n",
       " '소니 WF-1000XM4 블루투스 이어폰 6주간 실사용 후기',\n",
       " '헤드폰에 도전하는 노이즈 캔슬링 소니 WF-1000XM4 몰입 후기',\n",
       " '소니 무선이어폰 WF-1000XM4 한달 사용 후기',\n",
       " '무선이어폰 소니 노이즈캔슬링 WF-1000XM4 한달사용후기',\n",
       " '소니 WF-1000XM4... LDAC 갤럭시 설정방법 및 사운드 후기',\n",
       " '소니 WF-1000XM4 블루투스... 및 Speak to Chat 주관적 사용후기',\n",
       " '소니 WF-1000XM4, 드비알레 제미니 실사용 후기',\n",
       " '후기 좋은 소니 WF-1000XM4 선물',\n",
       " '매입후기] JBL TUNE 225TWS 동종모델 소니 WF-1000XM4... ']"
      ]
     },
     "execution_count": 36,
     "metadata": {},
     "output_type": "execute_result"
    }
   ],
   "source": [
    "test[3]"
   ]
  },
  {
   "cell_type": "code",
   "execution_count": 48,
   "id": "8b8cab48",
   "metadata": {
    "ExecuteTime": {
     "end_time": "2022-04-18T04:23:51.228325Z",
     "start_time": "2022-04-18T04:23:51.215402Z"
    }
   },
   "outputs": [
    {
     "data": {
      "text/plain": [
       "5"
      ]
     },
     "execution_count": 48,
     "metadata": {},
     "output_type": "execute_result"
    }
   ],
   "source": [
    "len(test)"
   ]
  },
  {
   "cell_type": "code",
   "execution_count": 9,
   "id": "b18d76f8",
   "metadata": {
    "ExecuteTime": {
     "end_time": "2022-04-14T00:06:07.373607Z",
     "start_time": "2022-04-14T00:06:01.363487Z"
    }
   },
   "outputs": [
    {
     "name": "stdout",
     "output_type": "stream",
     "text": [
      "검색하고 싶은 단어를 입력해주세요.랩씨 마카롱 스마트 커버 후기\n"
     ]
    }
   ],
   "source": [
    "search_word = input(\"검색하고 싶은 단어를 입력해주세요.\")"
   ]
  },
  {
   "cell_type": "code",
   "execution_count": 60,
   "id": "33995998",
   "metadata": {
    "ExecuteTime": {
     "end_time": "2022-04-18T04:37:18.229980Z",
     "start_time": "2022-04-18T04:37:18.218437Z"
    }
   },
   "outputs": [],
   "source": [
    "a,b,c,d,e = test"
   ]
  },
  {
   "cell_type": "code",
   "execution_count": 61,
   "id": "e4641e5c",
   "metadata": {
    "ExecuteTime": {
     "end_time": "2022-04-18T04:37:21.243984Z",
     "start_time": "2022-04-18T04:37:21.230573Z"
    }
   },
   "outputs": [
    {
     "data": {
      "text/plain": [
       "['https://blog.naver.com/PostView.naver?blogId=haree42&logNo=222515987889',\n",
       " 'https://blog.naver.com/PostView.naver?blogId=2hailin&logNo=222658923116',\n",
       " 'https://blog.naver.com/PostView.naver?blogId=fresh0210&logNo=222701718217',\n",
       " 'https://blog.naver.com/PostView.naver?blogId=ksy7298&logNo=222546983672',\n",
       " 'https://blog.naver.com/PostView.naver?blogId=hiphoparr&logNo=222630821609',\n",
       " 'https://blog.naver.com/PostView.naver?blogId=schneesun85&logNo=222641462596',\n",
       " 'https://blog.naver.com/PostView.naver?blogId=gladys93&logNo=222523176060',\n",
       " 'https://blog.naver.com/PostView.naver?blogId=00dream00&logNo=222651006306',\n",
       " 'https://blog.naver.com/PostView.naver?blogId=gminish&logNo=222701091539',\n",
       " 'https://blog.naver.com/PostView.naver?blogId=yeezyboy&logNo=222702684111',\n",
       " 'https://blog.naver.com/PostView.naver?blogId=smilesong2&logNo=222551669309',\n",
       " 'https://blog.naver.com/PostView.naver?blogId=pgo3549&logNo=222665384884',\n",
       " 'https://blog.naver.com/PostView.naver?blogId=2hailin&logNo=222689505264',\n",
       " 'https://blog.naver.com/PostView.naver?blogId=forever2131&logNo=222461685613',\n",
       " 'https://blog.naver.com/PostView.naver?blogId=leoya96&logNo=222639839516',\n",
       " 'https://blog.naver.com/PostView.naver?blogId=dearluz&logNo=222664049685',\n",
       " 'https://blog.naver.com/PostView.naver?blogId=sookk0122&logNo=222651578511',\n",
       " 'https://blog.naver.com/PostView.naver?blogId=teddylisk&logNo=222470094837',\n",
       " 'https://blog.naver.com/PostView.naver?blogId=dalki0126&logNo=222657586923',\n",
       " 'https://blog.naver.com/PostView.naver?blogId=dreaminguth&logNo=222538095939',\n",
       " 'https://blog.naver.com/PostView.naver?blogId=lyj0088&logNo=222471465073',\n",
       " 'https://blog.naver.com/PostView.naver?blogId=sogeu_mi&logNo=222673329490',\n",
       " 'https://blog.naver.com/PostView.naver?blogId=smilesong2&logNo=222546087766',\n",
       " 'https://blog.naver.com/PostView.naver?blogId=nefangel&logNo=222613722170',\n",
       " 'https://blog.naver.com/PostView.naver?blogId=dalbin93&logNo=222673208902',\n",
       " 'https://blog.naver.com/PostView.naver?blogId=leoya96&logNo=222594457903',\n",
       " 'https://blog.naver.com/PostView.naver?blogId=shkm0507&logNo=222590451372',\n",
       " 'https://blog.naver.com/PostView.naver?blogId=calcio128&logNo=222630782848',\n",
       " 'https://blog.naver.com/PostView.naver?blogId=iove909&logNo=222634474805',\n",
       " 'https://blog.naver.com/PostView.naver?blogId=z_z0127&logNo=222624056171',\n",
       " 'https://blog.naver.com/PostView.naver?blogId=sg90929&logNo=222674723805',\n",
       " 'https://blog.naver.com/PostView.naver?blogId=midsummer923&logNo=222681034419',\n",
       " 'https://blog.naver.com/PostView.naver?blogId=oge83&logNo=222677951571',\n",
       " 'https://blog.naver.com/PostView.naver?blogId=ddang8986&logNo=222593663234',\n",
       " 'https://blog.naver.com/PostView.naver?blogId=peace_jsj&logNo=222660425766',\n",
       " 'https://blog.naver.com/PostView.naver?blogId=tiptopho&logNo=222650949635',\n",
       " 'https://blog.naver.com/PostView.naver?blogId=smilesong2&logNo=222546652521',\n",
       " 'https://blog.naver.com/PostView.naver?blogId=flysohigh29&logNo=222660823026',\n",
       " 'https://blog.naver.com/PostView.naver?blogId=rlatjgml1124&logNo=222670830038',\n",
       " 'https://blog.naver.com/PostView.naver?blogId=ddddi233&logNo=222680466616',\n",
       " 'https://blog.naver.com/PostView.naver?blogId=crbless&logNo=222691435564',\n",
       " 'https://blog.naver.com/PostView.naver?blogId=woodang273&logNo=222672255072',\n",
       " 'https://blog.naver.com/PostView.naver?blogId=iybeak82&logNo=222671572244',\n",
       " 'https://blog.naver.com/PostView.naver?blogId=oyoonsangs&logNo=222636428214',\n",
       " 'https://blog.naver.com/PostView.naver?blogId=glitter797&logNo=222602964894',\n",
       " 'https://blog.naver.com/PostView.naver?blogId=ryu_0927&logNo=222689243413',\n",
       " 'https://blog.naver.com/PostView.naver?blogId=smile0184&logNo=222666428337',\n",
       " 'https://blog.naver.com/PostView.naver?blogId=dkfehdqkd&logNo=222637206285',\n",
       " 'https://blog.naver.com/PostView.naver?blogId=tjcksdid911&logNo=222676517042',\n",
       " 'https://blog.naver.com/PostView.naver?blogId=jandask&logNo=222676349160',\n",
       " 'https://blog.naver.com/PostView.naver?blogId=formaj&logNo=222498560793',\n",
       " 'https://blog.naver.com/PostView.naver?blogId=parksso3&logNo=222615464405',\n",
       " 'https://blog.naver.com/PostView.naver?blogId=min11ju&logNo=222584029361',\n",
       " 'https://blog.naver.com/PostView.naver?blogId=hug387&logNo=222457237078',\n",
       " 'https://blog.naver.com/PostView.naver?blogId=ehdtlaghl123&logNo=222664803053',\n",
       " 'https://blog.naver.com/PostView.naver?blogId=pyk770124&logNo=222666952900',\n",
       " 'https://blog.naver.com/PostView.naver?blogId=formaj&logNo=222612484475',\n",
       " 'https://blog.naver.com/PostView.naver?blogId=ssomssom34&logNo=222663794980',\n",
       " 'https://blog.naver.com/PostView.naver?blogId=hotjewel&logNo=222650970365',\n",
       " 'https://blog.naver.com/PostView.naver?blogId=maria3670&logNo=222684760397',\n",
       " 'https://blog.naver.com/PostView.naver?blogId=arumikiki&logNo=222669816198',\n",
       " 'https://blog.naver.com/PostView.naver?blogId=kimhanseoul&logNo=222687009527',\n",
       " 'https://blog.naver.com/PostView.naver?blogId=ppoby1004&logNo=222449628192',\n",
       " 'https://blog.naver.com/PostView.naver?blogId=2_lime&logNo=222582146854',\n",
       " 'https://blog.naver.com/PostView.naver?blogId=chemicals3&logNo=222665594783',\n",
       " 'https://blog.naver.com/PostView.naver?blogId=gmyou33&logNo=222637214847',\n",
       " 'https://blog.naver.com/PostView.naver?blogId=firemangirl0424&logNo=222639903123',\n",
       " 'https://blog.naver.com/PostView.naver?blogId=bibiana32&logNo=222623255721',\n",
       " 'https://blog.naver.com/PostView.naver?blogId=kimmmm0512&logNo=222636351005',\n",
       " 'https://blog.naver.com/PostView.naver?blogId=rkrkapf49&logNo=222666045903',\n",
       " 'https://blog.naver.com/PostView.naver?blogId=god_0107288&logNo=222663533014',\n",
       " 'https://blog.naver.com/PostView.naver?blogId=shinhye&logNo=222661972228',\n",
       " 'https://blog.naver.com/PostView.naver?blogId=ahdtnsdl20&logNo=222605406427',\n",
       " 'https://blog.naver.com/PostView.naver?blogId=liaberry&logNo=222644228961',\n",
       " 'https://blog.naver.com/PostView.naver?blogId=jisanhan&logNo=222645294148',\n",
       " 'https://blog.naver.com/PostView.naver?blogId=danaminho&logNo=222694205315',\n",
       " 'https://blog.naver.com/PostView.naver?blogId=saddy237&logNo=222604876773',\n",
       " 'https://blog.naver.com/PostView.naver?blogId=gusot1127&logNo=222530051784',\n",
       " 'https://blog.naver.com/PostView.naver?blogId=moonhyoseung&logNo=222675062794',\n",
       " 'https://blog.naver.com/PostView.naver?blogId=imsejun&logNo=222688278121',\n",
       " 'https://blog.naver.com/PostView.naver?blogId=wlstnr78&logNo=222645585950',\n",
       " 'https://blog.naver.com/PostView.naver?blogId=milkypuppy&logNo=222577819253',\n",
       " 'https://blog.naver.com/PostView.naver?blogId=dusrud0208&logNo=222602527278',\n",
       " 'https://blog.naver.com/PostView.naver?blogId=deroseee&logNo=222636921172',\n",
       " 'https://blog.naver.com/PostView.naver?blogId=isb6941oos&logNo=222630240187',\n",
       " 'https://blog.naver.com/PostView.naver?blogId=chlwlsdud107&logNo=222642099469',\n",
       " 'https://blog.naver.com/PostView.naver?blogId=troopjoo&logNo=222671447607',\n",
       " 'https://blog.naver.com/PostView.naver?blogId=recordingme&logNo=222673967222',\n",
       " 'https://blog.naver.com/PostView.naver?blogId=peachdlek&logNo=222487704449',\n",
       " 'https://blog.naver.com/PostView.naver?blogId=stvremember1&logNo=222627576283',\n",
       " 'https://blog.naver.com/PostView.naver?blogId=pastelwhite&logNo=222519832878',\n",
       " 'https://blog.naver.com/PostView.naver?blogId=khyuk1739&logNo=222667957509',\n",
       " 'https://blog.naver.com/PostView.naver?blogId=yellowin23&logNo=222490546474',\n",
       " 'https://blog.naver.com/PostView.naver?blogId=tngustpwns&logNo=222656978038',\n",
       " 'https://blog.naver.com/PostView.naver?blogId=jaguar8709&logNo=222593859769',\n",
       " 'https://blog.naver.com/PostView.naver?blogId=park00kim00&logNo=222638891930',\n",
       " 'https://blog.naver.com/PostView.naver?blogId=rlaghdqn&logNo=222591300699',\n",
       " 'https://blog.naver.com/PostView.naver?blogId=3039998&logNo=222587049968',\n",
       " 'https://blog.naver.com/PostView.naver?blogId=jungnam018&logNo=222602128541',\n",
       " 'https://blog.naver.com/PostView.naver?blogId=n_n_v_v&logNo=222649975205',\n",
       " 'https://blog.naver.com/PostView.naver?blogId=f-oo-d&logNo=222448645287',\n",
       " 'https://blog.naver.com/PostView.naver?blogId=hielmoshop&logNo=222483889091',\n",
       " 'https://blog.naver.com/PostView.naver?blogId=chaerinist0915&logNo=222655548848',\n",
       " 'https://blog.naver.com/PostView.naver?blogId=1000wisdom_&logNo=222624635159',\n",
       " 'https://blog.naver.com/PostView.naver?blogId=lilycoco0623&logNo=222640437758',\n",
       " 'https://blog.naver.com/PostView.naver?blogId=healing-shield&logNo=222618730377',\n",
       " 'https://blog.naver.com/PostView.naver?blogId=wkddbqlsjjj&logNo=222662526054',\n",
       " 'https://blog.naver.com/PostView.naver?blogId=sks3740&logNo=222619250689',\n",
       " 'https://blog.naver.com/PostView.naver?blogId=yurikim93022&logNo=222495816062',\n",
       " 'https://blog.naver.com/PostView.naver?blogId=6huip&logNo=222521801069',\n",
       " 'https://blog.naver.com/PostView.naver?blogId=upskyup&logNo=222614732378',\n",
       " 'https://blog.naver.com/PostView.naver?blogId=healing-shield&logNo=222597245416',\n",
       " 'https://blog.naver.com/PostView.naver?blogId=wjdalsdl5231&logNo=222609371240',\n",
       " 'https://blog.naver.com/PostView.naver?blogId=cicumuns&logNo=222450670729',\n",
       " 'https://blog.naver.com/PostView.naver?blogId=anne123123&logNo=222619670428',\n",
       " 'https://blog.naver.com/PostView.naver?blogId=seoyoung4057&logNo=222450255807',\n",
       " 'https://blog.naver.com/PostView.naver?blogId=kjw1030&logNo=222665595248',\n",
       " 'https://blog.naver.com/PostView.naver?blogId=bearbot&logNo=222529537768',\n",
       " 'https://blog.naver.com/PostView.naver?blogId=dhtjddms49&logNo=222677365459',\n",
       " 'https://blog.naver.com/PostView.naver?blogId=asdnono&logNo=222579211900',\n",
       " 'https://blog.naver.com/PostView.naver?blogId=nycusq&logNo=222652593342',\n",
       " 'https://blog.naver.com/PostView.naver?blogId=cswlkcc1014&logNo=222479284742',\n",
       " 'https://blog.naver.com/PostView.naver?blogId=gr1115&logNo=222615381243',\n",
       " 'https://blog.naver.com/PostView.naver?blogId=dhkdqhdrbs&logNo=222595900350',\n",
       " 'https://blog.naver.com/PostView.naver?blogId=nycusq&logNo=222658231047',\n",
       " 'https://blog.naver.com/PostView.naver?blogId=chj7960&logNo=222447113453',\n",
       " 'https://blog.naver.com/PostView.naver?blogId=1000wisdom_&logNo=222608833585',\n",
       " 'https://blog.naver.com/PostView.naver?blogId=tongtongazoc&logNo=222564380932',\n",
       " 'https://blog.naver.com/PostView.naver?blogId=allngood&logNo=222559080547',\n",
       " 'https://blog.naver.com/PostView.naver?blogId=vilijoe&logNo=222575455331',\n",
       " 'https://blog.naver.com/PostView.naver?blogId=sunnybaby93&logNo=222546968894',\n",
       " 'https://blog.naver.com/PostView.naver?blogId=ipsoskorea06&logNo=222562148753',\n",
       " 'https://blog.naver.com/PostView.naver?blogId=honeyminzz&logNo=222604889426',\n",
       " 'https://blog.naver.com/PostView.naver?blogId=wemira7878&logNo=222607893148',\n",
       " 'https://blog.naver.com/PostView.naver?blogId=hwa4427272&logNo=222463084162',\n",
       " 'https://blog.naver.com/PostView.naver?blogId=lovesarah80&logNo=222534075633',\n",
       " 'https://blog.naver.com/PostView.naver?blogId=kusailsaeng94&logNo=222677373780',\n",
       " 'https://blog.naver.com/PostView.naver?blogId=jungseop2&logNo=222494639284',\n",
       " 'https://blog.naver.com/PostView.naver?blogId=wom134512&logNo=222458156828',\n",
       " 'https://blog.naver.com/PostView.naver?blogId=mohae5&logNo=222703344200',\n",
       " 'https://blog.naver.com/PostView.naver?blogId=jeonghj-3700&logNo=222655995032',\n",
       " 'https://blog.naver.com/PostView.naver?blogId=redpjm&logNo=222615797156',\n",
       " 'https://blog.naver.com/PostView.naver?blogId=wclim21&logNo=222454573369',\n",
       " 'https://blog.naver.com/PostView.naver?blogId=chyh173&logNo=222656852511',\n",
       " 'https://blog.naver.com/PostView.naver?blogId=mohae5&logNo=222703344200',\n",
       " 'https://blog.naver.com/PostView.naver?blogId=jeonghj-3700&logNo=222655995032',\n",
       " 'https://blog.naver.com/PostView.naver?blogId=redpjm&logNo=222615797156',\n",
       " 'https://blog.naver.com/PostView.naver?blogId=wclim21&logNo=222454573369',\n",
       " 'https://blog.naver.com/PostView.naver?blogId=chyh173&logNo=222656852511']"
      ]
     },
     "execution_count": 61,
     "metadata": {},
     "output_type": "execute_result"
    }
   ],
   "source": [
    "a"
   ]
  },
  {
   "cell_type": "code",
   "execution_count": 62,
   "id": "06dc9ce8",
   "metadata": {
    "ExecuteTime": {
     "end_time": "2022-04-18T04:37:24.130630Z",
     "start_time": "2022-04-18T04:37:24.102611Z"
    }
   },
   "outputs": [
    {
     "data": {
      "text/plain": [
       "149"
      ]
     },
     "execution_count": 62,
     "metadata": {},
     "output_type": "execute_result"
    }
   ],
   "source": [
    "len(e)"
   ]
  },
  {
   "cell_type": "code",
   "execution_count": 63,
   "id": "5ca60ce3",
   "metadata": {
    "ExecuteTime": {
     "end_time": "2022-04-18T04:39:08.493854Z",
     "start_time": "2022-04-18T04:37:39.101241Z"
    }
   },
   "outputs": [
    {
     "name": "stderr",
     "output_type": "stream",
     "text": [
      "100%|████████████████████████████████████████████████████████████████████████████████| 149/149 [01:29<00:00,  1.67it/s]\n"
     ]
    }
   ],
   "source": [
    "result = []\n",
    "for i in tqdm(range(len(e))):\n",
    "    result.append(blog_content_parsing(a[i]))"
   ]
  },
  {
   "cell_type": "code",
   "execution_count": 17,
   "id": "f1c50af9",
   "metadata": {
    "ExecuteTime": {
     "end_time": "2022-04-18T00:54:39.124995Z",
     "start_time": "2022-04-18T00:54:39.102608Z"
    }
   },
   "outputs": [],
   "source": [
    "df = pd.DataFrame()"
   ]
  },
  {
   "cell_type": "code",
   "execution_count": 18,
   "id": "ef315417",
   "metadata": {
    "ExecuteTime": {
     "end_time": "2022-04-18T01:25:57.254552Z",
     "start_time": "2022-04-18T01:25:57.227560Z"
    }
   },
   "outputs": [],
   "source": [
    "df[\"content\"] = result"
   ]
  },
  {
   "cell_type": "code",
   "execution_count": null,
   "id": "bbc6f0a1",
   "metadata": {},
   "outputs": [],
   "source": []
  },
  {
   "cell_type": "code",
   "execution_count": 13,
   "id": "d485c54d",
   "metadata": {
    "ExecuteTime": {
     "end_time": "2022-04-18T00:48:29.141730Z",
     "start_time": "2022-04-18T00:48:29.119102Z"
    }
   },
   "outputs": [
    {
     "data": {
      "text/plain": [
       "10"
      ]
     },
     "execution_count": 13,
     "metadata": {},
     "output_type": "execute_result"
    }
   ],
   "source": [
    "len(result)"
   ]
  },
  {
   "cell_type": "code",
   "execution_count": 64,
   "id": "fab75c45",
   "metadata": {
    "ExecuteTime": {
     "end_time": "2022-04-18T04:39:21.251856Z",
     "start_time": "2022-04-18T04:39:21.223280Z"
    }
   },
   "outputs": [],
   "source": [
    "df = pd.DataFrame()\n",
    "df[\"url\"] = a\n",
    "df[\"writer\"] = b\n",
    "df[\"title\"] = d\n",
    "df[\"description\"] = e\n",
    "df[\"content\"] = result\n"
   ]
  },
  {
   "cell_type": "code",
   "execution_count": 65,
   "id": "ce514086",
   "metadata": {
    "ExecuteTime": {
     "end_time": "2022-04-18T04:39:24.177884Z",
     "start_time": "2022-04-18T04:39:24.122557Z"
    }
   },
   "outputs": [
    {
     "data": {
      "text/html": [
       "<div>\n",
       "<style scoped>\n",
       "    .dataframe tbody tr th:only-of-type {\n",
       "        vertical-align: middle;\n",
       "    }\n",
       "\n",
       "    .dataframe tbody tr th {\n",
       "        vertical-align: top;\n",
       "    }\n",
       "\n",
       "    .dataframe thead th {\n",
       "        text-align: right;\n",
       "    }\n",
       "</style>\n",
       "<table border=\"1\" class=\"dataframe\">\n",
       "  <thead>\n",
       "    <tr style=\"text-align: right;\">\n",
       "      <th></th>\n",
       "      <th>url</th>\n",
       "      <th>writer</th>\n",
       "      <th>title</th>\n",
       "      <th>description</th>\n",
       "      <th>content</th>\n",
       "    </tr>\n",
       "  </thead>\n",
       "  <tbody>\n",
       "    <tr>\n",
       "      <th>0</th>\n",
       "      <td>https://blog.naver.com/PostView.naver?blogId=h...</td>\n",
       "      <td>haree42</td>\n",
       "      <td>엘지 LG 스탠바이미 한달만에 받은 내돈내산 후기. (+가격)</td>\n",
       "      <td>오늘은 근 한달정도 걸려 받은 LG 스탠바이미 내돈내산 후기로 찾아왔는데요- 품절이...</td>\n",
       "      <td>스탠바이미 한달만에 받은 내돈내산 후기 안녕하세요 도뜨입니다. 오늘은 근 한달정도 ...</td>\n",
       "    </tr>\n",
       "    <tr>\n",
       "      <th>1</th>\n",
       "      <td>https://blog.naver.com/PostView.naver?blogId=2...</td>\n",
       "      <td>2hailin</td>\n",
       "      <td>LG 스탠바이미 드디어 구매, 내돈내산 솔직후기 :D</td>\n",
       "      <td>갖고싶었던 #LG스탠바이미 를 드디어 구매했어요. 그 동안 물량이 부족한 탓인지 구...</td>\n",
       "      <td>1년 전부터 너무나 갖고싶었던 스탠바이미 를 드디어 구매했어요. 그 동안 물량이 부...</td>\n",
       "    </tr>\n",
       "    <tr>\n",
       "      <th>2</th>\n",
       "      <td>https://blog.naver.com/PostView.naver?blogId=f...</td>\n",
       "      <td>fresh0210</td>\n",
       "      <td>LG 스탠바이미 내돈내산 사용후기 남겨보아요.</td>\n",
       "      <td>LG스탠바이미는 넷플릭스, 웨이브, 유튜브, 디즈니+, 왓챠 등 다양한 OTT앱이 ...</td>\n",
       "      <td>엘지 스탠바이미 하나만으로 인테리어 효과 만점이에요. 넷플릭스, 웨이브, 티빙, 디...</td>\n",
       "    </tr>\n",
       "    <tr>\n",
       "      <th>3</th>\n",
       "      <td>https://blog.naver.com/PostView.naver?blogId=k...</td>\n",
       "      <td>ksy7298</td>\n",
       "      <td>LG 스탠바이미 TV 내돈내산 사용후기</td>\n",
       "      <td>연결하면 스탠드 하단에 빨간불이 들어오고 완충되면 초록불이 들어와서 충전선을 빼고 ...</td>\n",
       "      <td>자기전 빔프로젝트로 천장에 쏘아 넷플이나 유트뷰 보는걸 좋아하는 아내가 천장으로 올...</td>\n",
       "    </tr>\n",
       "    <tr>\n",
       "      <th>4</th>\n",
       "      <td>https://blog.naver.com/PostView.naver?blogId=h...</td>\n",
       "      <td>hiphoparr</td>\n",
       "      <td>LG - 스탠바이미 구매. 사용 후기 (내돈내산)</td>\n",
       "      <td>PS2: 집이 아니더라도 충전의 번거로움은 있으나, 병원,학원 기타등등의 곳에서 사...</td>\n",
       "      <td>안녕하세요 푸른바다전설 입니다. 얼마전에 스탠바이미를 구입하게 되었습니다. 요즘 스...</td>\n",
       "    </tr>\n",
       "    <tr>\n",
       "      <th>...</th>\n",
       "      <td>...</td>\n",
       "      <td>...</td>\n",
       "      <td>...</td>\n",
       "      <td>...</td>\n",
       "      <td>...</td>\n",
       "    </tr>\n",
       "    <tr>\n",
       "      <th>144</th>\n",
       "      <td>https://blog.naver.com/PostView.naver?blogId=m...</td>\n",
       "      <td>mohae5</td>\n",
       "      <td>[LG TV] lg스탠바이미 2개월 사용 후기(스마트tv)-lg전자...</td>\n",
       "      <td>#스탠바이미 #내돈내산 #스마트티비 #lg샵 #lg티비 ****(4/5) HAPPY...</td>\n",
       "      <td>스탠바이미 내돈내산 스마트티비 샵 티비 4 5  이동 가능 터치 조작 가능 리모컨 ...</td>\n",
       "    </tr>\n",
       "    <tr>\n",
       "      <th>145</th>\n",
       "      <td>https://blog.naver.com/PostView.naver?blogId=j...</td>\n",
       "      <td>jeonghj-3700</td>\n",
       "      <td>LG 스탠바이미 리얼 후기</td>\n",
       "      <td>LG 스탠바이미 리얼 후기 오... 근데 이게 인기가 그렇게많네? “기발한 것 같은...</td>\n",
       "      <td>스탠바이미 리얼 후기 오... 근데 이게 인기가 그렇게많네? 기발한 것 같은데 휴대...</td>\n",
       "    </tr>\n",
       "    <tr>\n",
       "      <th>146</th>\n",
       "      <td>https://blog.naver.com/PostView.naver?blogId=r...</td>\n",
       "      <td>redpjm</td>\n",
       "      <td>[TV할인, 후기] LG전자 스탠바이미 27ART10AKPL 스마트 TV...</td>\n",
       "      <td>모바일의 NFC 기능을 켜고 스탠바이미 후면 NFC 로고에 가볍게 탭하면 미러링은 ...</td>\n",
       "      <td>전자 스탠바이미 27 10 스마트 텔레비전 리뷰 및 가격 정보 추천 안녕하세요! 오...</td>\n",
       "    </tr>\n",
       "    <tr>\n",
       "      <th>147</th>\n",
       "      <td>https://blog.naver.com/PostView.naver?blogId=w...</td>\n",
       "      <td>wclim21</td>\n",
       "      <td>LG 스탠바이미 설치후기</td>\n",
       "      <td>어머니 생신선물로 사드린 LG 스탠바이미가 오늘 도착하였다. 제품은 훌륭하고 만족스...</td>\n",
       "      <td>어머니 생신선물로 사드린 스탠바이미가 오늘 도착하였다. 제품은 훌륭하고 만족스럽다....</td>\n",
       "    </tr>\n",
       "    <tr>\n",
       "      <th>148</th>\n",
       "      <td>https://blog.naver.com/PostView.naver?blogId=c...</td>\n",
       "      <td>chyh173</td>\n",
       "      <td>LG 프라이빗 스마트 스크린... 스탠바이미 TV 리뷰 후기...</td>\n",
       "      <td>LG thinkQ 앱은 필수입니다. 4k 8k없는집에서는 화질 이정도로도 좋네요~~...</td>\n",
       "      <td>실사용자의 리뷰는 제품을 구매하는데 매우 중요한 참고자료입니다. 하지만, 광고 및 ...</td>\n",
       "    </tr>\n",
       "  </tbody>\n",
       "</table>\n",
       "<p>149 rows × 5 columns</p>\n",
       "</div>"
      ],
      "text/plain": [
       "                                                   url        writer  \\\n",
       "0    https://blog.naver.com/PostView.naver?blogId=h...       haree42   \n",
       "1    https://blog.naver.com/PostView.naver?blogId=2...       2hailin   \n",
       "2    https://blog.naver.com/PostView.naver?blogId=f...     fresh0210   \n",
       "3    https://blog.naver.com/PostView.naver?blogId=k...       ksy7298   \n",
       "4    https://blog.naver.com/PostView.naver?blogId=h...     hiphoparr   \n",
       "..                                                 ...           ...   \n",
       "144  https://blog.naver.com/PostView.naver?blogId=m...        mohae5   \n",
       "145  https://blog.naver.com/PostView.naver?blogId=j...  jeonghj-3700   \n",
       "146  https://blog.naver.com/PostView.naver?blogId=r...        redpjm   \n",
       "147  https://blog.naver.com/PostView.naver?blogId=w...       wclim21   \n",
       "148  https://blog.naver.com/PostView.naver?blogId=c...       chyh173   \n",
       "\n",
       "                                            title  \\\n",
       "0              엘지 LG 스탠바이미 한달만에 받은 내돈내산 후기. (+가격)   \n",
       "1                   LG 스탠바이미 드디어 구매, 내돈내산 솔직후기 :D   \n",
       "2                       LG 스탠바이미 내돈내산 사용후기 남겨보아요.   \n",
       "3                           LG 스탠바이미 TV 내돈내산 사용후기   \n",
       "4                     LG - 스탠바이미 구매. 사용 후기 (내돈내산)   \n",
       "..                                            ...   \n",
       "144     [LG TV] lg스탠바이미 2개월 사용 후기(스마트tv)-lg전자...    \n",
       "145                                LG 스탠바이미 리얼 후기   \n",
       "146  [TV할인, 후기] LG전자 스탠바이미 27ART10AKPL 스마트 TV...    \n",
       "147                                 LG 스탠바이미 설치후기   \n",
       "148         LG 프라이빗 스마트 스크린... 스탠바이미 TV 리뷰 후기...    \n",
       "\n",
       "                                           description  \\\n",
       "0    오늘은 근 한달정도 걸려 받은 LG 스탠바이미 내돈내산 후기로 찾아왔는데요- 품절이...   \n",
       "1    갖고싶었던 #LG스탠바이미 를 드디어 구매했어요. 그 동안 물량이 부족한 탓인지 구...   \n",
       "2    LG스탠바이미는 넷플릭스, 웨이브, 유튜브, 디즈니+, 왓챠 등 다양한 OTT앱이 ...   \n",
       "3    연결하면 스탠드 하단에 빨간불이 들어오고 완충되면 초록불이 들어와서 충전선을 빼고 ...   \n",
       "4    PS2: 집이 아니더라도 충전의 번거로움은 있으나, 병원,학원 기타등등의 곳에서 사...   \n",
       "..                                                 ...   \n",
       "144  #스탠바이미 #내돈내산 #스마트티비 #lg샵 #lg티비 ****(4/5) HAPPY...   \n",
       "145  LG 스탠바이미 리얼 후기 오... 근데 이게 인기가 그렇게많네? “기발한 것 같은...   \n",
       "146  모바일의 NFC 기능을 켜고 스탠바이미 후면 NFC 로고에 가볍게 탭하면 미러링은 ...   \n",
       "147  어머니 생신선물로 사드린 LG 스탠바이미가 오늘 도착하였다. 제품은 훌륭하고 만족스...   \n",
       "148  LG thinkQ 앱은 필수입니다. 4k 8k없는집에서는 화질 이정도로도 좋네요~~...   \n",
       "\n",
       "                                               content  \n",
       "0    스탠바이미 한달만에 받은 내돈내산 후기 안녕하세요 도뜨입니다. 오늘은 근 한달정도 ...  \n",
       "1    1년 전부터 너무나 갖고싶었던 스탠바이미 를 드디어 구매했어요. 그 동안 물량이 부...  \n",
       "2    엘지 스탠바이미 하나만으로 인테리어 효과 만점이에요. 넷플릭스, 웨이브, 티빙, 디...  \n",
       "3    자기전 빔프로젝트로 천장에 쏘아 넷플이나 유트뷰 보는걸 좋아하는 아내가 천장으로 올...  \n",
       "4    안녕하세요 푸른바다전설 입니다. 얼마전에 스탠바이미를 구입하게 되었습니다. 요즘 스...  \n",
       "..                                                 ...  \n",
       "144  스탠바이미 내돈내산 스마트티비 샵 티비 4 5  이동 가능 터치 조작 가능 리모컨 ...  \n",
       "145  스탠바이미 리얼 후기 오... 근데 이게 인기가 그렇게많네? 기발한 것 같은데 휴대...  \n",
       "146  전자 스탠바이미 27 10 스마트 텔레비전 리뷰 및 가격 정보 추천 안녕하세요! 오...  \n",
       "147  어머니 생신선물로 사드린 스탠바이미가 오늘 도착하였다. 제품은 훌륭하고 만족스럽다....  \n",
       "148  실사용자의 리뷰는 제품을 구매하는데 매우 중요한 참고자료입니다. 하지만, 광고 및 ...  \n",
       "\n",
       "[149 rows x 5 columns]"
      ]
     },
     "execution_count": 65,
     "metadata": {},
     "output_type": "execute_result"
    }
   ],
   "source": [
    "df"
   ]
  },
  {
   "cell_type": "code",
   "execution_count": 66,
   "id": "3b08d025",
   "metadata": {
    "ExecuteTime": {
     "end_time": "2022-04-18T04:39:39.154509Z",
     "start_time": "2022-04-18T04:39:39.112483Z"
    }
   },
   "outputs": [],
   "source": [
    "df.to_csv(\"craw_스탠바이미.csv\", index= False,encoding=\"utf-8-sig\")"
   ]
  },
  {
   "cell_type": "code",
   "execution_count": null,
   "id": "5fbd3e3d",
   "metadata": {},
   "outputs": [],
   "source": []
  }
 ],
 "metadata": {
  "kernelspec": {
   "display_name": "Python 3 (ipykernel)",
   "language": "python",
   "name": "python3"
  },
  "language_info": {
   "codemirror_mode": {
    "name": "ipython",
    "version": 3
   },
   "file_extension": ".py",
   "mimetype": "text/x-python",
   "name": "python",
   "nbconvert_exporter": "python",
   "pygments_lexer": "ipython3",
   "version": "3.8.8"
  },
  "toc": {
   "base_numbering": 1,
   "nav_menu": {},
   "number_sections": true,
   "sideBar": true,
   "skip_h1_title": false,
   "title_cell": "Table of Contents",
   "title_sidebar": "Contents",
   "toc_cell": false,
   "toc_position": {},
   "toc_section_display": true,
   "toc_window_display": false
  },
  "varInspector": {
   "cols": {
    "lenName": 16,
    "lenType": 16,
    "lenVar": 40
   },
   "kernels_config": {
    "python": {
     "delete_cmd_postfix": "",
     "delete_cmd_prefix": "del ",
     "library": "var_list.py",
     "varRefreshCmd": "print(var_dic_list())"
    },
    "r": {
     "delete_cmd_postfix": ") ",
     "delete_cmd_prefix": "rm(",
     "library": "var_list.r",
     "varRefreshCmd": "cat(var_dic_list()) "
    }
   },
   "types_to_exclude": [
    "module",
    "function",
    "builtin_function_or_method",
    "instance",
    "_Feature"
   ],
   "window_display": false
  }
 },
 "nbformat": 4,
 "nbformat_minor": 5
}
